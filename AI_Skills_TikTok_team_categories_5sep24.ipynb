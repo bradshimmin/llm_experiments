{
  "nbformat": 4,
  "nbformat_minor": 0,
  "metadata": {
    "colab": {
      "provenance": [],
      "include_colab_link": true
    },
    "kernelspec": {
      "name": "python3",
      "display_name": "Python 3"
    },
    "language_info": {
      "name": "python"
    }
  },
  "cells": [
    {
      "cell_type": "markdown",
      "metadata": {
        "id": "view-in-github",
        "colab_type": "text"
      },
      "source": [
        "<a href=\"https://colab.research.google.com/github/bradshimmin/llm_experiments/blob/main/AI_Skills_TikTok_team_categories_5sep24.ipynb\" target=\"_parent\"><img src=\"https://colab.research.google.com/assets/colab-badge.svg\" alt=\"Open In Colab\"/></a>"
      ]
    },
    {
      "cell_type": "code",
      "execution_count": 1,
      "metadata": {
        "id": "R2Zm8HGgT2xI",
        "colab": {
          "base_uri": "https://localhost:8080/"
        },
        "outputId": "6aaaa051-a65c-4484-d714-5b15ad05bc4b"
      },
      "outputs": [
        {
          "output_type": "stream",
          "name": "stdout",
          "text": [
            "\u001b[2K   \u001b[90m━━━━━━━━━━━━━━━━━━━━━━━━━━━━━━━━━━━━━━━━\u001b[0m \u001b[32m365.7/365.7 kB\u001b[0m \u001b[31m7.1 MB/s\u001b[0m eta \u001b[36m0:00:00\u001b[0m\n",
            "\u001b[2K   \u001b[90m━━━━━━━━━━━━━━━━━━━━━━━━━━━━━━━━━━━━━━━━\u001b[0m \u001b[32m1.1/1.1 MB\u001b[0m \u001b[31m21.1 MB/s\u001b[0m eta \u001b[36m0:00:00\u001b[0m\n",
            "\u001b[2K   \u001b[90m━━━━━━━━━━━━━━━━━━━━━━━━━━━━━━━━━━━━━━━━\u001b[0m \u001b[32m76.4/76.4 kB\u001b[0m \u001b[31m4.2 MB/s\u001b[0m eta \u001b[36m0:00:00\u001b[0m\n",
            "\u001b[2K   \u001b[90m━━━━━━━━━━━━━━━━━━━━━━━━━━━━━━━━━━━━━━━━\u001b[0m \u001b[32m77.9/77.9 kB\u001b[0m \u001b[31m3.5 MB/s\u001b[0m eta \u001b[36m0:00:00\u001b[0m\n",
            "\u001b[2K   \u001b[90m━━━━━━━━━━━━━━━━━━━━━━━━━━━━━━━━━━━━━━━━\u001b[0m \u001b[32m318.9/318.9 kB\u001b[0m \u001b[31m11.1 MB/s\u001b[0m eta \u001b[36m0:00:00\u001b[0m\n",
            "\u001b[2K   \u001b[90m━━━━━━━━━━━━━━━━━━━━━━━━━━━━━━━━━━━━━━━━\u001b[0m \u001b[32m58.3/58.3 kB\u001b[0m \u001b[31m2.2 MB/s\u001b[0m eta \u001b[36m0:00:00\u001b[0m\n",
            "\u001b[?25h"
          ]
        }
      ],
      "source": [
        "# Set up software\n",
        "#\n",
        "!pip -q install openai tiktoken\n"
      ]
    },
    {
      "cell_type": "code",
      "source": [
        "# Import libraries\n",
        "#\n",
        "import os\n",
        "import openai\n",
        "import pandas as pd\n",
        "import numpy as np\n",
        "from datetime import datetime, timedelta\n",
        "import textwrap\n",
        "import tiktoken\n",
        "import typing\n",
        "\n",
        "from enum import Enum\n",
        "from typing import Union\n",
        "from openai import OpenAI\n",
        "from pydantic import BaseModel, Field\n",
        "from typing import List, Dict\n",
        "\n",
        "print(\"all done\")"
      ],
      "metadata": {
        "id": "xEhpYTvbUdXZ",
        "colab": {
          "base_uri": "https://localhost:8080/"
        },
        "outputId": "9075f1dc-80e1-4bb8-d16e-b2003b28c507"
      },
      "execution_count": 2,
      "outputs": [
        {
          "output_type": "stream",
          "name": "stdout",
          "text": [
            "all done\n"
          ]
        }
      ]
    },
    {
      "cell_type": "code",
      "source": [
        "# Load openai key\n",
        "#\n",
        "from google.colab import userdata\n",
        "os.environ[\"OPENAI_API_KEY\"] = userdata.get('OpenAI_key')"
      ],
      "metadata": {
        "id": "ohJ5EGCt_VM9"
      },
      "execution_count": 3,
      "outputs": []
    },
    {
      "cell_type": "markdown",
      "source": [
        "---\n",
        "# Set up AI Skills data"
      ],
      "metadata": {
        "id": "eaHRqJfb_44U"
      }
    },
    {
      "cell_type": "code",
      "source": [
        "# Mount Google Drive\n",
        "#\n",
        "from google.colab import drive\n",
        "drive.mount('/content/gdrive')\n",
        "\n",
        "print(\"all done\")"
      ],
      "metadata": {
        "colab": {
          "base_uri": "https://localhost:8080/"
        },
        "id": "Aeg70RDKANtq",
        "outputId": "7873ce09-7778-4d3b-ccf9-89e79f7b6b32"
      },
      "execution_count": 4,
      "outputs": [
        {
          "output_type": "stream",
          "name": "stdout",
          "text": [
            "Mounted at /content/gdrive\n",
            "all done\n"
          ]
        }
      ]
    },
    {
      "cell_type": "code",
      "source": [
        "# Load our sample dataset using 2q24 cleaned df\n",
        "#\n",
        "# df_sample = pd.read_pickle(\"/content/gdrive/MyDrive/Colab Notebooks/Datasets/ai_skills_tracker/ai_skills_2q24/ai_skills_2q24_final_clean_28aug24.pkl\")\n"
      ],
      "metadata": {
        "id": "z7F8604s2rM_"
      },
      "execution_count": 5,
      "outputs": []
    },
    {
      "cell_type": "code",
      "source": [
        "# Load the data from our earlier run\n",
        "df_sample = pd.read_pickle('/content/gdrive/MyDrive/Colab Notebooks/Datasets/df_ner_tiktok_30aug24.pkl')"
      ],
      "metadata": {
        "id": "3LeAvmSAwqDZ"
      },
      "execution_count": 67,
      "outputs": []
    },
    {
      "cell_type": "code",
      "source": [
        "df_sample.shape"
      ],
      "metadata": {
        "colab": {
          "base_uri": "https://localhost:8080/"
        },
        "id": "wxe8qv5b9g-7",
        "outputId": "15be5aab-8087-4e4d-fbc4-c2f1bcfaa3a1"
      },
      "execution_count": 68,
      "outputs": [
        {
          "output_type": "execute_result",
          "data": {
            "text/plain": [
              "(139, 33)"
            ]
          },
          "metadata": {},
          "execution_count": 68
        }
      ]
    },
    {
      "cell_type": "code",
      "source": [
        "df_sample.head(n=2)"
      ],
      "metadata": {
        "colab": {
          "base_uri": "https://localhost:8080/",
          "height": 370
        },
        "id": "cWMovi-E70SP",
        "outputId": "4eca82ba-ba51-4413-d3e0-63fe84d8e70a"
      },
      "execution_count": 69,
      "outputs": [
        {
          "output_type": "execute_result",
          "data": {
            "text/plain": [
              "        RecordID                                          Job title  \\\n",
              "263036    263037  Machine Learning Engineer, TikTok Trust and Sa...   \n",
              "263037    263038        Machine Learning Engineer, Risk Data Mining   \n",
              "\n",
              "                                     Full job description Date collected  \\\n",
              "263036  Responsibilities TikTok is the leading destina...           None   \n",
              "263037  Responsibilities TikTok is the leading destina...           None   \n",
              "\n",
              "       Date posted  Week  Year  Month Quarter Hiring entity  ...  \\\n",
              "263036  2024-03-15    11  2024      3  2024Q1        TikTok  ...   \n",
              "263037  2024-03-15    11  2024      3  2024Q1        TikTok  ...   \n",
              "\n",
              "                  Main industry Source name  \\\n",
              "263036                  No data   Glassdoor   \n",
              "263037  Entertainment Providers    LinkedIn   \n",
              "\n",
              "                                               Source URL   File Date  \\\n",
              "263036  https://www.glassdoor.com/partner/jobListing.h...  2024-01-01   \n",
              "263037  https://www.linkedin.com/jobs/view/machine-lea...  2024-01-01   \n",
              "\n",
              "                                                    title  \\\n",
              "263036                          Machine Learning Engineer   \n",
              "263037  Machine Learning Engineer - Business Risk Inte...   \n",
              "\n",
              "                                                role  \\\n",
              "263036  Machine Learning Engineer - Trust and Safety   \n",
              "263037                     Machine Learning Engineer   \n",
              "\n",
              "                                               objectives  \\\n",
              "263036  [objectives=['Design and develop advanced mach...   \n",
              "263037  [objectives=['Protect TikTok users including c...   \n",
              "\n",
              "                                             technologies  \\\n",
              "263036  [technologies=['Machine Learning', 'Active Lea...   \n",
              "263037  [technologies=['Linux', 'Hadoop', 'Hive', 'Spa...   \n",
              "\n",
              "                                                   skills  \\\n",
              "263036  [skills=['Strong coding skills in Python', 'So...   \n",
              "263037  [skills=['machine learning', 'software develop...   \n",
              "\n",
              "                                                  summary  \n",
              "263036  TikTok is seeking a Machine Learning Engineer ...  \n",
              "263037  This position requires a strong background in ...  \n",
              "\n",
              "[2 rows x 33 columns]"
            ],
            "text/html": [
              "\n",
              "  <div id=\"df-9d01e285-c590-47c3-88be-0d7fb1738886\" class=\"colab-df-container\">\n",
              "    <div>\n",
              "<style scoped>\n",
              "    .dataframe tbody tr th:only-of-type {\n",
              "        vertical-align: middle;\n",
              "    }\n",
              "\n",
              "    .dataframe tbody tr th {\n",
              "        vertical-align: top;\n",
              "    }\n",
              "\n",
              "    .dataframe thead th {\n",
              "        text-align: right;\n",
              "    }\n",
              "</style>\n",
              "<table border=\"1\" class=\"dataframe\">\n",
              "  <thead>\n",
              "    <tr style=\"text-align: right;\">\n",
              "      <th></th>\n",
              "      <th>RecordID</th>\n",
              "      <th>Job title</th>\n",
              "      <th>Full job description</th>\n",
              "      <th>Date collected</th>\n",
              "      <th>Date posted</th>\n",
              "      <th>Week</th>\n",
              "      <th>Year</th>\n",
              "      <th>Month</th>\n",
              "      <th>Quarter</th>\n",
              "      <th>Hiring entity</th>\n",
              "      <th>...</th>\n",
              "      <th>Main industry</th>\n",
              "      <th>Source name</th>\n",
              "      <th>Source URL</th>\n",
              "      <th>File Date</th>\n",
              "      <th>title</th>\n",
              "      <th>role</th>\n",
              "      <th>objectives</th>\n",
              "      <th>technologies</th>\n",
              "      <th>skills</th>\n",
              "      <th>summary</th>\n",
              "    </tr>\n",
              "  </thead>\n",
              "  <tbody>\n",
              "    <tr>\n",
              "      <th>263036</th>\n",
              "      <td>263037</td>\n",
              "      <td>Machine Learning Engineer, TikTok Trust and Sa...</td>\n",
              "      <td>Responsibilities TikTok is the leading destina...</td>\n",
              "      <td>None</td>\n",
              "      <td>2024-03-15</td>\n",
              "      <td>11</td>\n",
              "      <td>2024</td>\n",
              "      <td>3</td>\n",
              "      <td>2024Q1</td>\n",
              "      <td>TikTok</td>\n",
              "      <td>...</td>\n",
              "      <td>No data</td>\n",
              "      <td>Glassdoor</td>\n",
              "      <td>https://www.glassdoor.com/partner/jobListing.h...</td>\n",
              "      <td>2024-01-01</td>\n",
              "      <td>Machine Learning Engineer</td>\n",
              "      <td>Machine Learning Engineer - Trust and Safety</td>\n",
              "      <td>[objectives=['Design and develop advanced mach...</td>\n",
              "      <td>[technologies=['Machine Learning', 'Active Lea...</td>\n",
              "      <td>[skills=['Strong coding skills in Python', 'So...</td>\n",
              "      <td>TikTok is seeking a Machine Learning Engineer ...</td>\n",
              "    </tr>\n",
              "    <tr>\n",
              "      <th>263037</th>\n",
              "      <td>263038</td>\n",
              "      <td>Machine Learning Engineer, Risk Data Mining</td>\n",
              "      <td>Responsibilities TikTok is the leading destina...</td>\n",
              "      <td>None</td>\n",
              "      <td>2024-03-15</td>\n",
              "      <td>11</td>\n",
              "      <td>2024</td>\n",
              "      <td>3</td>\n",
              "      <td>2024Q1</td>\n",
              "      <td>TikTok</td>\n",
              "      <td>...</td>\n",
              "      <td>Entertainment Providers</td>\n",
              "      <td>LinkedIn</td>\n",
              "      <td>https://www.linkedin.com/jobs/view/machine-lea...</td>\n",
              "      <td>2024-01-01</td>\n",
              "      <td>Machine Learning Engineer - Business Risk Inte...</td>\n",
              "      <td>Machine Learning Engineer</td>\n",
              "      <td>[objectives=['Protect TikTok users including c...</td>\n",
              "      <td>[technologies=['Linux', 'Hadoop', 'Hive', 'Spa...</td>\n",
              "      <td>[skills=['machine learning', 'software develop...</td>\n",
              "      <td>This position requires a strong background in ...</td>\n",
              "    </tr>\n",
              "  </tbody>\n",
              "</table>\n",
              "<p>2 rows × 33 columns</p>\n",
              "</div>\n",
              "    <div class=\"colab-df-buttons\">\n",
              "\n",
              "  <div class=\"colab-df-container\">\n",
              "    <button class=\"colab-df-convert\" onclick=\"convertToInteractive('df-9d01e285-c590-47c3-88be-0d7fb1738886')\"\n",
              "            title=\"Convert this dataframe to an interactive table.\"\n",
              "            style=\"display:none;\">\n",
              "\n",
              "  <svg xmlns=\"http://www.w3.org/2000/svg\" height=\"24px\" viewBox=\"0 -960 960 960\">\n",
              "    <path d=\"M120-120v-720h720v720H120Zm60-500h600v-160H180v160Zm220 220h160v-160H400v160Zm0 220h160v-160H400v160ZM180-400h160v-160H180v160Zm440 0h160v-160H620v160ZM180-180h160v-160H180v160Zm440 0h160v-160H620v160Z\"/>\n",
              "  </svg>\n",
              "    </button>\n",
              "\n",
              "  <style>\n",
              "    .colab-df-container {\n",
              "      display:flex;\n",
              "      gap: 12px;\n",
              "    }\n",
              "\n",
              "    .colab-df-convert {\n",
              "      background-color: #E8F0FE;\n",
              "      border: none;\n",
              "      border-radius: 50%;\n",
              "      cursor: pointer;\n",
              "      display: none;\n",
              "      fill: #1967D2;\n",
              "      height: 32px;\n",
              "      padding: 0 0 0 0;\n",
              "      width: 32px;\n",
              "    }\n",
              "\n",
              "    .colab-df-convert:hover {\n",
              "      background-color: #E2EBFA;\n",
              "      box-shadow: 0px 1px 2px rgba(60, 64, 67, 0.3), 0px 1px 3px 1px rgba(60, 64, 67, 0.15);\n",
              "      fill: #174EA6;\n",
              "    }\n",
              "\n",
              "    .colab-df-buttons div {\n",
              "      margin-bottom: 4px;\n",
              "    }\n",
              "\n",
              "    [theme=dark] .colab-df-convert {\n",
              "      background-color: #3B4455;\n",
              "      fill: #D2E3FC;\n",
              "    }\n",
              "\n",
              "    [theme=dark] .colab-df-convert:hover {\n",
              "      background-color: #434B5C;\n",
              "      box-shadow: 0px 1px 3px 1px rgba(0, 0, 0, 0.15);\n",
              "      filter: drop-shadow(0px 1px 2px rgba(0, 0, 0, 0.3));\n",
              "      fill: #FFFFFF;\n",
              "    }\n",
              "  </style>\n",
              "\n",
              "    <script>\n",
              "      const buttonEl =\n",
              "        document.querySelector('#df-9d01e285-c590-47c3-88be-0d7fb1738886 button.colab-df-convert');\n",
              "      buttonEl.style.display =\n",
              "        google.colab.kernel.accessAllowed ? 'block' : 'none';\n",
              "\n",
              "      async function convertToInteractive(key) {\n",
              "        const element = document.querySelector('#df-9d01e285-c590-47c3-88be-0d7fb1738886');\n",
              "        const dataTable =\n",
              "          await google.colab.kernel.invokeFunction('convertToInteractive',\n",
              "                                                    [key], {});\n",
              "        if (!dataTable) return;\n",
              "\n",
              "        const docLinkHtml = 'Like what you see? Visit the ' +\n",
              "          '<a target=\"_blank\" href=https://colab.research.google.com/notebooks/data_table.ipynb>data table notebook</a>'\n",
              "          + ' to learn more about interactive tables.';\n",
              "        element.innerHTML = '';\n",
              "        dataTable['output_type'] = 'display_data';\n",
              "        await google.colab.output.renderOutput(dataTable, element);\n",
              "        const docLink = document.createElement('div');\n",
              "        docLink.innerHTML = docLinkHtml;\n",
              "        element.appendChild(docLink);\n",
              "      }\n",
              "    </script>\n",
              "  </div>\n",
              "\n",
              "\n",
              "<div id=\"df-d2f1d624-4426-4965-8c17-3e68e9e4f2bf\">\n",
              "  <button class=\"colab-df-quickchart\" onclick=\"quickchart('df-d2f1d624-4426-4965-8c17-3e68e9e4f2bf')\"\n",
              "            title=\"Suggest charts\"\n",
              "            style=\"display:none;\">\n",
              "\n",
              "<svg xmlns=\"http://www.w3.org/2000/svg\" height=\"24px\"viewBox=\"0 0 24 24\"\n",
              "     width=\"24px\">\n",
              "    <g>\n",
              "        <path d=\"M19 3H5c-1.1 0-2 .9-2 2v14c0 1.1.9 2 2 2h14c1.1 0 2-.9 2-2V5c0-1.1-.9-2-2-2zM9 17H7v-7h2v7zm4 0h-2V7h2v10zm4 0h-2v-4h2v4z\"/>\n",
              "    </g>\n",
              "</svg>\n",
              "  </button>\n",
              "\n",
              "<style>\n",
              "  .colab-df-quickchart {\n",
              "      --bg-color: #E8F0FE;\n",
              "      --fill-color: #1967D2;\n",
              "      --hover-bg-color: #E2EBFA;\n",
              "      --hover-fill-color: #174EA6;\n",
              "      --disabled-fill-color: #AAA;\n",
              "      --disabled-bg-color: #DDD;\n",
              "  }\n",
              "\n",
              "  [theme=dark] .colab-df-quickchart {\n",
              "      --bg-color: #3B4455;\n",
              "      --fill-color: #D2E3FC;\n",
              "      --hover-bg-color: #434B5C;\n",
              "      --hover-fill-color: #FFFFFF;\n",
              "      --disabled-bg-color: #3B4455;\n",
              "      --disabled-fill-color: #666;\n",
              "  }\n",
              "\n",
              "  .colab-df-quickchart {\n",
              "    background-color: var(--bg-color);\n",
              "    border: none;\n",
              "    border-radius: 50%;\n",
              "    cursor: pointer;\n",
              "    display: none;\n",
              "    fill: var(--fill-color);\n",
              "    height: 32px;\n",
              "    padding: 0;\n",
              "    width: 32px;\n",
              "  }\n",
              "\n",
              "  .colab-df-quickchart:hover {\n",
              "    background-color: var(--hover-bg-color);\n",
              "    box-shadow: 0 1px 2px rgba(60, 64, 67, 0.3), 0 1px 3px 1px rgba(60, 64, 67, 0.15);\n",
              "    fill: var(--button-hover-fill-color);\n",
              "  }\n",
              "\n",
              "  .colab-df-quickchart-complete:disabled,\n",
              "  .colab-df-quickchart-complete:disabled:hover {\n",
              "    background-color: var(--disabled-bg-color);\n",
              "    fill: var(--disabled-fill-color);\n",
              "    box-shadow: none;\n",
              "  }\n",
              "\n",
              "  .colab-df-spinner {\n",
              "    border: 2px solid var(--fill-color);\n",
              "    border-color: transparent;\n",
              "    border-bottom-color: var(--fill-color);\n",
              "    animation:\n",
              "      spin 1s steps(1) infinite;\n",
              "  }\n",
              "\n",
              "  @keyframes spin {\n",
              "    0% {\n",
              "      border-color: transparent;\n",
              "      border-bottom-color: var(--fill-color);\n",
              "      border-left-color: var(--fill-color);\n",
              "    }\n",
              "    20% {\n",
              "      border-color: transparent;\n",
              "      border-left-color: var(--fill-color);\n",
              "      border-top-color: var(--fill-color);\n",
              "    }\n",
              "    30% {\n",
              "      border-color: transparent;\n",
              "      border-left-color: var(--fill-color);\n",
              "      border-top-color: var(--fill-color);\n",
              "      border-right-color: var(--fill-color);\n",
              "    }\n",
              "    40% {\n",
              "      border-color: transparent;\n",
              "      border-right-color: var(--fill-color);\n",
              "      border-top-color: var(--fill-color);\n",
              "    }\n",
              "    60% {\n",
              "      border-color: transparent;\n",
              "      border-right-color: var(--fill-color);\n",
              "    }\n",
              "    80% {\n",
              "      border-color: transparent;\n",
              "      border-right-color: var(--fill-color);\n",
              "      border-bottom-color: var(--fill-color);\n",
              "    }\n",
              "    90% {\n",
              "      border-color: transparent;\n",
              "      border-bottom-color: var(--fill-color);\n",
              "    }\n",
              "  }\n",
              "</style>\n",
              "\n",
              "  <script>\n",
              "    async function quickchart(key) {\n",
              "      const quickchartButtonEl =\n",
              "        document.querySelector('#' + key + ' button');\n",
              "      quickchartButtonEl.disabled = true;  // To prevent multiple clicks.\n",
              "      quickchartButtonEl.classList.add('colab-df-spinner');\n",
              "      try {\n",
              "        const charts = await google.colab.kernel.invokeFunction(\n",
              "            'suggestCharts', [key], {});\n",
              "      } catch (error) {\n",
              "        console.error('Error during call to suggestCharts:', error);\n",
              "      }\n",
              "      quickchartButtonEl.classList.remove('colab-df-spinner');\n",
              "      quickchartButtonEl.classList.add('colab-df-quickchart-complete');\n",
              "    }\n",
              "    (() => {\n",
              "      let quickchartButtonEl =\n",
              "        document.querySelector('#df-d2f1d624-4426-4965-8c17-3e68e9e4f2bf button');\n",
              "      quickchartButtonEl.style.display =\n",
              "        google.colab.kernel.accessAllowed ? 'block' : 'none';\n",
              "    })();\n",
              "  </script>\n",
              "</div>\n",
              "\n",
              "    </div>\n",
              "  </div>\n"
            ],
            "application/vnd.google.colaboratory.intrinsic+json": {
              "type": "dataframe",
              "variable_name": "df_sample"
            }
          },
          "metadata": {},
          "execution_count": 69
        }
      ]
    },
    {
      "cell_type": "code",
      "source": [
        "# Check date range\n",
        "print(df_sample['Date posted'].min())\n",
        "print(df_sample['Date posted'].max())\n"
      ],
      "metadata": {
        "colab": {
          "base_uri": "https://localhost:8080/"
        },
        "id": "3HTMddMNCDxo",
        "outputId": "8d41e327-c971-4473-81ab-21c003ddc2ef"
      },
      "execution_count": 70,
      "outputs": [
        {
          "output_type": "stream",
          "name": "stdout",
          "text": [
            "2024-03-02 00:00:00\n",
            "2024-06-17 00:00:00\n"
          ]
        }
      ]
    },
    {
      "cell_type": "markdown",
      "source": [
        "---\n",
        "# Categorize job posts\n"
      ],
      "metadata": {
        "id": "UbFWHd8MJl-c"
      }
    },
    {
      "cell_type": "code",
      "source": [
        "# df_test = recent_tiktok_jobs.sample(n=10).copy()\n",
        "# df_test.shape"
      ],
      "metadata": {
        "id": "qjXeUnWmGzXv"
      },
      "execution_count": 15,
      "outputs": []
    },
    {
      "cell_type": "code",
      "source": [
        "# Set up the category list\n",
        "category_list = \"\"\"\n",
        "\n",
        "Trust and Safety\n",
        "- Trust\n",
        "- Safety\n",
        "- Privacy\n",
        "- Data protection\n",
        "- Governance\n",
        "- Integrity\n",
        "- Risk\n",
        "- Fraud\n",
        "- Abuse\n",
        "- Misinformation / disinformation\n",
        "- Harm\n",
        "- Legal\n",
        "- Moderation\n",
        "- Policy\n",
        "\n",
        "Monetisation\n",
        "- E-commerce\n",
        "- Shopping\n",
        "- Sales\n",
        "- Monetisation\n",
        "- Advertising / ads\n",
        "- Marketplace\n",
        "- Shop\n",
        "- Merchant services\n",
        "- Payments\n",
        "- Retail media\n",
        "- Shoppable video / TV\n",
        "- Customer journey\n",
        "- Funnel\n",
        "- Engagement\n",
        "- Conversion\n",
        "\n",
        "Customer / user experience\n",
        "- Search\n",
        "- Recommendation\n",
        "- Personalisation\n",
        "- Engagement\n",
        "- Customer service\n",
        "- Customer / user experience\n",
        "- Chatbot\n",
        "- Intelligent agent\n",
        "- Fulfilment\n",
        "- Discovery\n",
        "\n",
        "Content\n",
        "- Advertising / Ads\n",
        "- Marketing\n",
        "- Video\n",
        "- Live-streaming\n",
        "- Gaming / games\n",
        "- Music\n",
        "- Podcasts\n",
        "- Augmented reality\n",
        "- Virtual reality\n",
        "- Chat / messaging\n",
        "- Connected TV\n",
        "- Smart TV\n",
        "- Retail media\n",
        "- Dubbing\n",
        "- Subtitling\n",
        "- Photos\n",
        "\n",
        "Technology\n",
        "- Platform\n",
        "- Video delivery\n",
        "- Content creation\n",
        "- Generative AI\n",
        "- AI\n",
        "- Machine learning\n",
        "- Computer vision\n",
        "- Content creation\n",
        "- Fulfilment\n",
        "- Logistics\n",
        "- Supply chain\n",
        "- Data clean rooms\n",
        "- Behavioral modelling\n",
        "- R&D\n",
        "\"\"\""
      ],
      "metadata": {
        "id": "s9Z5tAtijNLX"
      },
      "execution_count": 18,
      "outputs": []
    },
    {
      "cell_type": "code",
      "source": [
        "# set up the team list\n",
        "team_list = \"\"\"\n",
        "- Trust and Safety team\n",
        "- Business Risk Integrated Control (BRIC) team\n",
        "- The TikTok Music Recommendation Team\n",
        "- USDS-Platform and Community Integrity (PaCI) team\n",
        "- Global e-commerce Data Science team\n",
        "- e-commerce alliance team\n",
        "- Global E-Commerce Alliance Team\n",
        "- Global Product & RD team\n",
        "- TikTok Ads Core team\n",
        "- Global e-commerce business team\n",
        "- Content E-commerce team\n",
        "- Generative AI team under Monetization Technology\n",
        "- Moderation & QA teams\n",
        "- Policy Enforcement Team\n",
        "- TikTok Ads Creative & Ecosystem team\n",
        "- Search Growth E-commerce team\n",
        "- Risk & Response Team\n",
        "- US Tech & Prod.\n",
        "- User Operations team\n",
        "- Privacy & Legal teams\n",
        "- Global Payment Decision Science team\n",
        "- Global Payment team of U.S. Data Security department\n",
        "- User Research and Ecommerce teams\n",
        "- E-commerce - Recommendation and Marketing\n",
        "- E-commerce - Alliance\n",
        "- E-commerce - Search\n",
        "- E-commerce - Search Growth\n",
        "- PDPO (Privacy and Data Protection Office)\n",
        "- The Marketing Strategy, Insights, and Analytics team\n",
        "- Security Engineering team\n",
        "- E-commerce Global Supply Chain and Logistics team\n",
        "- The Data Solutions team\n",
        "- The Applied AI (AAI) Team\n",
        "- Monetization Integrity team\n",
        "- Data Cycling Center\n",
        "- Applied AI (DCC) Team\n",
        "- Multimedia Arch team\n",
        "- Global e-commerce business team\n",
        "- Intelligent Customer Service under TikTok's global e-commerce business\n",
        "- Data Science team of the Tech and Product department at TikTok USDS\n",
        "- Governance and Experience\n",
        "- US Data Loss Prevention Operations\n",
        "- Global Payment team of U.S. Data Security department\n",
        "- the Investigations and Insights team\n",
        "- Video Platform team\n",
        "- User Operations team\n",
        "- Search Growth E-commerce\n",
        "- Governance and Experience Algorithm team\n",
        "- Data Science Search Team\n",
        "- Recommendation algorithm team\n",
        "- TikTok Search Team\n",
        "- App Ads and Gaming team\n",
        "- Security and Risk Control Organization\n",
        "- E-Commerce Risk Control (ECRC) team\n",
        "- content understanding and generation team of e-commerce algorithms\n",
        "- GBS Analytics team\n",
        "- Ecommerce's Governance and Experience(GNE)\n",
        "- Data Cycling Center Team\n",
        "- Live Platform Intelligence team\n",
        "- GAI-Vision team\n",
        "- ads data platform team\n",
        "- Monetization GenAI team\n",
        "- AML team\n",
        "- Ads Data Team\n",
        "- Data Platform Singapore Business Partnering (DPSG BP) team\n",
        "- AI Platform team\n",
        "- Eng-AI Innovation Center\n",
        "- Search Ads team\n",
        "- Web Ads and Open-loop E-commerce team\n",
        "- AI Data Service and Operations (ADSO) team\n",
        "- RecCore Dedup team\n",
        "- Machine Learning systems team\n",
        "- Moderation\n",
        "- Policy\n",
        "\"\"\""
      ],
      "metadata": {
        "id": "9tElQZqlkQgE"
      },
      "execution_count": 17,
      "outputs": []
    },
    {
      "cell_type": "code",
      "source": [
        "# Set up a new, simplified Pydantic class\n",
        "#\n",
        "class Categories(BaseModel):\n",
        "    \"\"\"\n",
        "    Represents the top three categories of the job posting.\n",
        "\n",
        "    This model captures the most applicable categories to which this job posting belongs.\n",
        "    The full list of five main categories, each with several sub categories to choose from is below.\n",
        "    Please select a maximum of three main + sub categories such as 'Trust and Safety - Privacy',\n",
        "    'Monetisation - Payments', etc.  Only pick a category + sub category if it figures into the\n",
        "    job in a prominant manner. Return the top three categories and no more. Please only return a\n",
        "    simple python list of strings.\n",
        "    {category_list}\n",
        "    \"\"\"\n",
        "    categories: list[str] # Added type annotation for categories\n",
        "\n",
        "class Team(BaseModel):\n",
        "    \"\"\"\n",
        "    Represents the team wherein the employee will work.\n",
        "\n",
        "    This model capture the area, department, or division in which the employee\n",
        "    will work within the company, using the following list. Don't worry about finding\n",
        "    an exact match. But please assign this job to one of the teams listed below rather\n",
        "    than making up a new team name. Just assign this post to the single closest match\n",
        "    based on the following list.\n",
        "    {team_list}\n",
        "    \"\"\"\n",
        "    team: str # Added type annotation for teams\n",
        "\n",
        "class JobResponse(BaseModel):\n",
        "    \"\"\"\n",
        "    Represents the structured response for an article analysis.\n",
        "\n",
        "    This model aggregates job categories and most relevant team in a job post\n",
        "    \"\"\"\n",
        "    categories: list[Categories]\n",
        "    team: str\n"
      ],
      "metadata": {
        "id": "JYV5dXcTEDF9"
      },
      "execution_count": 56,
      "outputs": []
    },
    {
      "cell_type": "code",
      "source": [
        "# Inference function\n",
        "#\n",
        "client = OpenAI()\n",
        "\n",
        "categories = []\n",
        "team = \"\"\n",
        "\n",
        "def parse_post(jobpost):\n",
        "    completion = client.beta.chat.completions.parse(\n",
        "    model=\"gpt-4o-mini\",\n",
        "    messages=[\n",
        "            {\"role\": \"system\", \"content\": \"You are a helpful assistant that \\\n",
        "            scans job posts and extracts important information such as job categories \\\n",
        "            and the team wherein the appliant will work. Please be thorough in your response. \\\n",
        "            And remember, this is an analysis, so be concise, and above all else, \\\n",
        "            do not hallucinate.\"},\n",
        "            {\"role\": \"user\", \"content\": jobpost},\n",
        "        ],\n",
        "        response_format=JobResponse,\n",
        "    )\n",
        "\n",
        "    message = completion.choices[0].message\n",
        "    if message.parsed:\n",
        "        # Separate lists for technologies and business skills\n",
        "        team = str(message.parsed.team)\n",
        "        categories = [str(obj) for obj in message.parsed.categories]\n",
        "\n",
        "        # Return as separate values\n",
        "        return team, categories\n",
        "    else:\n",
        "        return \"\", []  # Return empty lists in case of refusal or no parsing"
      ],
      "metadata": {
        "id": "KBSwCLbgENo3"
      },
      "execution_count": 57,
      "outputs": []
    },
    {
      "cell_type": "code",
      "source": [
        "# Convert df_test into df for processing\n",
        "#\n",
        "df = df_sample.copy()\n",
        "df.shape"
      ],
      "metadata": {
        "colab": {
          "base_uri": "https://localhost:8080/"
        },
        "id": "2phikKnUGL6g",
        "outputId": "3ab1f7a3-f59d-4357-eb45-f9dd33086c38"
      },
      "execution_count": 71,
      "outputs": [
        {
          "output_type": "execute_result",
          "data": {
            "text/plain": [
              "(139, 33)"
            ]
          },
          "metadata": {},
          "execution_count": 71
        }
      ]
    },
    {
      "cell_type": "code",
      "source": [
        "df.columns"
      ],
      "metadata": {
        "colab": {
          "base_uri": "https://localhost:8080/"
        },
        "id": "MfjmHGBwxUEe",
        "outputId": "bf6fae35-e4b3-4629-e82a-0f414e5d560c"
      },
      "execution_count": 72,
      "outputs": [
        {
          "output_type": "execute_result",
          "data": {
            "text/plain": [
              "Index(['RecordID', 'Job title', 'Full job description', 'Date collected',\n",
              "       'Date posted', 'Week', 'Year', 'Month', 'Quarter', 'Hiring entity',\n",
              "       'Entity size', 'Home office hybrid work', 'Full or part time status',\n",
              "       'Number of applicants', 'Longitude', 'Latitude', 'City', 'Territory',\n",
              "       'Region', 'Experience level', 'Education level', 'Salary start',\n",
              "       'Salary end', 'Main industry', 'Source name', 'Source URL', 'File Date',\n",
              "       'title', 'role', 'objectives', 'technologies', 'skills', 'summary'],\n",
              "      dtype='object')"
            ]
          },
          "metadata": {},
          "execution_count": 72
        }
      ]
    },
    {
      "cell_type": "code",
      "source": [
        "# Apply the parse_post_simple function to each job post\n",
        "#\n",
        "%%time\n",
        "df['team'], df['categories'] = zip(*df['Full job description'].apply(parse_post))\n"
      ],
      "metadata": {
        "id": "9FkUysDHF541",
        "colab": {
          "base_uri": "https://localhost:8080/"
        },
        "outputId": "5c07631a-646e-4b84-f1b0-b97fbfe3ab5c"
      },
      "execution_count": 74,
      "outputs": [
        {
          "output_type": "stream",
          "name": "stdout",
          "text": [
            "CPU times: user 2.97 s, sys: 115 ms, total: 3.08 s\n",
            "Wall time: 3min 1s\n"
          ]
        }
      ]
    },
    {
      "cell_type": "code",
      "source": [
        "# Check that new columns are there\n",
        "df.columns"
      ],
      "metadata": {
        "colab": {
          "base_uri": "https://localhost:8080/"
        },
        "id": "eEq5LX5aLsDU",
        "outputId": "fc60ff8f-4dac-4d65-e67b-c4e6182ec98e"
      },
      "execution_count": 75,
      "outputs": [
        {
          "output_type": "execute_result",
          "data": {
            "text/plain": [
              "Index(['RecordID', 'Job title', 'Full job description', 'Date collected',\n",
              "       'Date posted', 'Week', 'Year', 'Month', 'Quarter', 'Hiring entity',\n",
              "       'Entity size', 'Home office hybrid work', 'Full or part time status',\n",
              "       'Number of applicants', 'Longitude', 'Latitude', 'City', 'Territory',\n",
              "       'Region', 'Experience level', 'Education level', 'Salary start',\n",
              "       'Salary end', 'Main industry', 'Source name', 'Source URL', 'File Date',\n",
              "       'title', 'role', 'objectives', 'technologies', 'skills', 'summary',\n",
              "       'team', 'categories'],\n",
              "      dtype='object')"
            ]
          },
          "metadata": {},
          "execution_count": 75
        }
      ]
    },
    {
      "cell_type": "code",
      "source": [
        "# Check results\n",
        "#\n",
        "def check_results(df, record):\n",
        "    \"\"\"Check the results of the parse_post_simple function.\"\"\"\n",
        "    print(f\"team: {df.team.iloc[record]}\")\n",
        "    print(f\"categories: {df.categories.iloc[record]}\")\n"
      ],
      "metadata": {
        "id": "ocT0rGujM3dk"
      },
      "execution_count": 76,
      "outputs": []
    },
    {
      "cell_type": "code",
      "source": [
        "check_results(df, 20)\n"
      ],
      "metadata": {
        "colab": {
          "base_uri": "https://localhost:8080/"
        },
        "id": "j6JS_JcnLWUK",
        "outputId": "dce0a497-e3dd-47df-f365-4808438be568"
      },
      "execution_count": 79,
      "outputs": [
        {
          "output_type": "stream",
          "name": "stdout",
          "text": [
            "team: Ads Machine Learning Data Platform Team\n",
            "categories: [\"categories=['Machine Learning - Infrastructure']\", \"categories=['Advertising - Ads Quality']\", \"categories=['Software Engineering - Systems']\"]\n"
          ]
        }
      ]
    },
    {
      "cell_type": "code",
      "source": [
        "# prompt: Count the number of NaN values for select columns in df\n",
        "#\n",
        "nan_counts = df[['team', 'categories']].isna().sum()\n",
        "print(nan_counts)\n"
      ],
      "metadata": {
        "colab": {
          "base_uri": "https://localhost:8080/"
        },
        "id": "K4ZyoM9sq5Sv",
        "outputId": "185a9452-03ed-400e-b3f3-c5c84d528402"
      },
      "execution_count": 80,
      "outputs": [
        {
          "output_type": "stream",
          "name": "stdout",
          "text": [
            "team          0\n",
            "categories    0\n",
            "dtype: int64\n"
          ]
        }
      ]
    },
    {
      "cell_type": "code",
      "source": [
        "df.team.value_counts().nlargest(10)"
      ],
      "metadata": {
        "colab": {
          "base_uri": "https://localhost:8080/",
          "height": 429
        },
        "id": "RB6UAj2prE9w",
        "outputId": "9e094968-b070-433f-aee7-b3cddc6fd7c1"
      },
      "execution_count": 81,
      "outputs": [
        {
          "output_type": "execute_result",
          "data": {
            "text/plain": [
              "team\n",
              "Recommendation Algorithm Team                       5\n",
              "Generative AI team under Monetization Technology    4\n",
              "U.S. Data Security (USDS)                           4\n",
              "E-commerce                                          4\n",
              "Trust and Safety                                    3\n",
              "PDPO (Privacy and Data Protection Office)           3\n",
              "Applied AI (DCC) Team                               3\n",
              "Trust and Safety engineering team                   2\n",
              "Payments team of U.S. Data Security                 2\n",
              "Ads Data Team                                       2\n",
              "Name: count, dtype: int64"
            ],
            "text/html": [
              "<div>\n",
              "<style scoped>\n",
              "    .dataframe tbody tr th:only-of-type {\n",
              "        vertical-align: middle;\n",
              "    }\n",
              "\n",
              "    .dataframe tbody tr th {\n",
              "        vertical-align: top;\n",
              "    }\n",
              "\n",
              "    .dataframe thead th {\n",
              "        text-align: right;\n",
              "    }\n",
              "</style>\n",
              "<table border=\"1\" class=\"dataframe\">\n",
              "  <thead>\n",
              "    <tr style=\"text-align: right;\">\n",
              "      <th></th>\n",
              "      <th>count</th>\n",
              "    </tr>\n",
              "    <tr>\n",
              "      <th>team</th>\n",
              "      <th></th>\n",
              "    </tr>\n",
              "  </thead>\n",
              "  <tbody>\n",
              "    <tr>\n",
              "      <th>Recommendation Algorithm Team</th>\n",
              "      <td>5</td>\n",
              "    </tr>\n",
              "    <tr>\n",
              "      <th>Generative AI team under Monetization Technology</th>\n",
              "      <td>4</td>\n",
              "    </tr>\n",
              "    <tr>\n",
              "      <th>U.S. Data Security (USDS)</th>\n",
              "      <td>4</td>\n",
              "    </tr>\n",
              "    <tr>\n",
              "      <th>E-commerce</th>\n",
              "      <td>4</td>\n",
              "    </tr>\n",
              "    <tr>\n",
              "      <th>Trust and Safety</th>\n",
              "      <td>3</td>\n",
              "    </tr>\n",
              "    <tr>\n",
              "      <th>PDPO (Privacy and Data Protection Office)</th>\n",
              "      <td>3</td>\n",
              "    </tr>\n",
              "    <tr>\n",
              "      <th>Applied AI (DCC) Team</th>\n",
              "      <td>3</td>\n",
              "    </tr>\n",
              "    <tr>\n",
              "      <th>Trust and Safety engineering team</th>\n",
              "      <td>2</td>\n",
              "    </tr>\n",
              "    <tr>\n",
              "      <th>Payments team of U.S. Data Security</th>\n",
              "      <td>2</td>\n",
              "    </tr>\n",
              "    <tr>\n",
              "      <th>Ads Data Team</th>\n",
              "      <td>2</td>\n",
              "    </tr>\n",
              "  </tbody>\n",
              "</table>\n",
              "</div><br><label><b>dtype:</b> int64</label>"
            ]
          },
          "metadata": {},
          "execution_count": 81
        }
      ]
    },
    {
      "cell_type": "code",
      "source": [
        "# Write our new df to disk\n",
        "#\n",
        "df.to_pickle(\"/content/gdrive/MyDrive/Colab Notebooks/Datasets/df_ner_tiktok_5sep24.pkl\")\n",
        "df.to_csv(\"/content/gdrive/MyDrive/Colab Notebooks/Datasets/df_ner_tiktok_5sep24.csv\")"
      ],
      "metadata": {
        "id": "qsm_0u8PJuI7"
      },
      "execution_count": 85,
      "outputs": []
    }
  ]
}