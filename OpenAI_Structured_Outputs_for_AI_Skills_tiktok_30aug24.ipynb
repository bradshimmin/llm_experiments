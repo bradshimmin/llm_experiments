{
  "nbformat": 4,
  "nbformat_minor": 0,
  "metadata": {
    "colab": {
      "provenance": [],
      "include_colab_link": true
    },
    "kernelspec": {
      "name": "python3",
      "display_name": "Python 3"
    },
    "language_info": {
      "name": "python"
    }
  },
  "cells": [
    {
      "cell_type": "markdown",
      "metadata": {
        "id": "view-in-github",
        "colab_type": "text"
      },
      "source": [
        "<a href=\"https://colab.research.google.com/github/bradshimmin/llm_experiments/blob/main/OpenAI_Structured_Outputs_for_AI_Skills_tiktok_30aug24.ipynb\" target=\"_parent\"><img src=\"https://colab.research.google.com/assets/colab-badge.svg\" alt=\"Open In Colab\"/></a>"
      ]
    },
    {
      "cell_type": "code",
      "execution_count": 49,
      "metadata": {
        "id": "R2Zm8HGgT2xI",
        "colab": {
          "base_uri": "https://localhost:8080/"
        },
        "outputId": "990ff359-0cef-4e2c-b1f1-59e85e5f2413"
      },
      "outputs": [
        {
          "output_type": "stream",
          "name": "stdout",
          "text": [
            "\u001b[?25l   \u001b[90m━━━━━━━━━━━━━━━━━━━━━━━━━━━━━━━━━━━━━━━━\u001b[0m \u001b[32m0.0/1.1 MB\u001b[0m \u001b[31m?\u001b[0m eta \u001b[36m-:--:--\u001b[0m\r\u001b[2K   \u001b[90m━━━━━━━━━━━━━━━━━━━━━━━━━━━━━━━━━━━━━━━━\u001b[0m \u001b[32m1.1/1.1 MB\u001b[0m \u001b[31m36.9 MB/s\u001b[0m eta \u001b[36m0:00:00\u001b[0m\n",
            "\u001b[?25h"
          ]
        }
      ],
      "source": [
        "# Set up software\n",
        "#\n",
        "!pip -q install openai tiktoken\n"
      ]
    },
    {
      "cell_type": "code",
      "source": [
        "# Import libraries\n",
        "#\n",
        "import os\n",
        "import openai\n",
        "import pandas as pd\n",
        "import numpy as np\n",
        "from datetime import datetime, timedelta\n",
        "import textwrap\n",
        "import tiktoken\n",
        "\n",
        "from enum import Enum\n",
        "from typing import Union\n",
        "from pydantic import BaseModel\n",
        "from openai import OpenAI\n",
        "\n",
        "print(\"all done\")"
      ],
      "metadata": {
        "id": "xEhpYTvbUdXZ",
        "colab": {
          "base_uri": "https://localhost:8080/"
        },
        "outputId": "5f46d509-3aaa-41a7-e8ef-5120ff559454"
      },
      "execution_count": 50,
      "outputs": [
        {
          "output_type": "stream",
          "name": "stdout",
          "text": [
            "all done\n"
          ]
        }
      ]
    },
    {
      "cell_type": "code",
      "source": [
        "# Load openai key\n",
        "#\n",
        "from google.colab import userdata\n",
        "os.environ[\"OPENAI_API_KEY\"] = userdata.get('OpenAI_key')"
      ],
      "metadata": {
        "id": "ohJ5EGCt_VM9"
      },
      "execution_count": 3,
      "outputs": []
    },
    {
      "cell_type": "markdown",
      "source": [
        "---\n",
        "# Set up AI Skills data"
      ],
      "metadata": {
        "id": "eaHRqJfb_44U"
      }
    },
    {
      "cell_type": "code",
      "source": [
        "# Mount Google Drive\n",
        "#\n",
        "from google.colab import drive\n",
        "drive.mount('/content/gdrive')\n",
        "\n",
        "print(\"all done\")"
      ],
      "metadata": {
        "colab": {
          "base_uri": "https://localhost:8080/"
        },
        "id": "Aeg70RDKANtq",
        "outputId": "6224f38e-ca4a-4baf-e77a-1ef0debaa37e"
      },
      "execution_count": 4,
      "outputs": [
        {
          "output_type": "stream",
          "name": "stdout",
          "text": [
            "Mounted at /content/gdrive\n",
            "all done\n"
          ]
        }
      ]
    },
    {
      "cell_type": "code",
      "source": [
        "# Load our sample dataset using 2q24 cleaned df\n",
        "#\n",
        "df_sample = pd.read_pickle(\"/content/gdrive/MyDrive/Colab Notebooks/Datasets/ai_skills_tracker/ai_skills_2q24/ai_skills_2q24_final_clean_28aug24.pkl\")\n"
      ],
      "metadata": {
        "id": "z7F8604s2rM_"
      },
      "execution_count": 5,
      "outputs": []
    },
    {
      "cell_type": "code",
      "source": [
        "df_sample.shape"
      ],
      "metadata": {
        "colab": {
          "base_uri": "https://localhost:8080/"
        },
        "id": "wxe8qv5b9g-7",
        "outputId": "2891cf9d-4e18-47c7-cb21-4739331ddc33"
      },
      "execution_count": 6,
      "outputs": [
        {
          "output_type": "execute_result",
          "data": {
            "text/plain": [
              "(205517, 31)"
            ]
          },
          "metadata": {},
          "execution_count": 6
        }
      ]
    },
    {
      "cell_type": "code",
      "source": [
        "df_sample.head(n=2)"
      ],
      "metadata": {
        "colab": {
          "base_uri": "https://localhost:8080/",
          "height": 335
        },
        "id": "cWMovi-E70SP",
        "outputId": "f3a959c3-0305-4482-8c71-40c079411758"
      },
      "execution_count": 7,
      "outputs": [
        {
          "output_type": "execute_result",
          "data": {
            "text/plain": [
              "   RecordID       Job title  \\\n",
              "0         1   Data Engineer   \n",
              "1         2  Data Scientist   \n",
              "\n",
              "                                Full job description Date collected  \\\n",
              "0  \"ALL our jobs are US based and candidates must...     2023-06-11   \n",
              "1  \"ALL our jobs are US based and candidates must...     2023-06-11   \n",
              "\n",
              "  Date posted  Week  Year  Month Quarter  \\\n",
              "0  2023-06-11    23  2023      6  2023Q2   \n",
              "1  2023-06-11    23  2023      6  2023Q2   \n",
              "\n",
              "                                       Hiring entity  ... Salary start  \\\n",
              "0  TechFetch.com - On Demand Tech Workforce hirin...  ...          NaN   \n",
              "1  TechFetch.com - On Demand Tech Workforce hirin...  ...          NaN   \n",
              "\n",
              "  Salary end Main industry         Job title category  \\\n",
              "0        NaN   IT Services  Statistician Data Science   \n",
              "1        NaN   IT Services            Statistician AI   \n",
              "\n",
              "                                     AI technologies  \\\n",
              "0  Bachelor, Ab Initio, Big Data, Healthcare Insu...   \n",
              "1  Transformation, Sas, Azure, Databricks, Data L...   \n",
              "\n",
              "                                           AI skills Source name  \\\n",
              "0  Databases, Computer Science, Information Techn...    LinkedIn   \n",
              "1  Support, Business Intelligence, Server, Langua...    LinkedIn   \n",
              "\n",
              "                                          Source URL   File Date  \\\n",
              "0  https://www.linkedin.com/jobs/view/data-engine...  2023-04-01   \n",
              "1  https://www.linkedin.com/jobs/view/data-scient...  2023-04-01   \n",
              "\n",
              "  Non-ASCII Chars  \n",
              "0              []  \n",
              "1              []  \n",
              "\n",
              "[2 rows x 31 columns]"
            ],
            "text/html": [
              "\n",
              "  <div id=\"df-adc4a907-0496-4d1e-a358-fb299e30a1a3\" class=\"colab-df-container\">\n",
              "    <div>\n",
              "<style scoped>\n",
              "    .dataframe tbody tr th:only-of-type {\n",
              "        vertical-align: middle;\n",
              "    }\n",
              "\n",
              "    .dataframe tbody tr th {\n",
              "        vertical-align: top;\n",
              "    }\n",
              "\n",
              "    .dataframe thead th {\n",
              "        text-align: right;\n",
              "    }\n",
              "</style>\n",
              "<table border=\"1\" class=\"dataframe\">\n",
              "  <thead>\n",
              "    <tr style=\"text-align: right;\">\n",
              "      <th></th>\n",
              "      <th>RecordID</th>\n",
              "      <th>Job title</th>\n",
              "      <th>Full job description</th>\n",
              "      <th>Date collected</th>\n",
              "      <th>Date posted</th>\n",
              "      <th>Week</th>\n",
              "      <th>Year</th>\n",
              "      <th>Month</th>\n",
              "      <th>Quarter</th>\n",
              "      <th>Hiring entity</th>\n",
              "      <th>...</th>\n",
              "      <th>Salary start</th>\n",
              "      <th>Salary end</th>\n",
              "      <th>Main industry</th>\n",
              "      <th>Job title category</th>\n",
              "      <th>AI technologies</th>\n",
              "      <th>AI skills</th>\n",
              "      <th>Source name</th>\n",
              "      <th>Source URL</th>\n",
              "      <th>File Date</th>\n",
              "      <th>Non-ASCII Chars</th>\n",
              "    </tr>\n",
              "  </thead>\n",
              "  <tbody>\n",
              "    <tr>\n",
              "      <th>0</th>\n",
              "      <td>1</td>\n",
              "      <td>Data Engineer</td>\n",
              "      <td>\"ALL our jobs are US based and candidates must...</td>\n",
              "      <td>2023-06-11</td>\n",
              "      <td>2023-06-11</td>\n",
              "      <td>23</td>\n",
              "      <td>2023</td>\n",
              "      <td>6</td>\n",
              "      <td>2023Q2</td>\n",
              "      <td>TechFetch.com - On Demand Tech Workforce hirin...</td>\n",
              "      <td>...</td>\n",
              "      <td>NaN</td>\n",
              "      <td>NaN</td>\n",
              "      <td>IT Services</td>\n",
              "      <td>Statistician Data Science</td>\n",
              "      <td>Bachelor, Ab Initio, Big Data, Healthcare Insu...</td>\n",
              "      <td>Databases, Computer Science, Information Techn...</td>\n",
              "      <td>LinkedIn</td>\n",
              "      <td>https://www.linkedin.com/jobs/view/data-engine...</td>\n",
              "      <td>2023-04-01</td>\n",
              "      <td>[]</td>\n",
              "    </tr>\n",
              "    <tr>\n",
              "      <th>1</th>\n",
              "      <td>2</td>\n",
              "      <td>Data Scientist</td>\n",
              "      <td>\"ALL our jobs are US based and candidates must...</td>\n",
              "      <td>2023-06-11</td>\n",
              "      <td>2023-06-11</td>\n",
              "      <td>23</td>\n",
              "      <td>2023</td>\n",
              "      <td>6</td>\n",
              "      <td>2023Q2</td>\n",
              "      <td>TechFetch.com - On Demand Tech Workforce hirin...</td>\n",
              "      <td>...</td>\n",
              "      <td>NaN</td>\n",
              "      <td>NaN</td>\n",
              "      <td>IT Services</td>\n",
              "      <td>Statistician AI</td>\n",
              "      <td>Transformation, Sas, Azure, Databricks, Data L...</td>\n",
              "      <td>Support, Business Intelligence, Server, Langua...</td>\n",
              "      <td>LinkedIn</td>\n",
              "      <td>https://www.linkedin.com/jobs/view/data-scient...</td>\n",
              "      <td>2023-04-01</td>\n",
              "      <td>[]</td>\n",
              "    </tr>\n",
              "  </tbody>\n",
              "</table>\n",
              "<p>2 rows × 31 columns</p>\n",
              "</div>\n",
              "    <div class=\"colab-df-buttons\">\n",
              "\n",
              "  <div class=\"colab-df-container\">\n",
              "    <button class=\"colab-df-convert\" onclick=\"convertToInteractive('df-adc4a907-0496-4d1e-a358-fb299e30a1a3')\"\n",
              "            title=\"Convert this dataframe to an interactive table.\"\n",
              "            style=\"display:none;\">\n",
              "\n",
              "  <svg xmlns=\"http://www.w3.org/2000/svg\" height=\"24px\" viewBox=\"0 -960 960 960\">\n",
              "    <path d=\"M120-120v-720h720v720H120Zm60-500h600v-160H180v160Zm220 220h160v-160H400v160Zm0 220h160v-160H400v160ZM180-400h160v-160H180v160Zm440 0h160v-160H620v160ZM180-180h160v-160H180v160Zm440 0h160v-160H620v160Z\"/>\n",
              "  </svg>\n",
              "    </button>\n",
              "\n",
              "  <style>\n",
              "    .colab-df-container {\n",
              "      display:flex;\n",
              "      gap: 12px;\n",
              "    }\n",
              "\n",
              "    .colab-df-convert {\n",
              "      background-color: #E8F0FE;\n",
              "      border: none;\n",
              "      border-radius: 50%;\n",
              "      cursor: pointer;\n",
              "      display: none;\n",
              "      fill: #1967D2;\n",
              "      height: 32px;\n",
              "      padding: 0 0 0 0;\n",
              "      width: 32px;\n",
              "    }\n",
              "\n",
              "    .colab-df-convert:hover {\n",
              "      background-color: #E2EBFA;\n",
              "      box-shadow: 0px 1px 2px rgba(60, 64, 67, 0.3), 0px 1px 3px 1px rgba(60, 64, 67, 0.15);\n",
              "      fill: #174EA6;\n",
              "    }\n",
              "\n",
              "    .colab-df-buttons div {\n",
              "      margin-bottom: 4px;\n",
              "    }\n",
              "\n",
              "    [theme=dark] .colab-df-convert {\n",
              "      background-color: #3B4455;\n",
              "      fill: #D2E3FC;\n",
              "    }\n",
              "\n",
              "    [theme=dark] .colab-df-convert:hover {\n",
              "      background-color: #434B5C;\n",
              "      box-shadow: 0px 1px 3px 1px rgba(0, 0, 0, 0.15);\n",
              "      filter: drop-shadow(0px 1px 2px rgba(0, 0, 0, 0.3));\n",
              "      fill: #FFFFFF;\n",
              "    }\n",
              "  </style>\n",
              "\n",
              "    <script>\n",
              "      const buttonEl =\n",
              "        document.querySelector('#df-adc4a907-0496-4d1e-a358-fb299e30a1a3 button.colab-df-convert');\n",
              "      buttonEl.style.display =\n",
              "        google.colab.kernel.accessAllowed ? 'block' : 'none';\n",
              "\n",
              "      async function convertToInteractive(key) {\n",
              "        const element = document.querySelector('#df-adc4a907-0496-4d1e-a358-fb299e30a1a3');\n",
              "        const dataTable =\n",
              "          await google.colab.kernel.invokeFunction('convertToInteractive',\n",
              "                                                    [key], {});\n",
              "        if (!dataTable) return;\n",
              "\n",
              "        const docLinkHtml = 'Like what you see? Visit the ' +\n",
              "          '<a target=\"_blank\" href=https://colab.research.google.com/notebooks/data_table.ipynb>data table notebook</a>'\n",
              "          + ' to learn more about interactive tables.';\n",
              "        element.innerHTML = '';\n",
              "        dataTable['output_type'] = 'display_data';\n",
              "        await google.colab.output.renderOutput(dataTable, element);\n",
              "        const docLink = document.createElement('div');\n",
              "        docLink.innerHTML = docLinkHtml;\n",
              "        element.appendChild(docLink);\n",
              "      }\n",
              "    </script>\n",
              "  </div>\n",
              "\n",
              "\n",
              "<div id=\"df-0c934bcc-3d65-4bd5-b5a7-c4bc8a8fda26\">\n",
              "  <button class=\"colab-df-quickchart\" onclick=\"quickchart('df-0c934bcc-3d65-4bd5-b5a7-c4bc8a8fda26')\"\n",
              "            title=\"Suggest charts\"\n",
              "            style=\"display:none;\">\n",
              "\n",
              "<svg xmlns=\"http://www.w3.org/2000/svg\" height=\"24px\"viewBox=\"0 0 24 24\"\n",
              "     width=\"24px\">\n",
              "    <g>\n",
              "        <path d=\"M19 3H5c-1.1 0-2 .9-2 2v14c0 1.1.9 2 2 2h14c1.1 0 2-.9 2-2V5c0-1.1-.9-2-2-2zM9 17H7v-7h2v7zm4 0h-2V7h2v10zm4 0h-2v-4h2v4z\"/>\n",
              "    </g>\n",
              "</svg>\n",
              "  </button>\n",
              "\n",
              "<style>\n",
              "  .colab-df-quickchart {\n",
              "      --bg-color: #E8F0FE;\n",
              "      --fill-color: #1967D2;\n",
              "      --hover-bg-color: #E2EBFA;\n",
              "      --hover-fill-color: #174EA6;\n",
              "      --disabled-fill-color: #AAA;\n",
              "      --disabled-bg-color: #DDD;\n",
              "  }\n",
              "\n",
              "  [theme=dark] .colab-df-quickchart {\n",
              "      --bg-color: #3B4455;\n",
              "      --fill-color: #D2E3FC;\n",
              "      --hover-bg-color: #434B5C;\n",
              "      --hover-fill-color: #FFFFFF;\n",
              "      --disabled-bg-color: #3B4455;\n",
              "      --disabled-fill-color: #666;\n",
              "  }\n",
              "\n",
              "  .colab-df-quickchart {\n",
              "    background-color: var(--bg-color);\n",
              "    border: none;\n",
              "    border-radius: 50%;\n",
              "    cursor: pointer;\n",
              "    display: none;\n",
              "    fill: var(--fill-color);\n",
              "    height: 32px;\n",
              "    padding: 0;\n",
              "    width: 32px;\n",
              "  }\n",
              "\n",
              "  .colab-df-quickchart:hover {\n",
              "    background-color: var(--hover-bg-color);\n",
              "    box-shadow: 0 1px 2px rgba(60, 64, 67, 0.3), 0 1px 3px 1px rgba(60, 64, 67, 0.15);\n",
              "    fill: var(--button-hover-fill-color);\n",
              "  }\n",
              "\n",
              "  .colab-df-quickchart-complete:disabled,\n",
              "  .colab-df-quickchart-complete:disabled:hover {\n",
              "    background-color: var(--disabled-bg-color);\n",
              "    fill: var(--disabled-fill-color);\n",
              "    box-shadow: none;\n",
              "  }\n",
              "\n",
              "  .colab-df-spinner {\n",
              "    border: 2px solid var(--fill-color);\n",
              "    border-color: transparent;\n",
              "    border-bottom-color: var(--fill-color);\n",
              "    animation:\n",
              "      spin 1s steps(1) infinite;\n",
              "  }\n",
              "\n",
              "  @keyframes spin {\n",
              "    0% {\n",
              "      border-color: transparent;\n",
              "      border-bottom-color: var(--fill-color);\n",
              "      border-left-color: var(--fill-color);\n",
              "    }\n",
              "    20% {\n",
              "      border-color: transparent;\n",
              "      border-left-color: var(--fill-color);\n",
              "      border-top-color: var(--fill-color);\n",
              "    }\n",
              "    30% {\n",
              "      border-color: transparent;\n",
              "      border-left-color: var(--fill-color);\n",
              "      border-top-color: var(--fill-color);\n",
              "      border-right-color: var(--fill-color);\n",
              "    }\n",
              "    40% {\n",
              "      border-color: transparent;\n",
              "      border-right-color: var(--fill-color);\n",
              "      border-top-color: var(--fill-color);\n",
              "    }\n",
              "    60% {\n",
              "      border-color: transparent;\n",
              "      border-right-color: var(--fill-color);\n",
              "    }\n",
              "    80% {\n",
              "      border-color: transparent;\n",
              "      border-right-color: var(--fill-color);\n",
              "      border-bottom-color: var(--fill-color);\n",
              "    }\n",
              "    90% {\n",
              "      border-color: transparent;\n",
              "      border-bottom-color: var(--fill-color);\n",
              "    }\n",
              "  }\n",
              "</style>\n",
              "\n",
              "  <script>\n",
              "    async function quickchart(key) {\n",
              "      const quickchartButtonEl =\n",
              "        document.querySelector('#' + key + ' button');\n",
              "      quickchartButtonEl.disabled = true;  // To prevent multiple clicks.\n",
              "      quickchartButtonEl.classList.add('colab-df-spinner');\n",
              "      try {\n",
              "        const charts = await google.colab.kernel.invokeFunction(\n",
              "            'suggestCharts', [key], {});\n",
              "      } catch (error) {\n",
              "        console.error('Error during call to suggestCharts:', error);\n",
              "      }\n",
              "      quickchartButtonEl.classList.remove('colab-df-spinner');\n",
              "      quickchartButtonEl.classList.add('colab-df-quickchart-complete');\n",
              "    }\n",
              "    (() => {\n",
              "      let quickchartButtonEl =\n",
              "        document.querySelector('#df-0c934bcc-3d65-4bd5-b5a7-c4bc8a8fda26 button');\n",
              "      quickchartButtonEl.style.display =\n",
              "        google.colab.kernel.accessAllowed ? 'block' : 'none';\n",
              "    })();\n",
              "  </script>\n",
              "</div>\n",
              "\n",
              "    </div>\n",
              "  </div>\n"
            ],
            "application/vnd.google.colaboratory.intrinsic+json": {
              "type": "dataframe",
              "variable_name": "df_sample"
            }
          },
          "metadata": {},
          "execution_count": 7
        }
      ]
    },
    {
      "cell_type": "code",
      "source": [
        "# Pull out tiktok data\n",
        "# Step 1: Filter by \"Hiring entity\" to include only \"TikTok\"\n",
        "tiktok_jobs = df_sample[df_sample['Hiring entity'].str.contains(\"TikTok\", case=False, na=False)]\n",
        "print(f'TikTok jobs: {len(tiktok_jobs)}')"
      ],
      "metadata": {
        "colab": {
          "base_uri": "https://localhost:8080/"
        },
        "id": "nuBR8TuNOV2R",
        "outputId": "04293b07-68a9-493a-89a1-849ae82f6779"
      },
      "execution_count": 19,
      "outputs": [
        {
          "output_type": "stream",
          "name": "stdout",
          "text": [
            "TikTok jobs: 1640\n"
          ]
        }
      ]
    },
    {
      "cell_type": "code",
      "source": [
        "# prompt: remove duplicates based on \"Full job description\"\n",
        "#\n",
        "tiktok_jobs = tiktok_jobs.drop_duplicates(subset=['Full job description'])\n",
        "print(f'Deduped TikTok jobs: {len(tiktok_jobs)}')"
      ],
      "metadata": {
        "colab": {
          "base_uri": "https://localhost:8080/"
        },
        "id": "o6DjtljVOXgG",
        "outputId": "fb2863ad-8145-4be7-af04-f054736a4085"
      },
      "execution_count": 20,
      "outputs": [
        {
          "output_type": "stream",
          "name": "stdout",
          "text": [
            "Deduped TikTok jobs: 1633\n"
          ]
        }
      ]
    },
    {
      "cell_type": "code",
      "source": [
        "# prompt: Print the number of jobs per month within tiktok_jobs using \"Date posted\"\n",
        "#\n",
        "tiktok_jobs['Date posted'] = pd.to_datetime(tiktok_jobs['Date posted'])\n",
        "tiktok_jobs_per_month = tiktok_jobs.groupby(pd.Grouper(key='Date posted', freq='M')).size()\n",
        "print(tiktok_jobs_per_month)\n"
      ],
      "metadata": {
        "colab": {
          "base_uri": "https://localhost:8080/"
        },
        "id": "8ohDw6SdnjD_",
        "outputId": "2889fcd0-1b01-48e9-a823-429907731c32"
      },
      "execution_count": 21,
      "outputs": [
        {
          "output_type": "stream",
          "name": "stdout",
          "text": [
            "Date posted\n",
            "2022-02-28      3\n",
            "2022-03-31     19\n",
            "2022-04-30     27\n",
            "2022-05-31     13\n",
            "2022-06-30      4\n",
            "2022-07-31     29\n",
            "2022-08-31     45\n",
            "2022-09-30     84\n",
            "2022-10-31    124\n",
            "2022-11-30     35\n",
            "2022-12-31     98\n",
            "2023-01-31     40\n",
            "2023-02-28     51\n",
            "2023-03-31     97\n",
            "2023-04-30     57\n",
            "2023-05-31     54\n",
            "2023-06-30      6\n",
            "2023-07-31     83\n",
            "2023-08-31    101\n",
            "2023-09-30     78\n",
            "2023-10-31    135\n",
            "2023-11-30     89\n",
            "2023-12-31     40\n",
            "2024-01-31    137\n",
            "2024-02-29     45\n",
            "2024-03-31     22\n",
            "2024-04-30     48\n",
            "2024-05-31     58\n",
            "2024-06-30     11\n",
            "Freq: M, dtype: int64\n"
          ]
        }
      ]
    },
    {
      "cell_type": "code",
      "source": [
        "# Filter jobs posted in the last 3 months (given that March is the last collection date)\n",
        "#\n",
        "date_range = datetime.now() - timedelta(days=182)\n",
        "recent_tiktok_jobs = tiktok_jobs[tiktok_jobs['Date posted'] >= date_range]\n",
        "\n",
        "recent_tiktok_jobs.shape"
      ],
      "metadata": {
        "colab": {
          "base_uri": "https://localhost:8080/"
        },
        "id": "Gqp2QPEKIz0E",
        "outputId": "2d00baea-1230-4912-eee9-def1bed1106f"
      },
      "execution_count": 22,
      "outputs": [
        {
          "output_type": "execute_result",
          "data": {
            "text/plain": [
              "(139, 31)"
            ]
          },
          "metadata": {},
          "execution_count": 22
        }
      ]
    },
    {
      "cell_type": "code",
      "source": [
        "# Check date range\n",
        "print(recent_tiktok_jobs['Date posted'].min())\n",
        "print(recent_tiktok_jobs['Date posted'].max())\n"
      ],
      "metadata": {
        "colab": {
          "base_uri": "https://localhost:8080/"
        },
        "id": "3HTMddMNCDxo",
        "outputId": "18a2fbc6-5b51-4533-c398-143e4c36b74f"
      },
      "execution_count": 25,
      "outputs": [
        {
          "output_type": "stream",
          "name": "stdout",
          "text": [
            "2024-03-02 00:00:00\n",
            "2024-06-17 00:00:00\n"
          ]
        }
      ]
    },
    {
      "cell_type": "code",
      "source": [
        "# prompt: Modify print() output so that the text wraps automatically at 250 charcters\n",
        "def print_wrapped(text, width=100):\n",
        "  wrapped_text = textwrap.fill(text, width=width)\n",
        "  return wrapped_text\n"
      ],
      "metadata": {
        "id": "dOmappSLM_x_"
      },
      "execution_count": 26,
      "outputs": []
    },
    {
      "cell_type": "code",
      "source": [
        "job_post = recent_tiktok_jobs['Full job description'].iloc[0]\n",
        "print_wrapped(job_post)"
      ],
      "metadata": {
        "colab": {
          "base_uri": "https://localhost:8080/",
          "height": 627
        },
        "id": "uqNEksG9MvrY",
        "outputId": "59df455a-5757-4dd9-d239-1f1c42d19726"
      },
      "execution_count": 28,
      "outputs": [
        {
          "output_type": "execute_result",
          "data": {
            "text/plain": [
              "\"Responsibilities TikTok is the leading destination for short-form mobile video. At TikTok, our\\nmission is to inspire creativity and bring joy. TikTok's global headquarters are in Los Angeles and\\nSingapore, and its offices include New York, London, Dublin, Paris, Berlin, Dubai, Jakarta, Seoul,\\nand Tokyo. Why Join Us Creation is the core of TikTok's purpose. Our platform is built to help\\nimaginations thrive. This is doubly true of the teams that make TikTok possible. Together, we\\ninspire creativity and bring joy - a mission we all believe in and aim towards achieving every day.\\nTo us, every challenge, no matter how difficult, is an opportunity; to learn, to innovate, and to\\ngrow as one team. Status quo? Never. Courage? Always. At TikTok, we create together and grow\\ntogether. That's how we drive impact - for ourselves, our company, and the communities we serve.\\nJoin us. Our Trust and Safety team is fast growing and responsible for building machine learning\\nmodels and systems to protect our users from the impact of negative content. Our mission is to\\nprotect billions of users and publishers across the globe every day. We embrace state-of-the-art\\nmachine learning technologies and scale them to moderate the tremendous amount of data generated on\\nthe platform. With our team's continuous efforts, TikTok can provide the best user experience and\\nbring joy to everyone in the world. We are looking for excellent machine learning engineers who can\\ntake the initiative, design and develop advanced machine learning solutions, and deploy them\\ndirectly to TikTok's global platform. A successful candidate will have machine learning expertise\\nand good software engineering experience. You will take pride in working with engineers, product\\nmanagers, and business partners to identify and solve the most challenging safety and integrity\\nproblems on the internet scale. Responsibilities - What You'II Do Work on state-of-the-art content\\nunderstanding techniques including but not limited to unimodal, multimodal content classifiers,\\nActive learning models, Reinforcement learning models, and Large Language Models. Deep understanding\\nof TikTok moderation system and propose optimized method on current moderation system. Collaborate\\nwith product teams to define business objectives and improve trust and safety strategy. Collaborate\\nwith engineering teams to deploy machine learning models, design online model workflow, and\\nimplement serving pipelines at scale. Collaborate with the data scientist team to understand the key\\nchallenges and propose data-driven strategies. Qualifications Minimum Qualifications: BS, MS degree\\nin Computer Science, Electrical Engineering, Operation Research, Applied Mathematics or similar\\nquantitative fields. Hands-on experience in one or more of the following areas: machine learning\\n(CV, NLP, Multimodal), active learning, Large Language Models, Recommendation Systems, and related\\nareas Strong coding skills, especially in Python and similar languages. Curiosity towards new\\ntechnologies and entrepreneurship, good communication and teamwork skills. Preferred Qualifications:\\nMinimum of 1 year of related experience. Experience in Large Language Models, multimodal modeling,\\nActive learning, and Reinforcement learning. Publications in top AI, ML conferences are a plus.\\nUnderstanding of the recommendation system or moderation system. Experience in developing online ML\\nsystems including ranking, and retrieval. TikTok is committed to creating an inclusive space where\\nemployees are valued for their skills, experiences, and unique perspectives. Our platform connects\\npeople from across the globe and so does our workplace. At TikTok, our mission is to inspire\\ncreativity and bring joy. To achieve that goal, we are committed to celebrating our diverse voices\\nand to creating an environment that reflects the many communities we reach. We are passionate about\\nthis and hope you are too. TikTok is committed to providing reasonable accommodations in our\\nrecruitment processes for candidates with disabilities, pregnancy, sincerely held religious beliefs\\nor other reasons protected by applicable laws. If you need assistance or a reasonable accommodation,\\nplease reach out to us at https:, , shorturl.at, cdpT2 Job Information The base salary range for\\nthis position in the selected city is $137750 - $237500 annually. â€‹ Compensation may vary outside\\nof this range depending on a number of factors, including a candidateâ€™s qualifications, skills,\\ncompetencies and experience, and location. Base pay is one part of the Total Package that is\\nprovided to compensate and recognize employees for their work, and this role may be eligible for\\nadditional discretionary bonuses, incentives, and restricted stock units. â€‹ Our company benefits\\nare designed to convey company culture and values, to create an efficient and inspiring work\\nenvironment, and to support our employees to give their best in both work and life. We offer the\\nfollowing benefits to eligible employees: â€‹ We cover 100% premium coverage for employee medical\\ninsurance, approximately 75% premium coverage for dependents and offer a Health Savings Account(HSA)\\nwith a company match. As well as Dental, Vision, Short, Long term Disability, Basic Life, Voluntary\\nLife and AD&D insurance plans. In addition to Flexible Spending Account(FSA) Options like Health\\nCare, Limited Purpose and Dependent Care. â€‹ Our time off and leave plans are: 10 paid holidays per\\nyear plus 17 days of Paid Personal Time Off (PPTO) (prorated upon hire and increased by tenure) and\\n10 paid sick days per year as well as 12 weeks of paid Parental leave and 8 weeks of paid\\nSupplemental Disability. â€‹ We also provide generous benefits like mental and emotional health\\nbenefits through our EAP and Lyra. A 401K company match, gym and cellphone service reimbursements.\\nThe Company reserves the right to modify or change these benefits programs at any time, with or\\nwithout notice.\""
            ],
            "application/vnd.google.colaboratory.intrinsic+json": {
              "type": "string"
            }
          },
          "metadata": {},
          "execution_count": 28
        }
      ]
    },
    {
      "cell_type": "markdown",
      "source": [
        "---\n",
        "# Test OpenAI and Pydantic\n"
      ],
      "metadata": {
        "id": "UbFWHd8MJl-c"
      }
    },
    {
      "cell_type": "code",
      "source": [
        "# Set up a new, simplified Pydantic class\n",
        "#\n",
        "class Title(BaseModel):\n",
        "    \"\"\"\n",
        "    Represents the full title of the job posting.\n",
        "\n",
        "    This model captures the full title of the job posting\n",
        "    Examples include:\n",
        "    'Senior Machine Learning Engineer, TikTok Ads Core- Business Account',\n",
        "    'Lead Research Engineer, Machine Learning - TikTok Privacy Innovation Lab'\n",
        "    \"\"\"\n",
        "    title: str # Added type annotation for title\n",
        "\n",
        "class Role(BaseModel):\n",
        "    \"\"\"\n",
        "    Represents the area in which the employee will work.\n",
        "\n",
        "    This model capture the area, department, or division in which the employee\n",
        "    will work within the company. Examples include:\n",
        "    'Research and development', 'User engagement', 'Systems infrastructure',\n",
        "    'Trust and safety'\n",
        "    \"\"\"\n",
        "    role: str # Added type annotation for role\n",
        "\n",
        "class Objectives(BaseModel):\n",
        "    \"\"\"\n",
        "    Represents the stated objectives the company has set for the employee.\n",
        "    Examples include:\n",
        "    ' 1. Drive insightful understanding of Live users and creators to accelerate\n",
        "    better user, creator experience in Live.', '2. Keep track of core metrics and\n",
        "    attribute metric changes to root causes.', '3. Use data and\\nexperiments to\n",
        "    verify hypotheses around bottlenecks in product growth, and consult on the\n",
        "    direction for improvement.', '4. Work with MLE and product stakeholders to\n",
        "    deLiver product insights and strategy.'\n",
        "    \"\"\"\n",
        "    objectives: list[str] # Added type annotation for objectives\n",
        "\n",
        "class Technologies(BaseModel):\n",
        "    \"\"\"\n",
        "    Represents a technology-based skills required by a hiring entity.\n",
        "\n",
        "    This model captures basic information about a products and technologies\n",
        "    mentioned within this job post. Examples include:\n",
        "    'Spark', 'Hadoop', 'PyTorch', 'Git', 'OpenAI', 'Vertex AI', 'Google Cloud',\n",
        "    'Python', 'SQL', 'Llama', 'LangChain'\n",
        "    \"\"\"\n",
        "    technologies: list[str]  # Added type annotation for technologies\n",
        "\n",
        "class Skills(BaseModel):\n",
        "    \"\"\"\n",
        "    Represents a technology-based skills required by a hiring entity.\n",
        "\n",
        "    This model captures basic information about a business skills mentioned\n",
        "    within this job post. Examples include:\n",
        "    'data collection', 'data cleaning', 'data analysis', 'reporting',\n",
        "    'data visualization', 'training', 'stakeholder collaboration', 'MLOps',\n",
        "    'DataOps', 'Responsible AI', 'Data Engineering', 'Data Science', 'Data Warehousing'\n",
        "    \"\"\"\n",
        "    skills: list[str]  # Added type annotation for skills\n",
        "\n",
        "class Summary(BaseModel):\n",
        "    \"\"\"\n",
        "    Represents the area in which the employee will work.\n",
        "\n",
        "    This model capture the a concise, 250 word summary of the job posting, focusing\n",
        "    on the job itself rather than the company or the job requirements and benefits.'\n",
        "    \"\"\"\n",
        "    summary: str # Added type annotation for role\n",
        "\n",
        "class JobResponseSimple(BaseModel):\n",
        "    \"\"\"\n",
        "    Represents the structured response for an article analysis.\n",
        "\n",
        "    This model aggregates information about title, role, objectives, technologies,\n",
        "    and skills mentioned in a job post\n",
        "    \"\"\"\n",
        "    title: str\n",
        "    role: str\n",
        "    objectives: list[Objectives]\n",
        "    technologies: list[Technologies]\n",
        "    skills: list[Skills]\n",
        "    summary: str"
      ],
      "metadata": {
        "id": "JYV5dXcTEDF9"
      },
      "execution_count": 29,
      "outputs": []
    },
    {
      "cell_type": "code",
      "source": [
        "# Simplify our inference function\n",
        "#\n",
        "client = OpenAI()\n",
        "\n",
        "title = \"\"\n",
        "role = \"\"\n",
        "objectives = []\n",
        "technologies = []\n",
        "skills = []\n",
        "summary = \"\"\n",
        "\n",
        "def parse_post_simple(jobpost):\n",
        "    completion = client.beta.chat.completions.parse(\n",
        "    model=\"gpt-4o-mini\",\n",
        "    messages=[\n",
        "            {\"role\": \"system\", \"content\": \"You are a helpful assistant that \\\n",
        "            scans job posts for organization info, the technologies and products, \\\n",
        "            and business skills required for a given job posting. Please be thorough \\\n",
        "            and include as many technologies and skills as you can in your response. \\\n",
        "            Do not include the examples UNLESS they actual appear in the jobpost. \\\n",
        "            And remember, this is an analysis, so be detailed and concise, and \\\n",
        "            above all else, do not hallucinate.\"},\n",
        "            {\"role\": \"user\", \"content\": jobpost},\n",
        "        ],\n",
        "        response_format=JobResponseSimple,\n",
        "    )\n",
        "\n",
        "    message = completion.choices[0].message\n",
        "    if message.parsed:\n",
        "        output = []\n",
        "        output.append(str(message.parsed.title))\n",
        "        output.append(str(message.parsed.role))\n",
        "        for objectives in message.parsed.objectives:\n",
        "            output.append(str(objectives))\n",
        "        for technologies in message.parsed.technologies:\n",
        "            output.append(str(technologies))\n",
        "        for skills in message.parsed.skills:\n",
        "            output.append(str(skills))\n",
        "        output.append(str(message.parsed.summary))\n",
        "        return output\n",
        "    else:\n",
        "        return message.refusal"
      ],
      "metadata": {
        "id": "KBSwCLbgENo3"
      },
      "execution_count": 30,
      "outputs": []
    },
    {
      "cell_type": "code",
      "source": [
        "# Run our test\n",
        "#\n",
        "test_ner = parse_post_simple(job_post)\n",
        "print(test_ner)"
      ],
      "metadata": {
        "colab": {
          "base_uri": "https://localhost:8080/"
        },
        "id": "iKTTakQnCi4B",
        "outputId": "33d537b8-005e-4056-9a2b-357c2ad9da28"
      },
      "execution_count": 31,
      "outputs": [
        {
          "output_type": "stream",
          "name": "stdout",
          "text": [
            "['Machine Learning Engineer', 'Machine Learning Engineer', 'objectives=[\\'Design and develop advanced machine learning solutions\\', \"Deploy machine learning models to TikTok\\'s global platform\", \\'Collaborate with product teams to define business objectives and improve trust and safety strategy\\', \\'Collaborate with engineering teams to deploy machine learning models, design online model workflow, and implement serving pipelines at scale\\', \\'Collaborate with data scientists to understand key challenges and propose data-driven strategies\\']', \"technologies=['Machine Learning', 'Computer Vision', 'Natural Language Processing', 'Large Language Models', 'Active Learning', 'Reinforcement Learning', 'Recommendation Systems']\", \"skills=['Strong coding skills in Python', 'Software engineering', 'Communication and teamwork skills', 'Machine learning expertise in CV, NLP, and multimodal areas', 'Data-driven strategy development']\", 'TikTok is looking for a Machine Learning Engineer to develop and deploy advanced machine learning solutions to enhance user safety and content moderation. The role requires collaboration with product and engineering teams, leveraging state-of-the-art ML techniques, and a strong foundation in software engineering.']\n"
          ]
        }
      ]
    },
    {
      "cell_type": "markdown",
      "source": [
        "---\n",
        "# Append data to individual columns in our dataframe\n"
      ],
      "metadata": {
        "id": "xQsniJChFrcn"
      }
    },
    {
      "cell_type": "code",
      "source": [
        "# Inference function definition\n",
        "#\n",
        "title = \"\"\n",
        "role = \"\"\n",
        "objectives = []\n",
        "technologies = []\n",
        "skills = []\n",
        "summary = \"\"\n",
        "\n",
        "def parse_post_simple(jobpost):\n",
        "    completion = client.beta.chat.completions.parse(\n",
        "    model=\"gpt-4o-mini\",\n",
        "    messages=[\n",
        "            {\"role\": \"system\", \"content\": \"You are a helpful assistant that \\\n",
        "            scans job posts for organization info, the technologies and products, \\\n",
        "            and business skills required for a given job posting. Please be thorough \\\n",
        "            and include as many technologies and skills as you can in your response. \\\n",
        "            Do not include the examples UNLESS they actual appear in the jobpost. \\\n",
        "            And remember, this is an analysis, so be detailed and concise, and \\\n",
        "            above all else, do not hallucinate.\"},\n",
        "            {\"role\": \"user\", \"content\": jobpost},\n",
        "        ],\n",
        "        response_format=JobResponseSimple,\n",
        "    )\n",
        "\n",
        "    message = completion.choices[0].message\n",
        "    if message.parsed:\n",
        "        # Separate lists for technologies and business skills\n",
        "        title = str(message.parsed.title)\n",
        "        role = str(message.parsed.role)\n",
        "        objectives = [str(obj) for obj in message.parsed.objectives]\n",
        "        technologies = [str(tech) for tech in message.parsed.technologies]\n",
        "        skills = [str(skill) for skill in message.parsed.skills]\n",
        "        summary = str(message.parsed.summary)\n",
        "\n",
        "        # Return as separate values\n",
        "        return title, role, objectives, technologies, skills, summary\n",
        "    else:\n",
        "        return \"\", \"\", [], [], [], \"\"  # Return empty lists in case of refusal or no parsing\n"
      ],
      "metadata": {
        "id": "G1A4w8HtF6B3"
      },
      "execution_count": 32,
      "outputs": []
    },
    {
      "cell_type": "code",
      "source": [
        "# Convert sample_jobs into df for processing\n",
        "#\n",
        "df = recent_tiktok_jobs.copy()\n",
        "df.shape"
      ],
      "metadata": {
        "colab": {
          "base_uri": "https://localhost:8080/"
        },
        "id": "2phikKnUGL6g",
        "outputId": "8502817f-9891-4783-f72b-58b71cbd4755"
      },
      "execution_count": 33,
      "outputs": [
        {
          "output_type": "execute_result",
          "data": {
            "text/plain": [
              "(139, 31)"
            ]
          },
          "metadata": {},
          "execution_count": 33
        }
      ]
    },
    {
      "cell_type": "code",
      "source": [
        "# Apply the parse_post_simple function to each job post\n",
        "#\n",
        "df['title'], df['role'], df['objectives'], df['technologies'], df['skills'], df['summary'] \\\n",
        "= zip(*df['Full job description'].apply(parse_post_simple))\n"
      ],
      "metadata": {
        "id": "9FkUysDHF541"
      },
      "execution_count": 35,
      "outputs": []
    },
    {
      "cell_type": "code",
      "source": [
        "df.columns"
      ],
      "metadata": {
        "colab": {
          "base_uri": "https://localhost:8080/"
        },
        "id": "eEq5LX5aLsDU",
        "outputId": "15ef906b-93a8-4a9d-ef1f-7dc0ee7748f2"
      },
      "execution_count": 36,
      "outputs": [
        {
          "output_type": "execute_result",
          "data": {
            "text/plain": [
              "Index(['RecordID', 'Job title', 'Full job description', 'Date collected',\n",
              "       'Date posted', 'Week', 'Year', 'Month', 'Quarter', 'Hiring entity',\n",
              "       'Entity size', 'Home office hybrid work', 'Full or part time status',\n",
              "       'Number of applicants', 'Longitude', 'Latitude', 'City', 'Territory',\n",
              "       'Region', 'Experience level', 'Education level', 'Salary start',\n",
              "       'Salary end', 'Main industry', 'Job title category', 'AI technologies',\n",
              "       'AI skills', 'Source name', 'Source URL', 'File Date',\n",
              "       'Non-ASCII Chars', 'title', 'role', 'objectives', 'technologies',\n",
              "       'skills', 'summary'],\n",
              "      dtype='object')"
            ]
          },
          "metadata": {},
          "execution_count": 36
        }
      ]
    },
    {
      "cell_type": "code",
      "source": [
        "# Check results\n",
        "#\n",
        "def check_results(df, record):\n",
        "    \"\"\"Check the results of the parse_post_simple function.\"\"\"\n",
        "    print(f\"title: {df.title.iloc[record]}\")\n",
        "    print(f\"role: {df.role.iloc[record]}\")\n",
        "    print(f\"objectives: {df.objectives.iloc[record]}\")\n",
        "    print(f\"technologies: {df.technologies.iloc[record]}\")\n",
        "    print(f\"skills: {df.skills.iloc[record]}\")\n",
        "    print(f\"summary: {df.summary.iloc[record]}\")\n"
      ],
      "metadata": {
        "id": "ocT0rGujM3dk"
      },
      "execution_count": 37,
      "outputs": []
    },
    {
      "cell_type": "code",
      "source": [
        "check_results(df, 4)\n"
      ],
      "metadata": {
        "colab": {
          "base_uri": "https://localhost:8080/"
        },
        "id": "j6JS_JcnLWUK",
        "outputId": "dbc95635-834f-47c0-a4fe-375bdcb612cc"
      },
      "execution_count": 39,
      "outputs": [
        {
          "output_type": "stream",
          "name": "stdout",
          "text": [
            "title: Data Scientist - Business Risk Integrated Control\n",
            "role: Data Scientist\n",
            "objectives: [\"objectives=['Build rules, algorithms and machine learning models to respond to and mitigate business risks in TikTok products and platforms.', 'Analyze business and security data, uncover evolving attack motions, identify weaknesses and opportunities in risk defense solutions.', 'Define risk control measurements, quantify, generalize and monitor risk-related business and operational metrics.', 'Align risk teams and their stakeholders on risk control numeric goals, promote impact-oriented, data-driven data science practices for risks.']\"]\n",
            "technologies: [\"technologies=['SQL', 'R', 'Python', 'Machine Learning', 'Statistical Analytical Tools']\"]\n",
            "skills: [\"skills=['Data Science', 'Statistical Analysis', 'Critical Thinking', 'Risk Analysis', 'Data-Driven Decision Making', 'Operational Metrics Monitoring']\"]\n",
            "summary: The Data Scientist role in the Business Risk Integrated Control (BRIC) team at TikTok focuses on building machine learning models and algorithms to combat business risks associated with the platform. This includes analyzing data related to abusive accounts, fake engagements, and fraud, while promoting data-driven practices for risk management.\n"
          ]
        }
      ]
    },
    {
      "cell_type": "code",
      "source": [
        "# Drop 'unwanted columns\n",
        "#\n",
        "df = df.drop(['Job title category', 'AI technologies', 'AI skills', 'Non-ASCII Chars'], axis=1)\n",
        "df.columns"
      ],
      "metadata": {
        "id": "sKvz5R2mOX7X",
        "colab": {
          "base_uri": "https://localhost:8080/"
        },
        "outputId": "4a3d04d6-ec95-44ec-c5bb-5a4c3ed94183"
      },
      "execution_count": 40,
      "outputs": [
        {
          "output_type": "execute_result",
          "data": {
            "text/plain": [
              "Index(['RecordID', 'Job title', 'Full job description', 'Date collected',\n",
              "       'Date posted', 'Week', 'Year', 'Month', 'Quarter', 'Hiring entity',\n",
              "       'Entity size', 'Home office hybrid work', 'Full or part time status',\n",
              "       'Number of applicants', 'Longitude', 'Latitude', 'City', 'Territory',\n",
              "       'Region', 'Experience level', 'Education level', 'Salary start',\n",
              "       'Salary end', 'Main industry', 'Source name', 'Source URL', 'File Date',\n",
              "       'title', 'role', 'objectives', 'technologies', 'skills', 'summary'],\n",
              "      dtype='object')"
            ]
          },
          "metadata": {},
          "execution_count": 40
        }
      ]
    },
    {
      "cell_type": "code",
      "source": [
        "# Write our new df to disk\n",
        "#\n",
        "df.to_pickle(\"/content/gdrive/MyDrive/Colab Notebooks/Datasets/df_ner_tiktok_30aug24.pkl\")\n",
        "df.to_csv(\"/content/gdrive/MyDrive/Colab Notebooks/Datasets/df_ner_tiktok_30aug24.csv\")"
      ],
      "metadata": {
        "id": "qsm_0u8PJuI7"
      },
      "execution_count": 41,
      "outputs": []
    },
    {
      "cell_type": "markdown",
      "source": [
        "---\n",
        "# Summarizing and analyzing our full list of jobs"
      ],
      "metadata": {
        "id": "uhSl7HCuKoeX"
      }
    },
    {
      "cell_type": "code",
      "source": [
        "# Combine our test data into a single block of text\n",
        "#\n",
        "job_data = \"\\n\\n\".join([\n",
        "    f\"Title: {row['title']}\\n\"\n",
        "    f\"Date posted: {row['Date posted']}\\n\"\n",
        "    f\"Role: {row['role']}\\n\"\n",
        "    f\"Objectives: {row['objectives']}\\n\"\n",
        "    f\"Technologies: {row['technologies']}\\n\"\n",
        "    f\"Skills: {row['skills']}\\n\"\n",
        "    f\"Summary: {row['summary']}\\n\"\n",
        "    for index, row in df.iterrows()\n",
        "])\n",
        "print(\"all done\")"
      ],
      "metadata": {
        "colab": {
          "base_uri": "https://localhost:8080/"
        },
        "id": "iHxk8OoPPNE_",
        "outputId": "6b44d176-a643-497f-a72b-ecda761e82f5"
      },
      "execution_count": 42,
      "outputs": [
        {
          "output_type": "stream",
          "name": "stdout",
          "text": [
            "all done\n"
          ]
        }
      ]
    },
    {
      "cell_type": "code",
      "source": [
        "# prompt: print the first few lines of text from job_data\n",
        "#\n",
        "print(job_data[:500]) # Print first 500 characters\n"
      ],
      "metadata": {
        "colab": {
          "base_uri": "https://localhost:8080/"
        },
        "id": "gess6_kA5rxS",
        "outputId": "71936b8c-f3e9-4aba-b606-02551e2e57e6"
      },
      "execution_count": 46,
      "outputs": [
        {
          "output_type": "stream",
          "name": "stdout",
          "text": [
            "Title: Machine Learning Engineer\n",
            "Date posted: 2024-03-15 00:00:00\n",
            "Role: Machine Learning Engineer - Trust and Safety\n",
            "Objectives: [\"objectives=['Design and develop advanced machine learning solutions to protect users from negative content.', 'Collaborate with product teams to define business objectives for trust and safety.', 'Deploy machine learning models and implement serving pipelines at scale.', 'Identify challenges and propose data-driven solutions in content moderation.']\"]\n",
            "Technologies: [\n"
          ]
        }
      ]
    },
    {
      "cell_type": "code",
      "source": [
        "# Generate prompt with job data\n",
        "#\n",
        "system_prompt = f\"\"\"\n",
        "You are an AI assistant specializing in analyzing job data to understand a company's strategic focus and workforce priorities.\n",
        "Given multiple job postings with roles, objectives, technologies, skills, and summaries, your task is to generate a comprehensive markdown summary\n",
        "detailing the overall nature of the job roles and what the company is focusing on. And remember, this is an analysis, so be detailed and concise,\n",
        "and above all else, do not hallucinate.\n",
        "\n",
        "Use the following outline to structure the analysis:\n",
        "\n",
        "1. **Introduction**\n",
        "   Provide an introduction about TikTok’s current focus and strategic areas based on the job data analyzed.\n",
        "\n",
        "2. **Job Roles and Objectives**\n",
        "   Summarize the main job roles within the data set, detailing the key objectives of these roles. Highlight common themes and areas of strategic emphasis.\n",
        "\n",
        "3. **Technologies and Tools**\n",
        "   Identify the technologies and tools most frequently mentioned across the job posts. Explain how these technologies contribute to TikTok’s overall strategy.\n",
        "\n",
        "4. **Skills in Demand**\n",
        "   Outline the critical skills that TikTok seeks in its employees, both technical and soft skills. Discuss how these skills align with the company’s objectives.\n",
        "\n",
        "5. **Strategic Focus Areas**\n",
        "   Discuss what the job data suggests about TikTok’s strategic focus.\n",
        "\n",
        "6. **Evolution of TikTok AI staffing practices**\n",
        "   Provide an analysis of the way TikTok's AI professional hiring practices have changed, highlighting any emerging trends or notable observations.\n",
        "\n",
        "7. **Conclusion**\n",
        "   Provide a conclusion summarizing TikTok’s overarching goals based on the job data, highlighting any emerging trends or notable observations.\n",
        "\n",
        "**Output Format**: Provide a markdown-formatted analysis based on the data.\n",
        "\"\"\"\n"
      ],
      "metadata": {
        "id": "gF3cKExwOuHd"
      },
      "execution_count": 47,
      "outputs": []
    },
    {
      "cell_type": "code",
      "source": [
        "# Calculate the number of tokens we'll be sending to the model in our job_data prompt\n",
        "#\n",
        "# Choose the appropriate model's tokenizer\n",
        "encoding = tiktoken.encoding_for_model(\"gpt-4o-mini\")  # or whatever mode model\n",
        "\n",
        "# Encode the prompt to get the list of tokens\n",
        "tokens = encoding.encode(system_prompt + job_data)\n",
        "\n",
        "# Calculate the number of tokens\n",
        "num_tokens = len(tokens)\n",
        "\n",
        "print(f\"Number of tokens in the prompt: {num_tokens}\")\n"
      ],
      "metadata": {
        "colab": {
          "base_uri": "https://localhost:8080/"
        },
        "id": "VLMQCHVN7547",
        "outputId": "ea657658-7ff8-4ddd-c520-d619668e42dc"
      },
      "execution_count": 51,
      "outputs": [
        {
          "output_type": "stream",
          "name": "stdout",
          "text": [
            "Number of tokens in the prompt: 34823\n"
          ]
        }
      ]
    },
    {
      "cell_type": "markdown",
      "source": [
        "# This is way too big. Mmmm. Will try something directly in their playground"
      ],
      "metadata": {
        "id": "f-4Sr7ln9SX1"
      }
    },
    {
      "cell_type": "code",
      "source": [
        "# prompt: save job_data to a text file\n",
        "#\n",
        "with open('job_data_30aug24.txt', 'w') as f:\n",
        "  f.write(job_data)\n"
      ],
      "metadata": {
        "id": "pcLKeRFx9irr"
      },
      "execution_count": 52,
      "outputs": []
    },
    {
      "cell_type": "code",
      "source": [],
      "metadata": {
        "id": "k2SEJJ24QjtF"
      },
      "execution_count": null,
      "outputs": []
    }
  ]
}