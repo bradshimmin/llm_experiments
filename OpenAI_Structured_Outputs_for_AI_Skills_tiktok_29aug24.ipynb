{
  "nbformat": 4,
  "nbformat_minor": 0,
  "metadata": {
    "colab": {
      "provenance": [],
      "include_colab_link": true
    },
    "kernelspec": {
      "name": "python3",
      "display_name": "Python 3"
    },
    "language_info": {
      "name": "python"
    }
  },
  "cells": [
    {
      "cell_type": "markdown",
      "metadata": {
        "id": "view-in-github",
        "colab_type": "text"
      },
      "source": [
        "<a href=\"https://colab.research.google.com/github/bradshimmin/llm_experiments/blob/main/OpenAI_Structured_Outputs_for_AI_Skills_tiktok_29aug24.ipynb\" target=\"_parent\"><img src=\"https://colab.research.google.com/assets/colab-badge.svg\" alt=\"Open In Colab\"/></a>"
      ]
    },
    {
      "cell_type": "code",
      "execution_count": 1,
      "metadata": {
        "id": "R2Zm8HGgT2xI",
        "colab": {
          "base_uri": "https://localhost:8080/"
        },
        "outputId": "db2b16fa-d3c0-4e66-f859-100c86c15568"
      },
      "outputs": [
        {
          "output_type": "stream",
          "name": "stdout",
          "text": [
            "\u001b[?25l   \u001b[90m━━━━━━━━━━━━━━━━━━━━━━━━━━━━━━━━━━━━━━━━\u001b[0m \u001b[32m0.0/365.7 kB\u001b[0m \u001b[31m?\u001b[0m eta \u001b[36m-:--:--\u001b[0m\r\u001b[2K   \u001b[91m━━━━━━━━━━━━━━━━━━━━━━━━━━━━━━━━━━━━━━━\u001b[0m\u001b[90m╺\u001b[0m \u001b[32m358.4/365.7 kB\u001b[0m \u001b[31m15.3 MB/s\u001b[0m eta \u001b[36m0:00:01\u001b[0m\r\u001b[2K   \u001b[90m━━━━━━━━━━━━━━━━━━━━━━━━━━━━━━━━━━━━━━━━\u001b[0m \u001b[32m365.7/365.7 kB\u001b[0m \u001b[31m4.4 MB/s\u001b[0m eta \u001b[36m0:00:00\u001b[0m\n",
            "\u001b[?25h\u001b[?25l   \u001b[90m━━━━━━━━━━━━━━━━━━━━━━━━━━━━━━━━━━━━━━━━\u001b[0m \u001b[32m0.0/76.4 kB\u001b[0m \u001b[31m?\u001b[0m eta \u001b[36m-:--:--\u001b[0m\r\u001b[2K   \u001b[90m━━━━━━━━━━━━━━━━━━━━━━━━━━━━━━━━━━━━━━━━\u001b[0m \u001b[32m76.4/76.4 kB\u001b[0m \u001b[31m2.6 MB/s\u001b[0m eta \u001b[36m0:00:00\u001b[0m\n",
            "\u001b[2K   \u001b[90m━━━━━━━━━━━━━━━━━━━━━━━━━━━━━━━━━━━━━━━━\u001b[0m \u001b[32m77.9/77.9 kB\u001b[0m \u001b[31m3.3 MB/s\u001b[0m eta \u001b[36m0:00:00\u001b[0m\n",
            "\u001b[2K   \u001b[90m━━━━━━━━━━━━━━━━━━━━━━━━━━━━━━━━━━━━━━━━\u001b[0m \u001b[32m318.9/318.9 kB\u001b[0m \u001b[31m8.1 MB/s\u001b[0m eta \u001b[36m0:00:00\u001b[0m\n",
            "\u001b[2K   \u001b[90m━━━━━━━━━━━━━━━━━━━━━━━━━━━━━━━━━━━━━━━━\u001b[0m \u001b[32m58.3/58.3 kB\u001b[0m \u001b[31m2.2 MB/s\u001b[0m eta \u001b[36m0:00:00\u001b[0m\n",
            "\u001b[?25h"
          ]
        }
      ],
      "source": [
        "# Set up software\n",
        "#\n",
        "!pip -q install openai\n"
      ]
    },
    {
      "cell_type": "code",
      "source": [
        "# Import libraries\n",
        "#\n",
        "import os\n",
        "import openai\n",
        "import pandas as pd\n",
        "import numpy as np\n",
        "from datetime import datetime, timedelta\n",
        "import textwrap\n",
        "\n",
        "from enum import Enum\n",
        "from typing import Union\n",
        "from pydantic import BaseModel\n",
        "from openai import OpenAI\n",
        "\n",
        "print(\"all done\")"
      ],
      "metadata": {
        "id": "xEhpYTvbUdXZ",
        "colab": {
          "base_uri": "https://localhost:8080/"
        },
        "outputId": "4f21562f-9fec-4097-9bec-f042a26d8963"
      },
      "execution_count": 2,
      "outputs": [
        {
          "output_type": "stream",
          "name": "stdout",
          "text": [
            "all done\n"
          ]
        }
      ]
    },
    {
      "cell_type": "code",
      "source": [
        "# Load openai key\n",
        "#\n",
        "from google.colab import userdata\n",
        "os.environ[\"OPENAI_API_KEY\"] = userdata.get('OpenAI_key')"
      ],
      "metadata": {
        "id": "ohJ5EGCt_VM9"
      },
      "execution_count": 3,
      "outputs": []
    },
    {
      "cell_type": "markdown",
      "source": [
        "---\n",
        "# Set up AI Skills data"
      ],
      "metadata": {
        "id": "eaHRqJfb_44U"
      }
    },
    {
      "cell_type": "code",
      "source": [
        "# Mount Google Drive\n",
        "#\n",
        "from google.colab import drive\n",
        "drive.mount('/content/gdrive')\n",
        "\n",
        "print(\"all done\")"
      ],
      "metadata": {
        "colab": {
          "base_uri": "https://localhost:8080/"
        },
        "id": "Aeg70RDKANtq",
        "outputId": "df04e4cc-ac7a-47da-a9f3-d8f671d67ced"
      },
      "execution_count": 4,
      "outputs": [
        {
          "output_type": "stream",
          "name": "stdout",
          "text": [
            "Mounted at /content/gdrive\n",
            "all done\n"
          ]
        }
      ]
    },
    {
      "cell_type": "code",
      "source": [
        "# Load our sample dataset using 2q24 cleaned df\n",
        "#\n",
        "df_sample = pd.read_pickle(\"/content/gdrive/MyDrive/Colab Notebooks/Datasets/ai_skills_tracker/ai_skills_2q24/ai_skills_2q24_final_clean_28aug24.pkl\")\n"
      ],
      "metadata": {
        "id": "z7F8604s2rM_"
      },
      "execution_count": 5,
      "outputs": []
    },
    {
      "cell_type": "code",
      "source": [
        "df_sample.shape"
      ],
      "metadata": {
        "colab": {
          "base_uri": "https://localhost:8080/"
        },
        "id": "wxe8qv5b9g-7",
        "outputId": "8eab4066-a8a6-463b-8227-04db51230efc"
      },
      "execution_count": 6,
      "outputs": [
        {
          "output_type": "execute_result",
          "data": {
            "text/plain": [
              "(205517, 31)"
            ]
          },
          "metadata": {},
          "execution_count": 6
        }
      ]
    },
    {
      "cell_type": "code",
      "source": [
        "df_sample.head(n=2)"
      ],
      "metadata": {
        "colab": {
          "base_uri": "https://localhost:8080/",
          "height": 335
        },
        "id": "cWMovi-E70SP",
        "outputId": "f3c890bf-7eda-4a4a-bcfb-fe89507f58e5"
      },
      "execution_count": 7,
      "outputs": [
        {
          "output_type": "execute_result",
          "data": {
            "text/plain": [
              "   RecordID       Job title  \\\n",
              "0         1   Data Engineer   \n",
              "1         2  Data Scientist   \n",
              "\n",
              "                                Full job description Date collected  \\\n",
              "0  \"ALL our jobs are US based and candidates must...     2023-06-11   \n",
              "1  \"ALL our jobs are US based and candidates must...     2023-06-11   \n",
              "\n",
              "  Date posted  Week  Year  Month Quarter  \\\n",
              "0  2023-06-11    23  2023      6  2023Q2   \n",
              "1  2023-06-11    23  2023      6  2023Q2   \n",
              "\n",
              "                                       Hiring entity  ... Salary start  \\\n",
              "0  TechFetch.com - On Demand Tech Workforce hirin...  ...          NaN   \n",
              "1  TechFetch.com - On Demand Tech Workforce hirin...  ...          NaN   \n",
              "\n",
              "  Salary end Main industry         Job title category  \\\n",
              "0        NaN   IT Services  Statistician Data Science   \n",
              "1        NaN   IT Services            Statistician AI   \n",
              "\n",
              "                                     AI technologies  \\\n",
              "0  Bachelor, Ab Initio, Big Data, Healthcare Insu...   \n",
              "1  Transformation, Sas, Azure, Databricks, Data L...   \n",
              "\n",
              "                                           AI skills Source name  \\\n",
              "0  Databases, Computer Science, Information Techn...    LinkedIn   \n",
              "1  Support, Business Intelligence, Server, Langua...    LinkedIn   \n",
              "\n",
              "                                          Source URL   File Date  \\\n",
              "0  https://www.linkedin.com/jobs/view/data-engine...  2023-04-01   \n",
              "1  https://www.linkedin.com/jobs/view/data-scient...  2023-04-01   \n",
              "\n",
              "  Non-ASCII Chars  \n",
              "0              []  \n",
              "1              []  \n",
              "\n",
              "[2 rows x 31 columns]"
            ],
            "text/html": [
              "\n",
              "  <div id=\"df-f1acd51d-d58e-4883-93cf-dc6ca4fca69e\" class=\"colab-df-container\">\n",
              "    <div>\n",
              "<style scoped>\n",
              "    .dataframe tbody tr th:only-of-type {\n",
              "        vertical-align: middle;\n",
              "    }\n",
              "\n",
              "    .dataframe tbody tr th {\n",
              "        vertical-align: top;\n",
              "    }\n",
              "\n",
              "    .dataframe thead th {\n",
              "        text-align: right;\n",
              "    }\n",
              "</style>\n",
              "<table border=\"1\" class=\"dataframe\">\n",
              "  <thead>\n",
              "    <tr style=\"text-align: right;\">\n",
              "      <th></th>\n",
              "      <th>RecordID</th>\n",
              "      <th>Job title</th>\n",
              "      <th>Full job description</th>\n",
              "      <th>Date collected</th>\n",
              "      <th>Date posted</th>\n",
              "      <th>Week</th>\n",
              "      <th>Year</th>\n",
              "      <th>Month</th>\n",
              "      <th>Quarter</th>\n",
              "      <th>Hiring entity</th>\n",
              "      <th>...</th>\n",
              "      <th>Salary start</th>\n",
              "      <th>Salary end</th>\n",
              "      <th>Main industry</th>\n",
              "      <th>Job title category</th>\n",
              "      <th>AI technologies</th>\n",
              "      <th>AI skills</th>\n",
              "      <th>Source name</th>\n",
              "      <th>Source URL</th>\n",
              "      <th>File Date</th>\n",
              "      <th>Non-ASCII Chars</th>\n",
              "    </tr>\n",
              "  </thead>\n",
              "  <tbody>\n",
              "    <tr>\n",
              "      <th>0</th>\n",
              "      <td>1</td>\n",
              "      <td>Data Engineer</td>\n",
              "      <td>\"ALL our jobs are US based and candidates must...</td>\n",
              "      <td>2023-06-11</td>\n",
              "      <td>2023-06-11</td>\n",
              "      <td>23</td>\n",
              "      <td>2023</td>\n",
              "      <td>6</td>\n",
              "      <td>2023Q2</td>\n",
              "      <td>TechFetch.com - On Demand Tech Workforce hirin...</td>\n",
              "      <td>...</td>\n",
              "      <td>NaN</td>\n",
              "      <td>NaN</td>\n",
              "      <td>IT Services</td>\n",
              "      <td>Statistician Data Science</td>\n",
              "      <td>Bachelor, Ab Initio, Big Data, Healthcare Insu...</td>\n",
              "      <td>Databases, Computer Science, Information Techn...</td>\n",
              "      <td>LinkedIn</td>\n",
              "      <td>https://www.linkedin.com/jobs/view/data-engine...</td>\n",
              "      <td>2023-04-01</td>\n",
              "      <td>[]</td>\n",
              "    </tr>\n",
              "    <tr>\n",
              "      <th>1</th>\n",
              "      <td>2</td>\n",
              "      <td>Data Scientist</td>\n",
              "      <td>\"ALL our jobs are US based and candidates must...</td>\n",
              "      <td>2023-06-11</td>\n",
              "      <td>2023-06-11</td>\n",
              "      <td>23</td>\n",
              "      <td>2023</td>\n",
              "      <td>6</td>\n",
              "      <td>2023Q2</td>\n",
              "      <td>TechFetch.com - On Demand Tech Workforce hirin...</td>\n",
              "      <td>...</td>\n",
              "      <td>NaN</td>\n",
              "      <td>NaN</td>\n",
              "      <td>IT Services</td>\n",
              "      <td>Statistician AI</td>\n",
              "      <td>Transformation, Sas, Azure, Databricks, Data L...</td>\n",
              "      <td>Support, Business Intelligence, Server, Langua...</td>\n",
              "      <td>LinkedIn</td>\n",
              "      <td>https://www.linkedin.com/jobs/view/data-scient...</td>\n",
              "      <td>2023-04-01</td>\n",
              "      <td>[]</td>\n",
              "    </tr>\n",
              "  </tbody>\n",
              "</table>\n",
              "<p>2 rows × 31 columns</p>\n",
              "</div>\n",
              "    <div class=\"colab-df-buttons\">\n",
              "\n",
              "  <div class=\"colab-df-container\">\n",
              "    <button class=\"colab-df-convert\" onclick=\"convertToInteractive('df-f1acd51d-d58e-4883-93cf-dc6ca4fca69e')\"\n",
              "            title=\"Convert this dataframe to an interactive table.\"\n",
              "            style=\"display:none;\">\n",
              "\n",
              "  <svg xmlns=\"http://www.w3.org/2000/svg\" height=\"24px\" viewBox=\"0 -960 960 960\">\n",
              "    <path d=\"M120-120v-720h720v720H120Zm60-500h600v-160H180v160Zm220 220h160v-160H400v160Zm0 220h160v-160H400v160ZM180-400h160v-160H180v160Zm440 0h160v-160H620v160ZM180-180h160v-160H180v160Zm440 0h160v-160H620v160Z\"/>\n",
              "  </svg>\n",
              "    </button>\n",
              "\n",
              "  <style>\n",
              "    .colab-df-container {\n",
              "      display:flex;\n",
              "      gap: 12px;\n",
              "    }\n",
              "\n",
              "    .colab-df-convert {\n",
              "      background-color: #E8F0FE;\n",
              "      border: none;\n",
              "      border-radius: 50%;\n",
              "      cursor: pointer;\n",
              "      display: none;\n",
              "      fill: #1967D2;\n",
              "      height: 32px;\n",
              "      padding: 0 0 0 0;\n",
              "      width: 32px;\n",
              "    }\n",
              "\n",
              "    .colab-df-convert:hover {\n",
              "      background-color: #E2EBFA;\n",
              "      box-shadow: 0px 1px 2px rgba(60, 64, 67, 0.3), 0px 1px 3px 1px rgba(60, 64, 67, 0.15);\n",
              "      fill: #174EA6;\n",
              "    }\n",
              "\n",
              "    .colab-df-buttons div {\n",
              "      margin-bottom: 4px;\n",
              "    }\n",
              "\n",
              "    [theme=dark] .colab-df-convert {\n",
              "      background-color: #3B4455;\n",
              "      fill: #D2E3FC;\n",
              "    }\n",
              "\n",
              "    [theme=dark] .colab-df-convert:hover {\n",
              "      background-color: #434B5C;\n",
              "      box-shadow: 0px 1px 3px 1px rgba(0, 0, 0, 0.15);\n",
              "      filter: drop-shadow(0px 1px 2px rgba(0, 0, 0, 0.3));\n",
              "      fill: #FFFFFF;\n",
              "    }\n",
              "  </style>\n",
              "\n",
              "    <script>\n",
              "      const buttonEl =\n",
              "        document.querySelector('#df-f1acd51d-d58e-4883-93cf-dc6ca4fca69e button.colab-df-convert');\n",
              "      buttonEl.style.display =\n",
              "        google.colab.kernel.accessAllowed ? 'block' : 'none';\n",
              "\n",
              "      async function convertToInteractive(key) {\n",
              "        const element = document.querySelector('#df-f1acd51d-d58e-4883-93cf-dc6ca4fca69e');\n",
              "        const dataTable =\n",
              "          await google.colab.kernel.invokeFunction('convertToInteractive',\n",
              "                                                    [key], {});\n",
              "        if (!dataTable) return;\n",
              "\n",
              "        const docLinkHtml = 'Like what you see? Visit the ' +\n",
              "          '<a target=\"_blank\" href=https://colab.research.google.com/notebooks/data_table.ipynb>data table notebook</a>'\n",
              "          + ' to learn more about interactive tables.';\n",
              "        element.innerHTML = '';\n",
              "        dataTable['output_type'] = 'display_data';\n",
              "        await google.colab.output.renderOutput(dataTable, element);\n",
              "        const docLink = document.createElement('div');\n",
              "        docLink.innerHTML = docLinkHtml;\n",
              "        element.appendChild(docLink);\n",
              "      }\n",
              "    </script>\n",
              "  </div>\n",
              "\n",
              "\n",
              "<div id=\"df-7e5cd3f4-7a1c-4588-a754-fcdaf32965d3\">\n",
              "  <button class=\"colab-df-quickchart\" onclick=\"quickchart('df-7e5cd3f4-7a1c-4588-a754-fcdaf32965d3')\"\n",
              "            title=\"Suggest charts\"\n",
              "            style=\"display:none;\">\n",
              "\n",
              "<svg xmlns=\"http://www.w3.org/2000/svg\" height=\"24px\"viewBox=\"0 0 24 24\"\n",
              "     width=\"24px\">\n",
              "    <g>\n",
              "        <path d=\"M19 3H5c-1.1 0-2 .9-2 2v14c0 1.1.9 2 2 2h14c1.1 0 2-.9 2-2V5c0-1.1-.9-2-2-2zM9 17H7v-7h2v7zm4 0h-2V7h2v10zm4 0h-2v-4h2v4z\"/>\n",
              "    </g>\n",
              "</svg>\n",
              "  </button>\n",
              "\n",
              "<style>\n",
              "  .colab-df-quickchart {\n",
              "      --bg-color: #E8F0FE;\n",
              "      --fill-color: #1967D2;\n",
              "      --hover-bg-color: #E2EBFA;\n",
              "      --hover-fill-color: #174EA6;\n",
              "      --disabled-fill-color: #AAA;\n",
              "      --disabled-bg-color: #DDD;\n",
              "  }\n",
              "\n",
              "  [theme=dark] .colab-df-quickchart {\n",
              "      --bg-color: #3B4455;\n",
              "      --fill-color: #D2E3FC;\n",
              "      --hover-bg-color: #434B5C;\n",
              "      --hover-fill-color: #FFFFFF;\n",
              "      --disabled-bg-color: #3B4455;\n",
              "      --disabled-fill-color: #666;\n",
              "  }\n",
              "\n",
              "  .colab-df-quickchart {\n",
              "    background-color: var(--bg-color);\n",
              "    border: none;\n",
              "    border-radius: 50%;\n",
              "    cursor: pointer;\n",
              "    display: none;\n",
              "    fill: var(--fill-color);\n",
              "    height: 32px;\n",
              "    padding: 0;\n",
              "    width: 32px;\n",
              "  }\n",
              "\n",
              "  .colab-df-quickchart:hover {\n",
              "    background-color: var(--hover-bg-color);\n",
              "    box-shadow: 0 1px 2px rgba(60, 64, 67, 0.3), 0 1px 3px 1px rgba(60, 64, 67, 0.15);\n",
              "    fill: var(--button-hover-fill-color);\n",
              "  }\n",
              "\n",
              "  .colab-df-quickchart-complete:disabled,\n",
              "  .colab-df-quickchart-complete:disabled:hover {\n",
              "    background-color: var(--disabled-bg-color);\n",
              "    fill: var(--disabled-fill-color);\n",
              "    box-shadow: none;\n",
              "  }\n",
              "\n",
              "  .colab-df-spinner {\n",
              "    border: 2px solid var(--fill-color);\n",
              "    border-color: transparent;\n",
              "    border-bottom-color: var(--fill-color);\n",
              "    animation:\n",
              "      spin 1s steps(1) infinite;\n",
              "  }\n",
              "\n",
              "  @keyframes spin {\n",
              "    0% {\n",
              "      border-color: transparent;\n",
              "      border-bottom-color: var(--fill-color);\n",
              "      border-left-color: var(--fill-color);\n",
              "    }\n",
              "    20% {\n",
              "      border-color: transparent;\n",
              "      border-left-color: var(--fill-color);\n",
              "      border-top-color: var(--fill-color);\n",
              "    }\n",
              "    30% {\n",
              "      border-color: transparent;\n",
              "      border-left-color: var(--fill-color);\n",
              "      border-top-color: var(--fill-color);\n",
              "      border-right-color: var(--fill-color);\n",
              "    }\n",
              "    40% {\n",
              "      border-color: transparent;\n",
              "      border-right-color: var(--fill-color);\n",
              "      border-top-color: var(--fill-color);\n",
              "    }\n",
              "    60% {\n",
              "      border-color: transparent;\n",
              "      border-right-color: var(--fill-color);\n",
              "    }\n",
              "    80% {\n",
              "      border-color: transparent;\n",
              "      border-right-color: var(--fill-color);\n",
              "      border-bottom-color: var(--fill-color);\n",
              "    }\n",
              "    90% {\n",
              "      border-color: transparent;\n",
              "      border-bottom-color: var(--fill-color);\n",
              "    }\n",
              "  }\n",
              "</style>\n",
              "\n",
              "  <script>\n",
              "    async function quickchart(key) {\n",
              "      const quickchartButtonEl =\n",
              "        document.querySelector('#' + key + ' button');\n",
              "      quickchartButtonEl.disabled = true;  // To prevent multiple clicks.\n",
              "      quickchartButtonEl.classList.add('colab-df-spinner');\n",
              "      try {\n",
              "        const charts = await google.colab.kernel.invokeFunction(\n",
              "            'suggestCharts', [key], {});\n",
              "      } catch (error) {\n",
              "        console.error('Error during call to suggestCharts:', error);\n",
              "      }\n",
              "      quickchartButtonEl.classList.remove('colab-df-spinner');\n",
              "      quickchartButtonEl.classList.add('colab-df-quickchart-complete');\n",
              "    }\n",
              "    (() => {\n",
              "      let quickchartButtonEl =\n",
              "        document.querySelector('#df-7e5cd3f4-7a1c-4588-a754-fcdaf32965d3 button');\n",
              "      quickchartButtonEl.style.display =\n",
              "        google.colab.kernel.accessAllowed ? 'block' : 'none';\n",
              "    })();\n",
              "  </script>\n",
              "</div>\n",
              "\n",
              "    </div>\n",
              "  </div>\n"
            ],
            "application/vnd.google.colaboratory.intrinsic+json": {
              "type": "dataframe",
              "variable_name": "df_sample"
            }
          },
          "metadata": {},
          "execution_count": 7
        }
      ]
    },
    {
      "cell_type": "code",
      "source": [
        "# # prompt: Create a dataframe that only includes \"Hiring entity\" of \"TikTok\". Please ignore case\n",
        "# #\n",
        "# df_tiktok = df_sample[df_sample['Hiring entity'].str.lower() == 'tiktok']\n",
        "# df_tiktok.shape\n"
      ],
      "metadata": {
        "id": "W_wyIPjC9s4K"
      },
      "execution_count": 8,
      "outputs": []
    },
    {
      "cell_type": "code",
      "source": [
        "# df_tiktok_small = df_tiktok.sample(n=2).copy()\n",
        "# df_tiktok_small.shape"
      ],
      "metadata": {
        "id": "nm2blcJe9s0j"
      },
      "execution_count": 9,
      "outputs": []
    },
    {
      "cell_type": "code",
      "source": [
        "# Pull out tiktok data\n",
        "# Step 1: Filter by \"Hiring entity\" to include only \"TikTok\"\n",
        "tiktok_jobs = df_sample[df_sample['Hiring entity'].str.contains(\"TikTok\", case=False, na=False)]\n",
        "tiktok_jobs.shape"
      ],
      "metadata": {
        "colab": {
          "base_uri": "https://localhost:8080/"
        },
        "id": "nuBR8TuNOV2R",
        "outputId": "6ce50cc6-dd7a-43fd-b55e-c848c61e3a03"
      },
      "execution_count": 10,
      "outputs": [
        {
          "output_type": "execute_result",
          "data": {
            "text/plain": [
              "(1640, 31)"
            ]
          },
          "metadata": {},
          "execution_count": 10
        }
      ]
    },
    {
      "cell_type": "code",
      "source": [
        "# prompt: remove duplicates based on \"Full job description\"\n",
        "#\n",
        "tiktok_jobs = tiktok_jobs.drop_duplicates(subset=['Full job description'])\n",
        "tiktok_jobs.shape"
      ],
      "metadata": {
        "colab": {
          "base_uri": "https://localhost:8080/"
        },
        "id": "o6DjtljVOXgG",
        "outputId": "99b163e5-81c1-46da-8306-57f76d3822b1"
      },
      "execution_count": 11,
      "outputs": [
        {
          "output_type": "execute_result",
          "data": {
            "text/plain": [
              "(1633, 31)"
            ]
          },
          "metadata": {},
          "execution_count": 11
        }
      ]
    },
    {
      "cell_type": "code",
      "source": [
        "\n",
        "# Step 2: Convert \"Date posted\" to datetime format (modify the format if needed)\n",
        "tiktok_jobs['Date posted'] = pd.to_datetime(tiktok_jobs['Date posted'], errors='coerce')\n",
        "\n",
        "# Step 3: Filter jobs posted in the last 12 months\n",
        "one_year_ago = datetime.now() - timedelta(days=547)\n",
        "recent_tiktok_jobs = tiktok_jobs[tiktok_jobs['Date posted'] >= one_year_ago]\n",
        "\n",
        "recent_tiktok_jobs.shape"
      ],
      "metadata": {
        "colab": {
          "base_uri": "https://localhost:8080/"
        },
        "id": "Gqp2QPEKIz0E",
        "outputId": "1e7e4cd2-f3f2-49e8-a22e-ee83249974f1"
      },
      "execution_count": 12,
      "outputs": [
        {
          "output_type": "execute_result",
          "data": {
            "text/plain": [
              "(1060, 31)"
            ]
          },
          "metadata": {},
          "execution_count": 12
        }
      ]
    },
    {
      "cell_type": "code",
      "source": [
        "recent_tiktok_jobs['Date posted'].max()"
      ],
      "metadata": {
        "colab": {
          "base_uri": "https://localhost:8080/"
        },
        "id": "3HTMddMNCDxo",
        "outputId": "d4220dba-9bef-4499-9b6b-35d807308fea"
      },
      "execution_count": 13,
      "outputs": [
        {
          "output_type": "execute_result",
          "data": {
            "text/plain": [
              "Timestamp('2024-06-17 00:00:00')"
            ]
          },
          "metadata": {},
          "execution_count": 13
        }
      ]
    },
    {
      "cell_type": "code",
      "source": [
        "# Step 4: Randomly sample 100 jobs (or fewer if less than 100 are available)\n",
        "sampled_jobs = recent_tiktok_jobs.sample(n=min(5, len(recent_tiktok_jobs)), random_state=42)\n",
        "\n",
        "sampled_jobs.shape\n"
      ],
      "metadata": {
        "id": "r5qkddHrJV-j",
        "colab": {
          "base_uri": "https://localhost:8080/"
        },
        "outputId": "951ff9e9-0992-440f-d4cc-043bfb30460f"
      },
      "execution_count": 70,
      "outputs": [
        {
          "output_type": "execute_result",
          "data": {
            "text/plain": [
              "(5, 31)"
            ]
          },
          "metadata": {},
          "execution_count": 70
        }
      ]
    },
    {
      "cell_type": "code",
      "source": [
        "# prompt: Modify print() output so that the text wraps automatically at 250 charcters\n",
        "def print_wrapped(text, width=100):\n",
        "  wrapped_text = textwrap.fill(text, width=width)\n",
        "  return wrapped_text\n"
      ],
      "metadata": {
        "id": "dOmappSLM_x_"
      },
      "execution_count": 55,
      "outputs": []
    },
    {
      "cell_type": "code",
      "source": [
        "job_post = sampled_jobs['Full job description'].iloc[0]\n",
        "print_wrapped(job_post)"
      ],
      "metadata": {
        "colab": {
          "base_uri": "https://localhost:8080/",
          "height": 123
        },
        "id": "uqNEksG9MvrY",
        "outputId": "e59c855a-bcde-418e-9868-0eccc7c5b329"
      },
      "execution_count": 71,
      "outputs": [
        {
          "output_type": "execute_result",
          "data": {
            "text/plain": [
              "'Responsibilities About TikTok U.S. Data SecurityTikTok is the leading destination for short-form\\nmobile video. Our mission is to inspire creativity and bring joy. U.S. Data Security (\"USDS\") is a\\nsubsidiary of TikTok in the U.S. This new, security-first division was created to bring heightened\\nfocus and governance to our data protection policies and content assurance protocols to keep U.S.\\nusers safe. Our focus is on providing oversight and protection of the TikTok platform and U.S. user\\ndata, so millions of Americans can continue turning to TikTok to learn something new, earn a living,\\nexpress themselves creatively, or be entertained. The teams within USDS that deliver on this\\ncommitment daily span across Trust & Safety, Security & Privacy, Engineering, User & Product Ops,\\nCorporate Functions and more.Why Join UsCreation is the core of TikTok\\'s purpose. Our platform is\\nbuilt to help imaginations thrive. This is doubly true of the teams that make TikTok possible.\\nTogether, we inspire creativity and bring joy - a mission we all believe in and aim towards\\nachieving every day. To us, every challenge, no matter how difficult, is an opportunity; to learn,\\nto innovate, and to grow as one team. Status quo? Never. Courage? Always. At TikTok, we create\\ntogether and grow together. That\\'s how we drive impact - for ourselves, our company, and the\\ncommunities we serve. Join us.About the Team:Governance and Experience is a global team responsible\\nfor ensuring our marketplace is safe and trustworthy for not only users but also sellers and\\ncreators. We value user satisfaction and work on policies, rules, and systems to ensure quality. In\\norder to enhance collaboration and cross-functional partnerships, among other things, at this time,\\nour organization follows a hybrid work schedule that requires employees to work in the office 3 days\\na week, or as directed by their manager, department. We regularly review our hybrid work model, and\\nthe specific requirements may change at any time.Responsibilities:- Experienced in managing end to\\nend large-scale quantitative analysis projects and monitoring system - Apply investigational and\\nanalytic skills to monitor, audit, and analyze potential fraudulent cases and consolidate anti-fraud\\nrules- Design processes and build effective workflows to define characteristics of different fraud\\ntypes, capture new risk types, and collaborate with cross-functional teams to drive improvements of\\nexisting tools, processes, and models related to fraud management- Understand the trends and\\nintelligence of fraudulent activities in each local market and design effective monitoring tools to\\nmitigate fraud- Define key performance metrics and build detailed reporting models for effective\\ntracking, reporting, and feedback on measures implemented- Research fraud-related policies and build\\neffective enforcement processes to prevent and penalize bad actors while balancing user experiences-\\nCommunicate findings and complex results to key stakeholders and manage timeline of key projects-\\nCollaborate with cross-functional teams to come up with data-driven solutions - Manage and supervise\\nanalysts and provide guidance on fraud policies, enforcement measures, and influence key\\nstakeholdersQualifications Qualifications:- Bachelor degree or above is required. Major in\\nmathematics, statistics, computer science, engineering is preferred- Proficient in SQL and familiar\\nwith Python or R for data analysis-  2 years of relevant experience in one of the following areas:\\nAntifraud, Finance Service, Risk Management, Trust & Safety, Data Analytics, Data Science in\\neCommerce or Tech industry in general; - A plus if you have knowledge or experience in Payment Risk\\nand Fraud prevention-  Excellent written and verbal communication with the ability to work with\\nmulti-cultural and global teams with little supervision- Intellectually curious, data-driven,\\nresult-oriented, high in agility and has a high desire to learn and contributeTikTok is committed to\\ncreating an inclusive space where employees are valued for their skills, experiences, and unique\\nperspectives. Our platform connects people from across the globe and so does our workplace. At\\nTikTok, our mission is to inspire creativity and bring joy. To achieve that goal, we are committed\\nto celebrating our diverse voices and to creating an environment that reflects the many communities\\nwe reach. We are passionate about this and hope you are too.TikTok is committed to providing\\nreasonable accommodations in our recruitment processes for candidates with disabilities, pregnancy,\\nsincerely held religious beliefs or other reasons protected by applicable laws. If you need\\nassistance or a reasonable accommodation, please reach out to us at https:, , shorturl.at, ktJP6Data\\nSecurity StatementThis role requires the ability to work with and support systems designed to\\nprotect sensitive data and information. As such, this role will be subject to strict national\\nsecurity-related screening.Job Information[For Pay Transparency] Compensation Description (annually)\\nThe base salary range for this position in the selected city is $8000 - $18000 annually.Compensation\\nmay vary outside of this range depending on a number of factors, including a candidate\\'s\\nqualifications, skills, competencies and experience, and location. Base pay is one part of the Total\\nPackage that is provided to compensate and recognize employees for their work, and this role may be\\neligible for additional discretionary bonuses, incentives, and restricted stock units.Our company\\nbenefits are designed to convey company culture and values, to create an efficient and inspiring\\nwork environment, and to support our employees to give their best in both work and life. We offer\\nthe following benefits to eligible employees: We cover 100% premium coverage for employee medical\\ninsurance, approximately 75% premium coverage for dependents and offer a Health Savings Account(HSA)\\nwith a company match. As well as Dental, Vision, Short, Long term Disability, Basic Life, Voluntary\\nLife and AD&D insurance plans. In addition to Flexible Spending Account(FSA) Options like Health\\nCare, Limited Purpose and Dependent Care. Our time off and leave plans are: 10 paid holidays per\\nyear plus 17 days of Paid Personal Time Off (PPTO) (prorated upon hire and increased by tenure) and\\n10 paid sick days per year as well as 12 weeks of paid Parental leave and 8 weeks of paid\\nSupplemental Disability. We also provide generous benefits like mental and emotional health benefits\\nthrough our EAP and Lyra. A 401K company match, gym and cellphone service reimbursements. The\\nCompany reserves the right to modify or change these benefits programs at any time, with or without\\nnotice.'"
            ],
            "application/vnd.google.colaboratory.intrinsic+json": {
              "type": "string"
            }
          },
          "metadata": {},
          "execution_count": 71
        }
      ]
    },
    {
      "cell_type": "markdown",
      "source": [
        "---\n",
        "# Test OpenAI and Pydantic\n"
      ],
      "metadata": {
        "id": "UbFWHd8MJl-c"
      }
    },
    {
      "cell_type": "code",
      "source": [
        "# Set up a new, simplified Pydantic class\n",
        "#\n",
        "class Title(BaseModel):\n",
        "    \"\"\"\n",
        "    Represents the full title of the job posting.\n",
        "\n",
        "    This model captures the full title of the job posting\n",
        "    Examples include:\n",
        "    'Senior Machine Learning Engineer, TikTok Ads Core- Business Account',\n",
        "    'Lead Research Engineer, Machine Learning - TikTok Privacy Innovation Lab'\n",
        "    \"\"\"\n",
        "    title: str # Added type annotation for title\n",
        "\n",
        "class Role(BaseModel):\n",
        "    \"\"\"\n",
        "    Represents the area in which the employee will work.\n",
        "\n",
        "    This model capture the area, department, or division in which the employee\n",
        "    will work within the company. Examples include:\n",
        "    'Research and development', 'User engagement', 'Systems infrastructure',\n",
        "    'Trust and safety'\n",
        "    \"\"\"\n",
        "    role: str # Added type annotation for role\n",
        "\n",
        "class Objectives(BaseModel):\n",
        "    \"\"\"\n",
        "    Represents the stated objectives the company has set for the employee.\n",
        "    Examples include:\n",
        "    ' 1. Drive insightful understanding of Live users and creators to accelerate\n",
        "    better user, creator experience in Live.', '2. Keep track of core metrics and\n",
        "    attribute metric changes to root causes.', '3. Use data and\\nexperiments to\n",
        "    verify hypotheses around bottlenecks in product growth, and consult on the\n",
        "    direction for improvement.', '4. Work with MLE and product stakeholders to\n",
        "    deLiver product insights and strategy.'\n",
        "    \"\"\"\n",
        "    objectives: list[str] # Added type annotation for objectives\n",
        "\n",
        "class Technologies(BaseModel):\n",
        "    \"\"\"\n",
        "    Represents a technology-based skills required by a hiring entity.\n",
        "\n",
        "    This model captures basic information about a products and technologies\n",
        "    mentioned within this job post. Examples include:\n",
        "    'Spark', 'Hadoop', 'PyTorch', 'Git', 'OpenAI', 'Vertex AI', 'Google Cloud',\n",
        "    'Python', 'SQL', 'Llama', 'LangChain'\n",
        "    \"\"\"\n",
        "    technologies: list[str]  # Added type annotation for technologies\n",
        "\n",
        "class Skills(BaseModel):\n",
        "    \"\"\"\n",
        "    Represents a technology-based skills required by a hiring entity.\n",
        "\n",
        "    This model captures basic information about a business skills mentioned\n",
        "    within this job post. Examples include:\n",
        "    'data collection', 'data cleaning', 'data analysis', 'reporting',\n",
        "    'data visualization', 'training', 'stakeholder collaboration', 'MLOps',\n",
        "    'DataOps', 'Responsible AI', 'Data Engineering', 'Data Science', 'Data Warehousing'\n",
        "    \"\"\"\n",
        "    skills: list[str]  # Added type annotation for skills\n",
        "\n",
        "class Summary(BaseModel):\n",
        "    \"\"\"\n",
        "    Represents the area in which the employee will work.\n",
        "\n",
        "    This model capture the a concise, 250 word summary of the job posting, focusing\n",
        "    on the job itself rather than the company or the job requirements and benefits.'\n",
        "    \"\"\"\n",
        "    summary: str # Added type annotation for role\n",
        "\n",
        "class JobResponseSimple(BaseModel):\n",
        "    \"\"\"\n",
        "    Represents the structured response for an article analysis.\n",
        "\n",
        "    This model aggregates information about title, role, objectives, technologies,\n",
        "    and skills mentioned in a job post\n",
        "    \"\"\"\n",
        "    title: str\n",
        "    role: str\n",
        "    objectives: list[Objectives]\n",
        "    technologies: list[Technologies]\n",
        "    skills: list[Skills]\n",
        "    summary: str"
      ],
      "metadata": {
        "id": "JYV5dXcTEDF9"
      },
      "execution_count": 76,
      "outputs": []
    },
    {
      "cell_type": "code",
      "source": [
        "# Simplify our inference function\n",
        "#\n",
        "client = OpenAI()\n",
        "\n",
        "title = \"\"\n",
        "role = \"\"\n",
        "objectives = []\n",
        "technologies = []\n",
        "skills = []\n",
        "summary = \"\"\n",
        "\n",
        "def parse_post_simple(jobpost):\n",
        "    completion = client.beta.chat.completions.parse(\n",
        "    model=\"gpt-4o-mini\",\n",
        "    messages=[\n",
        "            {\"role\": \"system\", \"content\": \"You are a helpful assistant that \\\n",
        "            scans job posts for organization info, the technologies and products, \\\n",
        "            and business skills required for a given job posting. Please be thorough \\\n",
        "            and include as many technologies and skills as you can in your response. \\\n",
        "            Do not include the examples UNLESS they actual appear in the jobpost.\"},\n",
        "            {\"role\": \"user\", \"content\": jobpost},\n",
        "        ],\n",
        "        response_format=JobResponseSimple,\n",
        "    )\n",
        "\n",
        "    message = completion.choices[0].message\n",
        "    if message.parsed:\n",
        "        output = []\n",
        "        output.append(str(message.parsed.title))\n",
        "        output.append(str(message.parsed.role))\n",
        "        for objectives in message.parsed.objectives:\n",
        "            output.append(str(objectives))\n",
        "        for technologies in message.parsed.technologies:\n",
        "            output.append(str(technologies))\n",
        "        for skills in message.parsed.skills:\n",
        "            output.append(str(skills))\n",
        "        output.append(str(message.parsed.summary))\n",
        "        return output\n",
        "    else:\n",
        "        return message.refusal"
      ],
      "metadata": {
        "id": "KBSwCLbgENo3"
      },
      "execution_count": 67,
      "outputs": []
    },
    {
      "cell_type": "code",
      "source": [
        "# Run our test\n",
        "#\n",
        "test_ner = parse_post_simple(job_post)\n",
        "print(test_ner)"
      ],
      "metadata": {
        "colab": {
          "base_uri": "https://localhost:8080/"
        },
        "id": "iKTTakQnCi4B",
        "outputId": "b55c9f47-d5be-4305-d4ae-bb16db3f3aac"
      },
      "execution_count": 68,
      "outputs": [
        {
          "output_type": "stream",
          "name": "stdout",
          "text": [
            "['Analyst - U.S. Data Security', 'Analyst', \"objectives=['Apply investigational and analytic skills to monitor, audit, and analyze potential fraudulent cases and consolidate anti-fraud rules', 'Design processes and build effective workflows to define characteristics of different fraud types and mitigate fraud', 'Define key performance metrics and build detailed reporting models for effective tracking and reporting on measures implemented', 'Research fraud-related policies and build effective enforcement processes', 'Communicate findings and complex results to key stakeholders and manage timeline of key projects']\", \"technologies=['SQL', 'Python', 'R']\", \"skills=['Quantitative analysis', 'Data analysis', 'Fraud management', 'Project management', 'Collaboration', 'Reporting', 'Statistical analysis']\", \"The Analyst role at TikTok's U.S. Data Security team involves managing large-scale quantitative analysis projects, identifying and addressing fraudulent activities, and collaborating with cross-functional teams to enhance data protection policies and processes.\"]\n"
          ]
        }
      ]
    },
    {
      "cell_type": "markdown",
      "source": [
        "---\n",
        "# Append data to individual columns in our dataframe\n"
      ],
      "metadata": {
        "id": "xQsniJChFrcn"
      }
    },
    {
      "cell_type": "code",
      "source": [
        "# Inference function definition\n",
        "#\n",
        "title = \"\"\n",
        "role = \"\"\n",
        "objectives = []\n",
        "technologies = []\n",
        "skills = []\n",
        "summary = \"\"\n",
        "\n",
        "def parse_post_simple(jobpost):\n",
        "    completion = client.beta.chat.completions.parse(\n",
        "    model=\"gpt-4o-mini\",\n",
        "    messages=[\n",
        "            {\"role\": \"system\", \"content\": \"You are a helpful assistant that \\\n",
        "            scans job posts for organization info, the technologies and products, \\\n",
        "            and business skills required for a given job posting. Please be thorough \\\n",
        "            and include as many technologies and skills as you can in your response. \\\n",
        "            Do not include the examples UNLESS they actual appear in the jobpost.\"},\n",
        "            {\"role\": \"user\", \"content\": jobpost},\n",
        "        ],\n",
        "        response_format=JobResponseSimple,\n",
        "    )\n",
        "\n",
        "    message = completion.choices[0].message\n",
        "    if message.parsed:\n",
        "        # Separate lists for technologies and business skills\n",
        "        title = str(message.parsed.title)\n",
        "        role = str(message.parsed.role)\n",
        "        objectives = [str(obj) for obj in message.parsed.objectives]\n",
        "        technologies = [str(tech) for tech in message.parsed.technologies]\n",
        "        skills = [str(skill) for skill in message.parsed.skills]\n",
        "        summary = str(message.parsed.summary)\n",
        "\n",
        "        # Return as separate values\n",
        "        return title, role, objectives, technologies, skills, summary\n",
        "    else:\n",
        "        return \"\", \"\", [], [], [], \"\"  # Return empty lists in case of refusal or no parsing\n"
      ],
      "metadata": {
        "id": "G1A4w8HtF6B3"
      },
      "execution_count": 78,
      "outputs": []
    },
    {
      "cell_type": "code",
      "source": [
        "# Convert sample_jobs into df for processing\n",
        "#\n",
        "df = sampled_jobs.copy()\n",
        "df.shape"
      ],
      "metadata": {
        "colab": {
          "base_uri": "https://localhost:8080/"
        },
        "id": "2phikKnUGL6g",
        "outputId": "70d9a162-e279-4aca-dca2-49045595f22e"
      },
      "execution_count": 77,
      "outputs": [
        {
          "output_type": "execute_result",
          "data": {
            "text/plain": [
              "(5, 31)"
            ]
          },
          "metadata": {},
          "execution_count": 77
        }
      ]
    },
    {
      "cell_type": "code",
      "source": [
        "# Apply the parse_post_simple function to each job post\n",
        "#\n",
        "df['title'], df['role'], df['objectives'], df['technologies'], df['skills'], df['summary'] \\\n",
        "= zip(*sampled_jobs['Full job description'].apply(parse_post_simple))\n"
      ],
      "metadata": {
        "id": "9FkUysDHF541"
      },
      "execution_count": 79,
      "outputs": []
    },
    {
      "cell_type": "code",
      "source": [
        "df.columns"
      ],
      "metadata": {
        "colab": {
          "base_uri": "https://localhost:8080/"
        },
        "id": "eEq5LX5aLsDU",
        "outputId": "e5e5f959-8896-4924-8cf8-0cdf7bf3d8b5"
      },
      "execution_count": 88,
      "outputs": [
        {
          "output_type": "execute_result",
          "data": {
            "text/plain": [
              "Index(['RecordID', 'Job title', 'Full job description', 'Date collected',\n",
              "       'Date posted', 'Week', 'Year', 'Month', 'Quarter', 'Hiring entity',\n",
              "       'Entity size', 'Home office hybrid work', 'Full or part time status',\n",
              "       'Number of applicants', 'Longitude', 'Latitude', 'City', 'Territory',\n",
              "       'Region', 'Experience level', 'Education level', 'Salary start',\n",
              "       'Salary end', 'Main industry', 'Source name', 'Source URL', 'File Date',\n",
              "       'title', 'role', 'objectives', 'technologies', 'skills', 'summary'],\n",
              "      dtype='object')"
            ]
          },
          "metadata": {},
          "execution_count": 88
        }
      ]
    },
    {
      "cell_type": "code",
      "source": [
        "# Check results\n",
        "#\n",
        "def check_results(df, record):\n",
        "    \"\"\"Check the results of the parse_post_simple function.\"\"\"\n",
        "    print(f\"title: {df.title.iloc[record]}\")\n",
        "    print(f\"role: {df.role.iloc[record]}\")\n",
        "    print(f\"objectives: {df.objectives.iloc[record]}\")\n",
        "    print(f\"technologies: {df.technologies.iloc[record]}\")\n",
        "    print(f\"skills: {df.skills.iloc[record]}\")\n",
        "    print(f\"summary: {df.summary.iloc[record]}\")\n"
      ],
      "metadata": {
        "id": "ocT0rGujM3dk"
      },
      "execution_count": 97,
      "outputs": []
    },
    {
      "cell_type": "code",
      "source": [
        "check_results(df, 2)\n"
      ],
      "metadata": {
        "colab": {
          "base_uri": "https://localhost:8080/"
        },
        "id": "j6JS_JcnLWUK",
        "outputId": "8f1a6b22-479a-4197-f2e3-406109da0505"
      },
      "execution_count": 98,
      "outputs": [
        {
          "output_type": "stream",
          "name": "stdout",
          "text": [
            "title: Data Analyst\n",
            "role: Data Team Member\n",
            "objectives: [\"objectives=['Improve the recommendation strategy of short video service.', 'Understand user behavior in depth and optimize user experience such as creation and browsing.', 'Optimize the index system of recommendation strategy and do attribution analysis on abnormal indicators.', 'Analyze business data in different markets, formulate targeted recommendation strategies, and evaluate strategic benefits.', 'Study special topics such as ecological growth of short video content.']\"]\n",
            "technologies: [\"technologies=['machine learning', 'recommendation algorithms', 'data analysis']\"]\n",
            "skills: [\"skills=['user empathy', 'problem solving', 'analytical skills', 'communication skills', 'logical thinking', 'data analysis of Internet companies']\"]\n",
            "summary: The role involves improving recommendation strategies for TikTok's short video service, understanding user behavior, and optimizing user experience through data analysis.\n"
          ]
        }
      ]
    },
    {
      "cell_type": "code",
      "source": [
        "# Drop 'unwanted columns\n",
        "#\n",
        "df = df.drop(['Job title category', 'AI technologies', 'AI skills', 'Non-ASCII Chars'], axis=1)\n",
        "df.columns"
      ],
      "metadata": {
        "id": "sKvz5R2mOX7X",
        "colab": {
          "base_uri": "https://localhost:8080/"
        },
        "outputId": "fc5fc5d3-fb96-4279-971b-d963d89835f3"
      },
      "execution_count": 82,
      "outputs": [
        {
          "output_type": "execute_result",
          "data": {
            "text/plain": [
              "Index(['RecordID', 'Job title', 'Full job description', 'Date collected',\n",
              "       'Date posted', 'Week', 'Year', 'Month', 'Quarter', 'Hiring entity',\n",
              "       'Entity size', 'Home office hybrid work', 'Full or part time status',\n",
              "       'Number of applicants', 'Longitude', 'Latitude', 'City', 'Territory',\n",
              "       'Region', 'Experience level', 'Education level', 'Salary start',\n",
              "       'Salary end', 'Main industry', 'Source name', 'Source URL', 'File Date',\n",
              "       'title', 'role', 'objectives', 'technologies', 'skills', 'summary'],\n",
              "      dtype='object')"
            ]
          },
          "metadata": {},
          "execution_count": 82
        }
      ]
    },
    {
      "cell_type": "code",
      "source": [
        "# Write our new df to disk\n",
        "#\n",
        "df.to_pickle(\"/content/gdrive/MyDrive/Colab Notebooks/Datasets/df_ner_tiktok.pkl\")\n",
        "df.to_csv(\"/content/gdrive/MyDrive/Colab Notebooks/Datasets/df_ner_tiktok.csv\")"
      ],
      "metadata": {
        "id": "qsm_0u8PJuI7"
      },
      "execution_count": 83,
      "outputs": []
    },
    {
      "cell_type": "markdown",
      "source": [
        "---\n",
        "# Summarizing and analyzing our full list of jobs"
      ],
      "metadata": {
        "id": "uhSl7HCuKoeX"
      }
    },
    {
      "cell_type": "code",
      "source": [
        "# Combine our test data into a single block of text\n",
        "#\n",
        "job_data = \"\\n\\n\".join([\n",
        "    f\"Title: {row['title']}\\n\"\n",
        "    f\"Date posted: {row['Date posted']}\\n\"\n",
        "    f\"Role: {row['role']}\\n\"\n",
        "    f\"Objectives: {row['objectives']}\\n\"\n",
        "    f\"Technologies: {row['technologies']}\\n\"\n",
        "    f\"Skills: {row['skills']}\\n\"\n",
        "    f\"Summary: {row['summary']}\\n\"\n",
        "    for index, row in df.iterrows()\n",
        "])\n",
        "print(job_data)"
      ],
      "metadata": {
        "colab": {
          "base_uri": "https://localhost:8080/"
        },
        "id": "iHxk8OoPPNE_",
        "outputId": "19d47758-5c6e-41c0-9d96-8620b91effa1"
      },
      "execution_count": 101,
      "outputs": [
        {
          "output_type": "stream",
          "name": "stdout",
          "text": [
            "Title: Data Analyst - U.S. Data Security\n",
            "Date posted: 2024-04-24 00:00:00\n",
            "Role: Data Analyst\n",
            "Objectives: [\"objectives=['Manage end-to-end large-scale quantitative analysis projects and monitoring systems.', 'Audit and analyze potential fraudulent cases and consolidate anti-fraud rules.', 'Design processes and effective workflows to define characteristics of different fraud types and capture new risk types.', 'Collaborate with cross-functional teams to drive improvements in fraud management tools and processes.']\", \"objectives=['Design monitoring tools to mitigate fraud based on trends in local markets.', 'Define key performance metrics and build detailed reporting models for tracking and feedback.', 'Research fraud-related policies and build enforcement processes to prevent and penalize bad actors.']\", \"objectives=['Communicate complex results to key stakeholders and manage project timelines.', 'Supervise analysts and provide guidance on fraud policies and enforcement measures.']\"]\n",
            "Technologies: [\"technologies=['SQL', 'Python', 'R']\"]\n",
            "Skills: [\"skills=['Quantitative analysis', 'Analytic skills', 'Fraud analysis', 'Data analysis', 'Process design', 'Collaboration', 'Reporting', 'Communication skills', 'Supervision']\"]\n",
            "Summary: The role involves managing large-scale quantitative analysis projects, monitoring fraudulent activities, and collaborating with cross-functional teams to ensure data security and user protection on the TikTok platform.\n",
            "\n",
            "\n",
            "Title: Machine Learning Systems Engineer\n",
            "Date posted: 2023-08-18 00:00:00\n",
            "Role: Machine Learning Systems Engineer\n",
            "Objectives: [\"objectives=['Research and develop our machine learning systems, including heterogeneous computing architecture, management, scheduling, and monitoring', 'Manage cross-layer optimisation of system and AI algorithms and hardware for machine learning (GPU, ASIC)', 'Implement both general purpose training framework features and model specific optimisations (e.g. LLM, diffusions)', 'Improve efficiency and stability for extremely large scale distributed training jobs']\"]\n",
            "Technologies: [\"technologies=['PyTorch', 'Jax', 'CUDA', 'C', 'C++', 'High performance computing (HPC)', 'RDMA', 'MPI', 'NCCL', 'Distributed training frameworks (DeepSpeed, FSDP, Megatron, GSPMD)', 'AI compiler stacks (torch.fx, XLA, MLIR)']\"]\n",
            "Skills: [\"skills=['Research and development of ML systems', 'Cross-layer optimisation', 'General purpose training framework features', 'Model specific optimisations', 'System management', 'Monitoring', 'Large scale systems design', 'In-depth CUDA programming', 'Performance tuning']\"]\n",
            "Summary: TikTok is seeking a Machine Learning Systems Engineer for their Applied Machine Learning Systems team to develop and enhance ML infrastructure, particularly for large scale language models and GPU-based systems.\n",
            "\n",
            "\n",
            "Title: Data Analyst\n",
            "Date posted: 2023-04-28 00:00:00\n",
            "Role: Data Team Member\n",
            "Objectives: [\"objectives=['Improve the recommendation strategy of short video service.', 'Understand user behavior in depth and optimize user experience such as creation and browsing.', 'Optimize the index system of recommendation strategy and do attribution analysis on abnormal indicators.', 'Analyze business data in different markets, formulate targeted recommendation strategies, and evaluate strategic benefits.', 'Study special topics such as ecological growth of short video content.']\"]\n",
            "Technologies: [\"technologies=['machine learning', 'recommendation algorithms', 'data analysis']\"]\n",
            "Skills: [\"skills=['user empathy', 'problem solving', 'analytical skills', 'communication skills', 'logical thinking', 'data analysis of Internet companies']\"]\n",
            "Summary: The role involves improving recommendation strategies for TikTok's short video service, understanding user behavior, and optimizing user experience through data analysis.\n",
            "\n",
            "\n",
            "Title: Privacy Innovation Lab Researcher\n",
            "Date posted: 2024-05-23 00:00:00\n",
            "Role: Researcher\n",
            "Objectives: [\"objectives=['Participate in the construction of a multi-party joint modeling and data analysis platform.', 'Work with product teams to understand key privacy requirements from TikTok product family and convert research outcomes into technical solutions and product prototypes.', 'Work with research teams for complex experiments requiring optimized algorithms running on large datasets or sophisticated data processing.', 'Build open-source tools and infrastructure for privacy related research and engage with community contributors in external events including meetups, hackathons, summits.']\"]\n",
            "Technologies: [\"technologies=['federated learning', 'distributed machine learning', 'TensorFlow', 'PyTorch', 'JAX', 'secure multi-party computation', 'federated machine learning', 'on-device machine learning', 'differential privacy']\"]\n",
            "Skills: [\"skills=['data analysis', 'algorithm optimization', 'programming with Go', 'programming with C++', 'programming with Python', 'programming with Rust', 'programming with Java']\"]\n",
            "Summary: TikTok's Privacy Innovation Lab is searching for experienced researchers to drive advancements in privacy technology, focusing on collaborative modeling, product integration, and community engagement.\n",
            "\n",
            "\n",
            "Title: Applied Machine Learning Engineer - E-commerce Recommendations\n",
            "Date posted: 2024-05-22 00:00:00\n",
            "Role: Applied Machine Learning Engineer\n",
            "Objectives: [\"objectives=['1. Building the intent classifier in a full-stack manner by designing taxonomy, creating and managing high quality labeled data, training the best performed machine learning model, and monitoring the online performance of the model.', '2. Building the prediction model by mapping the shopping journey of our users to chatbot actions, including suggesting common question-answers and transferring the user to human agent.', '3. Building the generation model by understanding business requests, exploring proper instructions, developing high-quality data, and finetuning a language model of billions of parameters.', '4. Working closely with our product and operation teams to quantitatively understand the impact of our chatbot and continuously bridge the business improvement action to model optimization action.']\"]\n",
            "Technologies: [\"technologies=['Python', 'Go', 'C++', 'Bert', 'GPT', 'Boosting', 'deep CTR']\"]\n",
            "Skills: [\"skills=['natural language processing', 'computer vision', 'multimodal', 'graph algorithms', 'search algorithms', 'text mining', 'data mining', 'large language models (LLM)', 'data structures', 'algorithms', 'machine learning', 'deep learning', 'problem-solving', 'analytical skills', 'communication skills', 'team collaboration']\"]\n",
            "Summary: The role involves developing NLP-related models for E-commerce, working on intent classification, prediction modeling, and language generation, requiring strong skills in various programming languages and machine learning techniques.\n",
            "\n"
          ]
        }
      ]
    },
    {
      "cell_type": "code",
      "source": [
        "# Generate prompt with job data\n",
        "#\n",
        "system_prompt = f\"\"\"\n",
        "You are an AI assistant specializing in analyzing job data to understand a company's strategic focus and workforce priorities.\n",
        "Given multiple job postings with roles, objectives, technologies, skills, and summaries, your task is to generate a comprehensive markdown summary\n",
        "detailing the overall nature of the job roles and what the company is focusing on. Use the following outline to structure the analysis:\n",
        "\n",
        "1. **Introduction**\n",
        "   Provide an introduction about TikTok’s current focus and strategic areas based on the job data analyzed.\n",
        "\n",
        "2. **Job Roles and Objectives**\n",
        "   Summarize the main job roles within the data set, detailing the key objectives of these roles. Highlight common themes and areas of strategic emphasis.\n",
        "\n",
        "3. **Technologies and Tools**\n",
        "   Identify the technologies and tools most frequently mentioned across the job posts. Explain how these technologies contribute to TikTok’s overall strategy.\n",
        "\n",
        "4. **Skills in Demand**\n",
        "   Outline the critical skills that TikTok seeks in its employees, both technical and soft skills. Discuss how these skills align with the company’s objectives.\n",
        "\n",
        "5. **Strategic Focus Areas**\n",
        "   Discuss what the job data suggests about TikTok’s strategic focus.\n",
        "\n",
        "6. **Conclusion**\n",
        "   Provide a conclusion summarizing TikTok’s overarching goals based on the job data, highlighting any emerging trends or notable observations.\n",
        "\n",
        "**Output Format**: Provide a markdown-formatted analysis based on the data.\n",
        "\"\"\"\n"
      ],
      "metadata": {
        "id": "gF3cKExwOuHd"
      },
      "execution_count": 110,
      "outputs": []
    },
    {
      "cell_type": "code",
      "source": [
        "# Test out our analysis\n",
        "#\n",
        "def generate_analysis(system_prompt, job_data):\n",
        "    \"\"\"Generate analysis based on job data.\"\"\"\n",
        "    job_data = str(job_data)\n",
        "\n",
        "    client = OpenAI()\n",
        "    response = client.chat.completions.create(\n",
        "        model=\"gpt-4o-mini\", # or we could try gpt-4o\n",
        "        messages=[\n",
        "            {\n",
        "            \"role\": \"system\",\n",
        "            \"content\": [\n",
        "                {\n",
        "                \"type\": \"text\",\n",
        "                \"text\": system_prompt\n",
        "                }\n",
        "            ]\n",
        "            },\n",
        "            {\n",
        "            \"role\": \"user\",\n",
        "            \"content\": [\n",
        "                {\n",
        "                \"type\": \"text\",\n",
        "                \"text\": \"**Data Input for Analysis:**\" + job_data\n",
        "                }\n",
        "            ]\n",
        "            },\n",
        "        ],\n",
        "        temperature=1,\n",
        "        max_tokens=1024,\n",
        "        top_p=1,\n",
        "        frequency_penalty=0,\n",
        "        presence_penalty=0,\n",
        "        response_format={\n",
        "            \"type\": \"text\"\n",
        "        }\n",
        "    )\n",
        "    print(response.choices[0].message.content)"
      ],
      "metadata": {
        "id": "UOP4bS5HT3aL"
      },
      "execution_count": 132,
      "outputs": []
    },
    {
      "cell_type": "code",
      "source": [
        "# Print out our results\n",
        "#\n",
        "generate_analysis(system_prompt, job_data)\n"
      ],
      "metadata": {
        "colab": {
          "base_uri": "https://localhost:8080/"
        },
        "id": "cBh0gsoaV_4W",
        "outputId": "c5fe8108-948d-418a-c28e-fcb967f67f65"
      },
      "execution_count": 133,
      "outputs": [
        {
          "output_type": "stream",
          "name": "stdout",
          "text": [
            "# TikTok Job Data Analysis\n",
            "\n",
            "## Introduction\n",
            "This analysis examines TikTok's job postings to ascertain the company’s current strategic focus and workforce priorities. The data illustrates a strong emphasis on data security, machine learning systems, and the enhancement of user experience through data analysis and recommendation algorithms. TikTok is clearly positioning itself at the forefront of technology and innovation, particularly in the realms of machine learning, privacy, and data analytics.\n",
            "\n",
            "## Job Roles and Objectives\n",
            "The job roles identified within the analyzed postings reflect a blend of analytical, technical, and research-focused positions. The key roles include:\n",
            "\n",
            "1. **Data Analyst (U.S. Data Security)**: Focuses on managing large-scale data analysis to detect and mitigate fraudulent activities, collaborating with teams to enhance fraud management processes.\n",
            "  \n",
            "2. **Machine Learning Systems Engineer**: Tasked with developing and optimizing machine learning infrastructures, particularly for large-scale systems that support efficiency in training and deployment.\n",
            "\n",
            "3. **Data Analyst**: Responsible for improving TikTok's recommendation strategies by analyzing user behaviors and optimizing user experience.\n",
            "\n",
            "4. **Privacy Innovation Lab Researcher**: Engages in advanced research relating to privacy technologies and their integration into TikTok's products, with an emphasis on community involvement.\n",
            "\n",
            "5. **Applied Machine Learning Engineer - E-commerce Recommendations**: Aims to develop natural language processing and prediction models to improve E-commerce functionalities within TikTok’s platform.\n",
            "\n",
            "Common themes across these roles include emphasis on collaboration across functions, a focus on security and privacy, and a strong alignment with machine learning and data-driven decision-making processes.\n",
            "\n",
            "## Technologies and Tools\n",
            "The analyzed job postings highlight several key technologies that are central to TikTok's strategic operations:\n",
            "\n",
            "- **Data Analysis Tools**: SQL, Python, R for analytics and process design.\n",
            "- **Machine Learning Frameworks**: PyTorch, JAX, and TensorFlow for building complex systems.\n",
            "- **High Performance Computing (HPC)** technologies: CUDA and MPI for optimizing machine learning architecture.\n",
            "- **Privacy Technologies**: Secure multi-party computation and federated learning systems are earmarked for research-focused roles to enhance user privacy.\n",
            "\n",
            "These technologies reflect TikTok’s commitment to leveraging advanced data processing and machine learning techniques, signaling a robust infrastructure aimed at supporting high-scale operations, enhancing user trust, and optimizing content delivery.\n",
            "\n",
            "## Skills in Demand\n",
            "TikTok is looking for both technical and soft skills across the roles, including:\n",
            "\n",
            "- **Technical Skills**: Proficiency in programming (Python, Go, C++, R), machine learning algorithms, data analysis, and high-performance computing.\n",
            "- **Analytical Skills**: Important for roles focused on data analysis, fraud detection, and machine learning optimization.\n",
            "- **Collaboration and Communication**: Crucial for team-oriented positions, particularly those that require cross-department cooperation to drive innovations and improvements.\n",
            "\n",
            "These skills align with TikTok's focus on fostering innovation, ensuring data integrity, and enhancing user experience through technology.\n",
            "\n",
            "## Strategic Focus Areas\n",
            "The job data underscores several strategic focus areas for TikTok:\n",
            "- **Data Security and Privacy**: There is a clear drive towards enhancing data security measures and ensuring compliance with privacy standards.\n",
            "- **Machine Learning and AI Development**: With multiple roles centered around machine learning, TikTok aims to leverage AI to optimize user interactions and operational efficiencies.\n",
            "- **User Experience Optimization**: Through improved recommendation algorithms, TikTok seeks to deepen its understanding of user behavior to create a more engaging platform.\n",
            "\n",
            "These focus areas not only highlight TikTok’s technological ambitions but also underscore the company's intent to prioritize user trust and satisfaction.\n",
            "\n",
            "## Conclusion\n",
            "In summary, TikTok’s job postings reflect a strategic pivot towards enhancing security, refining machine learning capabilities, and optimizing user experience through data-driven insights. The overarching goal appears to be a reinforcement of its infrastructure and technology to serve a growing user base while maintaining integrity in data handling and user privacy. Emerging trends suggest that TikTok is placing substantial emphasis on refining its recommendation engines and machine learning models, signaling a forward-looking approach as it navigates the complex landscape of social media and e-commerce technologies.\n"
          ]
        }
      ]
    },
    {
      "cell_type": "code",
      "source": [],
      "metadata": {
        "id": "k2SEJJ24QjtF"
      },
      "execution_count": null,
      "outputs": []
    }
  ]
}