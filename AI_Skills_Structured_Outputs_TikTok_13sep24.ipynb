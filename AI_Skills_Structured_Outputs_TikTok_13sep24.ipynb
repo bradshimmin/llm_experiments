{
  "cells": [
    {
      "cell_type": "markdown",
      "metadata": {
        "id": "view-in-github",
        "colab_type": "text"
      },
      "source": [
        "<a href=\"https://colab.research.google.com/github/bradshimmin/llm_experiments/blob/main/AI_Skills_Structured_Outputs_TikTok_13sep24.ipynb\" target=\"_parent\"><img src=\"https://colab.research.google.com/assets/colab-badge.svg\" alt=\"Open In Colab\"/></a>"
      ]
    },
    {
      "cell_type": "code",
      "execution_count": null,
      "metadata": {
        "colab": {
          "base_uri": "https://localhost:8080/"
        },
        "id": "R2Zm8HGgT2xI",
        "outputId": "2ba5462f-16c9-440b-fcdf-5506a4c0c504"
      },
      "outputs": [
        {
          "name": "stdout",
          "output_type": "stream",
          "text": [
            "\u001b[2K   \u001b[90m━━━━━━━━━━━━━━━━━━━━━━━━━━━━━━━━━━━━━━━━\u001b[0m \u001b[32m374.1/374.1 kB\u001b[0m \u001b[31m8.2 MB/s\u001b[0m eta \u001b[36m0:00:00\u001b[0m\n",
            "\u001b[2K   \u001b[90m━━━━━━━━━━━━━━━━━━━━━━━━━━━━━━━━━━━━━━━━\u001b[0m \u001b[32m1.1/1.1 MB\u001b[0m \u001b[31m11.4 MB/s\u001b[0m eta \u001b[36m0:00:00\u001b[0m\n",
            "\u001b[2K   \u001b[90m━━━━━━━━━━━━━━━━━━━━━━━━━━━━━━━━━━━━━━━━\u001b[0m \u001b[32m76.4/76.4 kB\u001b[0m \u001b[31m3.8 MB/s\u001b[0m eta \u001b[36m0:00:00\u001b[0m\n",
            "\u001b[2K   \u001b[90m━━━━━━━━━━━━━━━━━━━━━━━━━━━━━━━━━━━━━━━━\u001b[0m \u001b[32m77.9/77.9 kB\u001b[0m \u001b[31m4.4 MB/s\u001b[0m eta \u001b[36m0:00:00\u001b[0m\n",
            "\u001b[2K   \u001b[90m━━━━━━━━━━━━━━━━━━━━━━━━━━━━━━━━━━━━━━━━\u001b[0m \u001b[32m318.9/318.9 kB\u001b[0m \u001b[31m10.8 MB/s\u001b[0m eta \u001b[36m0:00:00\u001b[0m\n",
            "\u001b[2K   \u001b[90m━━━━━━━━━━━━━━━━━━━━━━━━━━━━━━━━━━━━━━━━\u001b[0m \u001b[32m58.3/58.3 kB\u001b[0m \u001b[31m1.6 MB/s\u001b[0m eta \u001b[36m0:00:00\u001b[0m\n",
            "\u001b[?25hAll done\n"
          ]
        }
      ],
      "source": [
        "# Set up software\n",
        "#\n",
        "!pip -q install openai tiktoken\n",
        "print(\"All done\")"
      ]
    },
    {
      "cell_type": "code",
      "execution_count": null,
      "metadata": {
        "colab": {
          "base_uri": "https://localhost:8080/"
        },
        "id": "xEhpYTvbUdXZ",
        "outputId": "7971df32-3a7c-49b7-9f2f-0d66bdd51488"
      },
      "outputs": [
        {
          "name": "stdout",
          "output_type": "stream",
          "text": [
            "all done\n"
          ]
        }
      ],
      "source": [
        "# Import libraries\n",
        "#\n",
        "import os\n",
        "import openai\n",
        "import pandas as pd\n",
        "import numpy as np\n",
        "from datetime import datetime, timedelta\n",
        "import textwrap\n",
        "import tiktoken\n",
        "\n",
        "from enum import Enum\n",
        "from typing import Union\n",
        "from pydantic import BaseModel\n",
        "from openai import OpenAI\n",
        "\n",
        "print(\"all done\")"
      ]
    },
    {
      "cell_type": "code",
      "execution_count": null,
      "metadata": {
        "id": "ohJ5EGCt_VM9"
      },
      "outputs": [],
      "source": [
        "# Load openai key\n",
        "#\n",
        "from google.colab import userdata\n",
        "os.environ[\"OPENAI_API_KEY\"] = userdata.get('OpenAI_key')"
      ]
    },
    {
      "cell_type": "markdown",
      "metadata": {
        "id": "eaHRqJfb_44U"
      },
      "source": [
        "---\n",
        "# Set up AI Skills data"
      ]
    },
    {
      "cell_type": "code",
      "execution_count": null,
      "metadata": {
        "colab": {
          "base_uri": "https://localhost:8080/"
        },
        "id": "Aeg70RDKANtq",
        "outputId": "6d027c34-c565-486b-afb6-21e5d6fe4ff9"
      },
      "outputs": [
        {
          "name": "stdout",
          "output_type": "stream",
          "text": [
            "Mounted at /content/gdrive\n",
            "all done\n"
          ]
        }
      ],
      "source": [
        "# Mount Google Drive\n",
        "#\n",
        "from google.colab import drive\n",
        "drive.mount('/content/gdrive')\n",
        "\n",
        "print(\"all done\")"
      ]
    },
    {
      "cell_type": "code",
      "execution_count": null,
      "metadata": {
        "id": "z7F8604s2rM_"
      },
      "outputs": [],
      "source": [
        "# Load our sample dataset using 2q24 cleaned df\n",
        "#\n",
        "df_sample = pd.read_pickle(\"/content/gdrive/MyDrive/Colab Notebooks/Datasets/ai_skills_tracker/ai_skills_2q24/ai_skills_2q24_final_clean_28aug24.pkl\")\n"
      ]
    },
    {
      "cell_type": "code",
      "execution_count": null,
      "metadata": {
        "colab": {
          "base_uri": "https://localhost:8080/"
        },
        "id": "wxe8qv5b9g-7",
        "outputId": "d2e2adb1-2177-40e2-e6c8-aa7eab00e5f3"
      },
      "outputs": [
        {
          "data": {
            "text/plain": [
              "(205517, 31)"
            ]
          },
          "execution_count": 6,
          "metadata": {},
          "output_type": "execute_result"
        }
      ],
      "source": [
        "df_sample.shape"
      ]
    },
    {
      "cell_type": "code",
      "execution_count": null,
      "metadata": {
        "colab": {
          "base_uri": "https://localhost:8080/",
          "height": 335
        },
        "id": "cWMovi-E70SP",
        "outputId": "15e64b72-a6aa-4efa-c2c7-5f96b730c3ba"
      },
      "outputs": [
        {
          "data": {
            "application/vnd.google.colaboratory.intrinsic+json": {
              "type": "dataframe",
              "variable_name": "df_sample"
            },
            "text/html": [
              "\n",
              "  <div id=\"df-89313acc-ca78-43e8-b828-7d293968096a\" class=\"colab-df-container\">\n",
              "    <div>\n",
              "<style scoped>\n",
              "    .dataframe tbody tr th:only-of-type {\n",
              "        vertical-align: middle;\n",
              "    }\n",
              "\n",
              "    .dataframe tbody tr th {\n",
              "        vertical-align: top;\n",
              "    }\n",
              "\n",
              "    .dataframe thead th {\n",
              "        text-align: right;\n",
              "    }\n",
              "</style>\n",
              "<table border=\"1\" class=\"dataframe\">\n",
              "  <thead>\n",
              "    <tr style=\"text-align: right;\">\n",
              "      <th></th>\n",
              "      <th>RecordID</th>\n",
              "      <th>Job title</th>\n",
              "      <th>Full job description</th>\n",
              "      <th>Date collected</th>\n",
              "      <th>Date posted</th>\n",
              "      <th>Week</th>\n",
              "      <th>Year</th>\n",
              "      <th>Month</th>\n",
              "      <th>Quarter</th>\n",
              "      <th>Hiring entity</th>\n",
              "      <th>...</th>\n",
              "      <th>Salary start</th>\n",
              "      <th>Salary end</th>\n",
              "      <th>Main industry</th>\n",
              "      <th>Job title category</th>\n",
              "      <th>AI technologies</th>\n",
              "      <th>AI skills</th>\n",
              "      <th>Source name</th>\n",
              "      <th>Source URL</th>\n",
              "      <th>File Date</th>\n",
              "      <th>Non-ASCII Chars</th>\n",
              "    </tr>\n",
              "  </thead>\n",
              "  <tbody>\n",
              "    <tr>\n",
              "      <th>0</th>\n",
              "      <td>1</td>\n",
              "      <td>Data Engineer</td>\n",
              "      <td>\"ALL our jobs are US based and candidates must...</td>\n",
              "      <td>2023-06-11</td>\n",
              "      <td>2023-06-11</td>\n",
              "      <td>23</td>\n",
              "      <td>2023</td>\n",
              "      <td>6</td>\n",
              "      <td>2023Q2</td>\n",
              "      <td>TechFetch.com - On Demand Tech Workforce hirin...</td>\n",
              "      <td>...</td>\n",
              "      <td>NaN</td>\n",
              "      <td>NaN</td>\n",
              "      <td>IT Services</td>\n",
              "      <td>Statistician Data Science</td>\n",
              "      <td>Bachelor, Ab Initio, Big Data, Healthcare Insu...</td>\n",
              "      <td>Databases, Computer Science, Information Techn...</td>\n",
              "      <td>LinkedIn</td>\n",
              "      <td>https://www.linkedin.com/jobs/view/data-engine...</td>\n",
              "      <td>2023-04-01</td>\n",
              "      <td>[]</td>\n",
              "    </tr>\n",
              "    <tr>\n",
              "      <th>1</th>\n",
              "      <td>2</td>\n",
              "      <td>Data Scientist</td>\n",
              "      <td>\"ALL our jobs are US based and candidates must...</td>\n",
              "      <td>2023-06-11</td>\n",
              "      <td>2023-06-11</td>\n",
              "      <td>23</td>\n",
              "      <td>2023</td>\n",
              "      <td>6</td>\n",
              "      <td>2023Q2</td>\n",
              "      <td>TechFetch.com - On Demand Tech Workforce hirin...</td>\n",
              "      <td>...</td>\n",
              "      <td>NaN</td>\n",
              "      <td>NaN</td>\n",
              "      <td>IT Services</td>\n",
              "      <td>Statistician AI</td>\n",
              "      <td>Transformation, Sas, Azure, Databricks, Data L...</td>\n",
              "      <td>Support, Business Intelligence, Server, Langua...</td>\n",
              "      <td>LinkedIn</td>\n",
              "      <td>https://www.linkedin.com/jobs/view/data-scient...</td>\n",
              "      <td>2023-04-01</td>\n",
              "      <td>[]</td>\n",
              "    </tr>\n",
              "  </tbody>\n",
              "</table>\n",
              "<p>2 rows × 31 columns</p>\n",
              "</div>\n",
              "    <div class=\"colab-df-buttons\">\n",
              "\n",
              "  <div class=\"colab-df-container\">\n",
              "    <button class=\"colab-df-convert\" onclick=\"convertToInteractive('df-89313acc-ca78-43e8-b828-7d293968096a')\"\n",
              "            title=\"Convert this dataframe to an interactive table.\"\n",
              "            style=\"display:none;\">\n",
              "\n",
              "  <svg xmlns=\"http://www.w3.org/2000/svg\" height=\"24px\" viewBox=\"0 -960 960 960\">\n",
              "    <path d=\"M120-120v-720h720v720H120Zm60-500h600v-160H180v160Zm220 220h160v-160H400v160Zm0 220h160v-160H400v160ZM180-400h160v-160H180v160Zm440 0h160v-160H620v160ZM180-180h160v-160H180v160Zm440 0h160v-160H620v160Z\"/>\n",
              "  </svg>\n",
              "    </button>\n",
              "\n",
              "  <style>\n",
              "    .colab-df-container {\n",
              "      display:flex;\n",
              "      gap: 12px;\n",
              "    }\n",
              "\n",
              "    .colab-df-convert {\n",
              "      background-color: #E8F0FE;\n",
              "      border: none;\n",
              "      border-radius: 50%;\n",
              "      cursor: pointer;\n",
              "      display: none;\n",
              "      fill: #1967D2;\n",
              "      height: 32px;\n",
              "      padding: 0 0 0 0;\n",
              "      width: 32px;\n",
              "    }\n",
              "\n",
              "    .colab-df-convert:hover {\n",
              "      background-color: #E2EBFA;\n",
              "      box-shadow: 0px 1px 2px rgba(60, 64, 67, 0.3), 0px 1px 3px 1px rgba(60, 64, 67, 0.15);\n",
              "      fill: #174EA6;\n",
              "    }\n",
              "\n",
              "    .colab-df-buttons div {\n",
              "      margin-bottom: 4px;\n",
              "    }\n",
              "\n",
              "    [theme=dark] .colab-df-convert {\n",
              "      background-color: #3B4455;\n",
              "      fill: #D2E3FC;\n",
              "    }\n",
              "\n",
              "    [theme=dark] .colab-df-convert:hover {\n",
              "      background-color: #434B5C;\n",
              "      box-shadow: 0px 1px 3px 1px rgba(0, 0, 0, 0.15);\n",
              "      filter: drop-shadow(0px 1px 2px rgba(0, 0, 0, 0.3));\n",
              "      fill: #FFFFFF;\n",
              "    }\n",
              "  </style>\n",
              "\n",
              "    <script>\n",
              "      const buttonEl =\n",
              "        document.querySelector('#df-89313acc-ca78-43e8-b828-7d293968096a button.colab-df-convert');\n",
              "      buttonEl.style.display =\n",
              "        google.colab.kernel.accessAllowed ? 'block' : 'none';\n",
              "\n",
              "      async function convertToInteractive(key) {\n",
              "        const element = document.querySelector('#df-89313acc-ca78-43e8-b828-7d293968096a');\n",
              "        const dataTable =\n",
              "          await google.colab.kernel.invokeFunction('convertToInteractive',\n",
              "                                                    [key], {});\n",
              "        if (!dataTable) return;\n",
              "\n",
              "        const docLinkHtml = 'Like what you see? Visit the ' +\n",
              "          '<a target=\"_blank\" href=https://colab.research.google.com/notebooks/data_table.ipynb>data table notebook</a>'\n",
              "          + ' to learn more about interactive tables.';\n",
              "        element.innerHTML = '';\n",
              "        dataTable['output_type'] = 'display_data';\n",
              "        await google.colab.output.renderOutput(dataTable, element);\n",
              "        const docLink = document.createElement('div');\n",
              "        docLink.innerHTML = docLinkHtml;\n",
              "        element.appendChild(docLink);\n",
              "      }\n",
              "    </script>\n",
              "  </div>\n",
              "\n",
              "\n",
              "<div id=\"df-ca779f73-6a96-47aa-a2a6-2038af6309b7\">\n",
              "  <button class=\"colab-df-quickchart\" onclick=\"quickchart('df-ca779f73-6a96-47aa-a2a6-2038af6309b7')\"\n",
              "            title=\"Suggest charts\"\n",
              "            style=\"display:none;\">\n",
              "\n",
              "<svg xmlns=\"http://www.w3.org/2000/svg\" height=\"24px\"viewBox=\"0 0 24 24\"\n",
              "     width=\"24px\">\n",
              "    <g>\n",
              "        <path d=\"M19 3H5c-1.1 0-2 .9-2 2v14c0 1.1.9 2 2 2h14c1.1 0 2-.9 2-2V5c0-1.1-.9-2-2-2zM9 17H7v-7h2v7zm4 0h-2V7h2v10zm4 0h-2v-4h2v4z\"/>\n",
              "    </g>\n",
              "</svg>\n",
              "  </button>\n",
              "\n",
              "<style>\n",
              "  .colab-df-quickchart {\n",
              "      --bg-color: #E8F0FE;\n",
              "      --fill-color: #1967D2;\n",
              "      --hover-bg-color: #E2EBFA;\n",
              "      --hover-fill-color: #174EA6;\n",
              "      --disabled-fill-color: #AAA;\n",
              "      --disabled-bg-color: #DDD;\n",
              "  }\n",
              "\n",
              "  [theme=dark] .colab-df-quickchart {\n",
              "      --bg-color: #3B4455;\n",
              "      --fill-color: #D2E3FC;\n",
              "      --hover-bg-color: #434B5C;\n",
              "      --hover-fill-color: #FFFFFF;\n",
              "      --disabled-bg-color: #3B4455;\n",
              "      --disabled-fill-color: #666;\n",
              "  }\n",
              "\n",
              "  .colab-df-quickchart {\n",
              "    background-color: var(--bg-color);\n",
              "    border: none;\n",
              "    border-radius: 50%;\n",
              "    cursor: pointer;\n",
              "    display: none;\n",
              "    fill: var(--fill-color);\n",
              "    height: 32px;\n",
              "    padding: 0;\n",
              "    width: 32px;\n",
              "  }\n",
              "\n",
              "  .colab-df-quickchart:hover {\n",
              "    background-color: var(--hover-bg-color);\n",
              "    box-shadow: 0 1px 2px rgba(60, 64, 67, 0.3), 0 1px 3px 1px rgba(60, 64, 67, 0.15);\n",
              "    fill: var(--button-hover-fill-color);\n",
              "  }\n",
              "\n",
              "  .colab-df-quickchart-complete:disabled,\n",
              "  .colab-df-quickchart-complete:disabled:hover {\n",
              "    background-color: var(--disabled-bg-color);\n",
              "    fill: var(--disabled-fill-color);\n",
              "    box-shadow: none;\n",
              "  }\n",
              "\n",
              "  .colab-df-spinner {\n",
              "    border: 2px solid var(--fill-color);\n",
              "    border-color: transparent;\n",
              "    border-bottom-color: var(--fill-color);\n",
              "    animation:\n",
              "      spin 1s steps(1) infinite;\n",
              "  }\n",
              "\n",
              "  @keyframes spin {\n",
              "    0% {\n",
              "      border-color: transparent;\n",
              "      border-bottom-color: var(--fill-color);\n",
              "      border-left-color: var(--fill-color);\n",
              "    }\n",
              "    20% {\n",
              "      border-color: transparent;\n",
              "      border-left-color: var(--fill-color);\n",
              "      border-top-color: var(--fill-color);\n",
              "    }\n",
              "    30% {\n",
              "      border-color: transparent;\n",
              "      border-left-color: var(--fill-color);\n",
              "      border-top-color: var(--fill-color);\n",
              "      border-right-color: var(--fill-color);\n",
              "    }\n",
              "    40% {\n",
              "      border-color: transparent;\n",
              "      border-right-color: var(--fill-color);\n",
              "      border-top-color: var(--fill-color);\n",
              "    }\n",
              "    60% {\n",
              "      border-color: transparent;\n",
              "      border-right-color: var(--fill-color);\n",
              "    }\n",
              "    80% {\n",
              "      border-color: transparent;\n",
              "      border-right-color: var(--fill-color);\n",
              "      border-bottom-color: var(--fill-color);\n",
              "    }\n",
              "    90% {\n",
              "      border-color: transparent;\n",
              "      border-bottom-color: var(--fill-color);\n",
              "    }\n",
              "  }\n",
              "</style>\n",
              "\n",
              "  <script>\n",
              "    async function quickchart(key) {\n",
              "      const quickchartButtonEl =\n",
              "        document.querySelector('#' + key + ' button');\n",
              "      quickchartButtonEl.disabled = true;  // To prevent multiple clicks.\n",
              "      quickchartButtonEl.classList.add('colab-df-spinner');\n",
              "      try {\n",
              "        const charts = await google.colab.kernel.invokeFunction(\n",
              "            'suggestCharts', [key], {});\n",
              "      } catch (error) {\n",
              "        console.error('Error during call to suggestCharts:', error);\n",
              "      }\n",
              "      quickchartButtonEl.classList.remove('colab-df-spinner');\n",
              "      quickchartButtonEl.classList.add('colab-df-quickchart-complete');\n",
              "    }\n",
              "    (() => {\n",
              "      let quickchartButtonEl =\n",
              "        document.querySelector('#df-ca779f73-6a96-47aa-a2a6-2038af6309b7 button');\n",
              "      quickchartButtonEl.style.display =\n",
              "        google.colab.kernel.accessAllowed ? 'block' : 'none';\n",
              "    })();\n",
              "  </script>\n",
              "</div>\n",
              "\n",
              "    </div>\n",
              "  </div>\n"
            ],
            "text/plain": [
              "   RecordID       Job title  \\\n",
              "0         1   Data Engineer   \n",
              "1         2  Data Scientist   \n",
              "\n",
              "                                Full job description Date collected  \\\n",
              "0  \"ALL our jobs are US based and candidates must...     2023-06-11   \n",
              "1  \"ALL our jobs are US based and candidates must...     2023-06-11   \n",
              "\n",
              "  Date posted  Week  Year  Month Quarter  \\\n",
              "0  2023-06-11    23  2023      6  2023Q2   \n",
              "1  2023-06-11    23  2023      6  2023Q2   \n",
              "\n",
              "                                       Hiring entity  ... Salary start  \\\n",
              "0  TechFetch.com - On Demand Tech Workforce hirin...  ...          NaN   \n",
              "1  TechFetch.com - On Demand Tech Workforce hirin...  ...          NaN   \n",
              "\n",
              "  Salary end Main industry         Job title category  \\\n",
              "0        NaN   IT Services  Statistician Data Science   \n",
              "1        NaN   IT Services            Statistician AI   \n",
              "\n",
              "                                     AI technologies  \\\n",
              "0  Bachelor, Ab Initio, Big Data, Healthcare Insu...   \n",
              "1  Transformation, Sas, Azure, Databricks, Data L...   \n",
              "\n",
              "                                           AI skills Source name  \\\n",
              "0  Databases, Computer Science, Information Techn...    LinkedIn   \n",
              "1  Support, Business Intelligence, Server, Langua...    LinkedIn   \n",
              "\n",
              "                                          Source URL   File Date  \\\n",
              "0  https://www.linkedin.com/jobs/view/data-engine...  2023-04-01   \n",
              "1  https://www.linkedin.com/jobs/view/data-scient...  2023-04-01   \n",
              "\n",
              "  Non-ASCII Chars  \n",
              "0              []  \n",
              "1              []  \n",
              "\n",
              "[2 rows x 31 columns]"
            ]
          },
          "execution_count": 7,
          "metadata": {},
          "output_type": "execute_result"
        }
      ],
      "source": [
        "df_sample.head(n=2)"
      ]
    },
    {
      "cell_type": "markdown",
      "metadata": {
        "id": "lrgUZ8wxQR2o"
      },
      "source": [
        "---\n",
        "# Break out TikTok entries"
      ]
    },
    {
      "cell_type": "code",
      "execution_count": null,
      "metadata": {
        "colab": {
          "base_uri": "https://localhost:8080/"
        },
        "id": "UE3sosuQQR2x",
        "outputId": "7e4da5b6-1861-4ac0-e666-6b3d24ea8171"
      },
      "outputs": [
        {
          "name": "stdout",
          "output_type": "stream",
          "text": [
            "TikTok jobs: 1640\n"
          ]
        }
      ],
      "source": [
        "# Filter by \"Hiring entity\" to include only \"TikTok\"\n",
        "tiktok_jobs = df_sample[df_sample['Hiring entity'].str.contains(\"TikTok\", case=False, na=False)]\n",
        "print(f'TikTok jobs: {len(tiktok_jobs)}')"
      ]
    },
    {
      "cell_type": "code",
      "execution_count": null,
      "metadata": {
        "colab": {
          "base_uri": "https://localhost:8080/"
        },
        "id": "ARgNoRUMQR2z",
        "outputId": "3ef539b3-97b2-4c55-a36f-56506cf66d92"
      },
      "outputs": [
        {
          "name": "stdout",
          "output_type": "stream",
          "text": [
            "Deduped TikTok jobs: 1633\n"
          ]
        }
      ],
      "source": [
        "# prompt: remove duplicates based on \"Full job description\"\n",
        "#\n",
        "tiktok_jobs = tiktok_jobs.drop_duplicates(subset=['Full job description'])\n",
        "print(f'Deduped TikTok jobs: {len(tiktok_jobs)}')"
      ]
    },
    {
      "cell_type": "code",
      "execution_count": null,
      "metadata": {
        "colab": {
          "base_uri": "https://localhost:8080/"
        },
        "id": "IqkBiVvXQR22",
        "outputId": "d49898aa-0023-4b8d-d84e-214f5474559b"
      },
      "outputs": [
        {
          "name": "stdout",
          "output_type": "stream",
          "text": [
            "First TikTok job posting: 2022-02-10 00:00:00\n",
            "Last TikTok job posting: 2024-06-17 00:00:00\n"
          ]
        }
      ],
      "source": [
        "# Check date range\n",
        "print(f\"First TikTok job posting: {tiktok_jobs['Date posted'].min()}\")\n",
        "print(f\"Last TikTok job posting: {tiktok_jobs['Date posted'].max()}\")\n"
      ]
    },
    {
      "cell_type": "code",
      "execution_count": null,
      "metadata": {
        "colab": {
          "base_uri": "https://localhost:8080/"
        },
        "id": "4UVAt0oAQR20",
        "outputId": "f11fd34c-6d95-4069-edc5-01fae6ddcc84"
      },
      "outputs": [
        {
          "name": "stdout",
          "output_type": "stream",
          "text": [
            "Date posted\n",
            "2022-03-31     22\n",
            "2022-06-30     44\n",
            "2022-09-30    158\n",
            "2022-12-31    257\n",
            "2023-03-31    188\n",
            "2023-06-30    117\n",
            "2023-09-30    262\n",
            "2023-12-31    264\n",
            "2024-03-31    204\n",
            "2024-06-30    117\n",
            "Freq: Q-DEC, dtype: int64\n"
          ]
        }
      ],
      "source": [
        "# prompt: Print the number of jobs per month within tiktok_jobs using \"Date posted\"\n",
        "#\n",
        "tiktok_jobs['Date posted'] = pd.to_datetime(tiktok_jobs['Date posted'])\n",
        "tiktok_jobs_per_quarter = tiktok_jobs.groupby(pd.Grouper(key='Date posted', freq='Q')).size()\n",
        "print(tiktok_jobs_per_quarter)\n"
      ]
    },
    {
      "cell_type": "markdown",
      "metadata": {
        "id": "UbFWHd8MJl-c"
      },
      "source": [
        "---\n",
        "# Set up OpenAI and Pydantic\n"
      ]
    },
    {
      "cell_type": "code",
      "execution_count": null,
      "metadata": {
        "id": "JYV5dXcTEDF9"
      },
      "outputs": [],
      "source": [
        "# Set up a new, simplified Pydantic class\n",
        "#\n",
        "class Title(BaseModel):\n",
        "    \"\"\"\n",
        "    Represents the full title of the job posting.\n",
        "\n",
        "    This model captures the full title of the job posting\n",
        "    Examples include:\n",
        "    'Senior Machine Learning Engineer, TikTok Ads Core- Business Account',\n",
        "    'Lead Research Engineer, Machine Learning - TikTok Privacy Innovation Lab'\n",
        "    \"\"\"\n",
        "    title: str # Added type annotation for title\n",
        "\n",
        "class Role(BaseModel):\n",
        "    \"\"\"\n",
        "    Represents the area in which the employee will work.\n",
        "\n",
        "    This model capture the area, department, or division in which the employee\n",
        "    will work within the company. Examples include:\n",
        "    'Research and development', 'User engagement', 'Systems infrastructure',\n",
        "    'Trust and safety'\n",
        "    \"\"\"\n",
        "    role: str # Added type annotation for role\n",
        "\n",
        "class Objectives(BaseModel):\n",
        "    \"\"\"\n",
        "    Represents the stated objectives the company has set for the employee.\n",
        "    Examples include:\n",
        "    ' 1. Drive insightful understanding of Live users and creators to accelerate\n",
        "    better user, creator experience in Live.', '2. Keep track of core metrics and\n",
        "    attribute metric changes to root causes.', '3. Use data and\\nexperiments to\n",
        "    verify hypotheses around bottlenecks in product growth, and consult on the\n",
        "    direction for improvement.', '4. Work with MLE and product stakeholders to\n",
        "    deLiver product insights and strategy.'\n",
        "    \"\"\"\n",
        "    objectives: list[str] # Added type annotation for objectives\n",
        "\n",
        "class Technologies(BaseModel):\n",
        "    \"\"\"\n",
        "    Represents a technology-based skills required by a hiring entity.\n",
        "\n",
        "    This model captures basic information about a products and technologies\n",
        "    mentioned within this job post. Examples include:\n",
        "    'Spark', 'Hadoop', 'PyTorch', 'Git', 'OpenAI', 'Vertex AI', 'Google Cloud',\n",
        "    'Python', 'SQL', 'Llama', 'LangChain'\n",
        "    \"\"\"\n",
        "    technologies: list[str]  # Added type annotation for technologies\n",
        "\n",
        "class Skills(BaseModel):\n",
        "    \"\"\"\n",
        "    Represents a technology-based skills required by a hiring entity.\n",
        "\n",
        "    This model captures basic information about a business skills mentioned\n",
        "    within this job post. Examples include:\n",
        "    'data collection', 'data cleaning', 'data analysis', 'reporting',\n",
        "    'data visualization', 'training', 'stakeholder collaboration', 'MLOps',\n",
        "    'DataOps', 'Responsible AI', 'Data Engineering', 'Data Science', 'Data Warehousing'\n",
        "    \"\"\"\n",
        "    skills: list[str]  # Added type annotation for skills\n",
        "\n",
        "class Summary(BaseModel):\n",
        "    \"\"\"\n",
        "    Represents the area in which the employee will work.\n",
        "\n",
        "    This model capture the a concise, 250 word summary of the job posting, focusing\n",
        "    on the job itself rather than the company or the job requirements and benefits.'\n",
        "    \"\"\"\n",
        "    summary: str # Added type annotation for role\n",
        "\n",
        "\n",
        "class Categories(BaseModel):\n",
        "    \"\"\"\n",
        "    Represents the top three categories of the job posting.\n",
        "\n",
        "    This model captures the most applicable categories to which this job posting belongs.\n",
        "    The full list of five main categories, each with several sub categories to choose from is below.\n",
        "    Please select a maximum of three main + sub categories such as 'Trust and Safety - Privacy',\n",
        "    'Monetisation - Payments', etc.  Only pick a category + sub category if it figures into the\n",
        "    job in a prominant manner. Return the top three categories and no more. Please only return a\n",
        "    simple python list of strings.\n",
        "    {category_list}\n",
        "    \"\"\"\n",
        "    categories: list[str] # Added type annotation for categories\n",
        "\n",
        "class Team(BaseModel):\n",
        "    \"\"\"\n",
        "    Represents the team wherein the employee will work.\n",
        "\n",
        "    This model capture the area, department, or division in which the employee\n",
        "    will work within the company, using the following list. Don't worry about finding\n",
        "    an exact match. But please assign this job to one of the teams listed below rather\n",
        "    than making up a new team name. Just assign this post to the single closest match\n",
        "    based on the following list.\n",
        "    {team_list}\n",
        "    \"\"\"\n",
        "    team: str # Added type annotation for teams\n",
        "\n",
        "class isGenAI(BaseModel):\n",
        "    \"\"\"\n",
        "    Represents the team wherein the employee will work.\n",
        "\n",
        "    This model captures whether or not a job post concerns Generative AI (GenAI)\n",
        "    both in terms of the technologies used and the use case at hand.\n",
        "    \"\"\"\n",
        "    isgen: bool\n",
        "\n",
        "\n",
        "class JobResponse(BaseModel):\n",
        "    \"\"\"\n",
        "    Represents the structured response for an article analysis.\n",
        "\n",
        "    This model aggregates information about title, role, objectives, technologies,\n",
        "    and skills mentioned in a job post\n",
        "    \"\"\"\n",
        "    title: str\n",
        "    role: str\n",
        "    objectives: list[Objectives]\n",
        "    technologies: list[Technologies]\n",
        "    skills: list[Skills]\n",
        "    summary: str\n",
        "    categories: list[Categories]\n",
        "    team: str\n",
        "    isgen: bool\n"
      ]
    },
    {
      "cell_type": "code",
      "execution_count": null,
      "metadata": {
        "id": "G1A4w8HtF6B3"
      },
      "outputs": [],
      "source": [
        "# Inference function definition\n",
        "#\n",
        "client = OpenAI()\n",
        "\n",
        "# set variable defaults\n",
        "title = \"\"\n",
        "role = \"\"\n",
        "objectives = []\n",
        "technologies = []\n",
        "skills = []\n",
        "summary = \"\"\n",
        "categories = []\n",
        "team = \"\"\n",
        "isgen = True\n",
        "\n",
        "def parse_post(jobpost):\n",
        "    completion = client.beta.chat.completions.parse(\n",
        "    model=\"gpt-4o-mini\",\n",
        "    messages=[\n",
        "            {\"role\": \"system\", \"content\": \"You are a helpful assistant that \\\n",
        "            scans job posts for organization info, the technologies and products, \\\n",
        "            and business skills required for a given job posting. Please be thorough \\\n",
        "            and include as many technologies and skills as you can in your response. \\\n",
        "            Do not include the examples UNLESS they actual appear in the jobpost. \\\n",
        "            And remember, this is an analysis, so be detailed and concise, and \\\n",
        "            above all else, do not hallucinate.\"},\n",
        "            {\"role\": \"user\", \"content\": jobpost},\n",
        "        ],\n",
        "        response_format=JobResponse,\n",
        "    )\n",
        "\n",
        "    message = completion.choices[0].message\n",
        "    if message.parsed:\n",
        "        # Separate lists for technologies and business skills\n",
        "        title = str(message.parsed.title)\n",
        "        role = str(message.parsed.role)\n",
        "        objectives = [str(obj) for obj in message.parsed.objectives]\n",
        "        technologies = [str(tech) for tech in message.parsed.technologies]\n",
        "        skills = [str(skill) for skill in message.parsed.skills]\n",
        "        summary = str(message.parsed.summary)\n",
        "        categories = [str(cat) for cat in message.parsed.categories]\n",
        "        team = str(message.parsed.team)\n",
        "        isgen = bool(message.parsed.isgen)\n",
        "\n",
        "        # Return as separate values\n",
        "        return title, role, objectives, technologies, skills, summary, categories, team, isgen\n",
        "    else:\n",
        "        return \"\", \"\", [], [], [], \"\", [], \"\", False  # Return empty lists in case of refusal or no parsing\n"
      ]
    },
    {
      "cell_type": "code",
      "execution_count": null,
      "metadata": {
        "colab": {
          "base_uri": "https://localhost:8080/"
        },
        "id": "cray0Wy_VrEw",
        "outputId": "5c20232e-1942-4f5d-b6a8-bd4dd35b5daf"
      },
      "outputs": [
        {
          "data": {
            "text/plain": [
              "(5, 31)"
            ]
          },
          "execution_count": 25,
          "metadata": {},
          "output_type": "execute_result"
        }
      ],
      "source": [
        "# prompt: Create df with five random rows from df_sample\n",
        "#\n",
        "df = tiktok_jobs.sample(n=5)\n",
        "df.shape"
      ]
    },
    {
      "cell_type": "code",
      "execution_count": null,
      "metadata": {
        "id": "9FkUysDHF541"
      },
      "outputs": [],
      "source": [
        "# Apply the parse_post_simple function to each job post\n",
        "#\n",
        "df['title'], df['role'], df['objectives'], df['technologies'], df['skills'], df['summary'], \\\n",
        "df['categories'], df['team'], df['isgen'] = zip(*df['Full job description'].apply(parse_post))\n"
      ]
    },
    {
      "cell_type": "code",
      "execution_count": null,
      "metadata": {
        "id": "ocT0rGujM3dk"
      },
      "outputs": [],
      "source": [
        "# Check results\n",
        "#\n",
        "def check_results(df, record):\n",
        "    \"\"\"Check the results of the parse_post_simple function.\"\"\"\n",
        "    print(f\"title: {df.title.iloc[record]}\")\n",
        "    print(f\"role: {df.role.iloc[record]}\")\n",
        "    print(f\"objectives: {df.objectives.iloc[record]}\")\n",
        "    print(f\"technologies: {df.technologies.iloc[record]}\")\n",
        "    print(f\"skills: {df.skills.iloc[record]}\")\n",
        "    print(f\"summary: {df.summary.iloc[record]}\")\n",
        "    print(f\"categories: {df.categories.iloc[record]}\")\n",
        "    print(f\"team: {df.team.iloc[record]}\")\n",
        "    print(f\"isgen: {df.isgen.iloc[record]}\")\n"
      ]
    },
    {
      "cell_type": "code",
      "execution_count": null,
      "metadata": {
        "colab": {
          "base_uri": "https://localhost:8080/"
        },
        "id": "Sx3UTI--Z0XW",
        "outputId": "efb270eb-ffb8-45e4-e78a-403bf4ac3cb7"
      },
      "outputs": [
        {
          "name": "stdout",
          "output_type": "stream",
          "text": [
            "title: Machine Learning Engineer - Search Growth E-commerce\n",
            "role: Machine Learning Engineer\n",
            "objectives: ['objectives=[\"Enhance search recommendation services and models for TikTok, driving increased search traffic on TikTok and TikTok Mall, while also improving user\\'s search understanding.\", \\'Optimize the recommender system based on hyperscale machine learning models, covering a range of tasks from recall, first-stage ranking to final-stage ranking in the end-to-end workflow.\\', \\'Explore the upper limits of short text recommendation and general recommendation technology, with a focus on the interaction between recommendation and NLP technology.\\', \\'Provide guidance and mentorship to fellow teammates.\\']']\n",
            "technologies: [\"technologies=['machine learning', 'natural language processing (NLP)', 'computer vision (CV)', 'recommendation systems', 'multi-modal technology']\"]\n",
            "skills: [\"skills=['coding', 'data structure', 'algorithms', 'analysis', 'modeling', 'problem-solving', 'product sense', 'user experience']\"]\n",
            "summary: The role involves enhancing TikTok's search recommendation services using advanced machine learning and AI technologies, with a focus on improving user experience and driving traffic to e-commerce applications.\n",
            "categories: [\"categories=['Machine Learning - Recommendation']\", \"categories=['E-commerce - Search']\", \"categories=['Data Science - Analysis']\"]\n",
            "team: Search Growth E-commerce team\n",
            "isgen: False\n",
            "\n",
            "\n",
            "title: Data Scientist\n",
            "role: Data Scientist\n",
            "objectives: [\"objectives=['Fortify data management and analytics capabilities.', 'Enhance data-driven initiatives and ensure impeccable data quality.', 'Optimize machine learning performance across the business.']\"]\n",
            "technologies: [\"technologies=['Python', 'SQL']\"]\n",
            "skills: [\"skills=['Project Management', 'Data Annotation Management', 'Data Analytics Support', 'Stakeholder Management', 'Machine Learning Model Development', 'Communication Skills', 'Interpersonal Skills', 'ML Solutions Development', 'Data Modeling']\"]\n",
            "summary: TikTok is seeking a seasoned Data Scientist to enhance its data management and analytics capabilities. The role involves directing projects related to data annotation and analytics, ensuring high data quality, and optimizing machine learning performance within the organization. The candidate must exhibit strong problem-solving skills, effective communication, and hands-on experience in machine learning solutions and programming.\n",
            "categories: [\"categories=['Data Science - Machine Learning']\", \"categories=['Data Management - Data Quality']\", \"categories=['Project Management - Agile']\"]\n",
            "team: Data Cycling Center Team\n",
            "isgen: False\n",
            "\n",
            "\n",
            "title: Data Scientist - Global e-commerce Data Science\n",
            "role: Data Scientist\n",
            "objectives: [\"objectives=['Provide actionable insights to drive the growth of business and improvement of operational efficiency.', 'Leverage data science expertise to design data solutions to solve commerce operation and product problems such as supply growth, user growth and marketplace efficiency.', 'Partner closely with key stakeholders to optimize overall business performance and health.', 'Provide suggestions for improvements to align with the business goals.']\"]\n",
            "technologies: [\"technologies=['SQL', 'Python', 'R']\"]\n",
            "skills: [\"skills=['Product Analytics', 'Experimentation', 'Machine Learning', 'Statistics']\"]\n",
            "summary: Responsible for providing actionable insights and leveraging data science to drive growth in e-commerce operations at TikTok. Requires a foundational degree and experience in relevant fields.\n",
            "categories: [\"categories=['Analytics - Data Science']\", \"categories=['E-commerce - Product Development']\", \"categories=['Technology - Software Engineering']\"]\n",
            "team: Global e-commerce Data Science team\n",
            "isgen: False\n",
            "\n",
            "\n",
            "title: Senior Machine Learning Engineer\n",
            "role: Machine Learning Engineer\n",
            "objectives: [\"objectives=['Develop novel machine learning solutions for ads signal extraction and understanding, identity matching, attribution, and ranking.', 'Launch products to maximize signal values for ads in a privacy-preserving way.', 'Collaborate with product and business teams on product vision definition and execution.']\"]\n",
            "technologies: [\"technologies=['Python', 'C++', 'Go', 'Privacy-enhancing technologies (PETs)']\"]\n",
            "skills: [\"skills=['Machine learning', 'Rank-based algorithms', 'Software development', 'Online experimentation', 'Analytics']\"]\n",
            "summary: As a Senior Machine Learning Engineer on the Ads Signal team at TikTok, you will focus on machine learning solutions and technology for maximizing ad signal values while ensuring privacy. Responsibilities include developing algorithms for critical ads use cases and working closely with product and business teams.\n",
            "categories: [\"categories=['Monetization - Ads']\"]\n",
            "team: Ads Signal Team\n",
            "isgen: True\n",
            "\n",
            "\n",
            "title: Machine Learning Engineer - E-Commerce Risk Control\n",
            "role: Machine Learning Engineer\n",
            "objectives: [\"objectives=['Build machine learning solutions to respond to and mitigate business risks in TikTok products and platforms.', 'Improve modeling infrastructures, labels, features, and algorithms towards robustness, automation, and generalization.', 'Uplevel risk machine learning excellence on privacy, compliance, interoperability, risk perception, and analysis.']\", \"objectives=['Minimize damage from inauthentic behaviors on TikTok E-Commerce platforms.', 'Secure the integrity of TikTok E-Commerce by providing a safe shopping experience.']\"]\n",
            "technologies: [\"technologies=['Linux', 'Hadoop', 'Hive', 'Spark', 'Storm']\"]\n",
            "skills: [\"skills=['machine learning', 'deep neural nets', 'transfer learning', 'multi-task learning', 'reinforcement learning', 'time series analysis', 'graph unsupervised learning', 'data-driven reasoning', 'critical thinking']\"]\n",
            "summary: The role focuses on building and improving machine learning solutions that counteract business risks associated with TikTok's E-Commerce ecosystem, while ensuring compliance and safety through robust modeling infrastructure and techniques.\n",
            "categories: [\"categories=['Product and Engineering - Machine Learning']\", \"categories=['Trust and Safety - Risk Management']\", \"categories=['E-Commerce - Infrastructure']\"]\n",
            "team: E-Commerce Risk Control (ECRC) team\n",
            "isgen: False\n",
            "\n",
            "\n"
          ]
        }
      ],
      "source": [
        "# prompt: run check_results for each row in df\n",
        "#\n",
        "for i in range(len(df)):\n",
        "  check_results(df, i)\n",
        "  print(\"\\n\")\n"
      ]
    },
    {
      "cell_type": "markdown",
      "metadata": {
        "id": "ylZfot2Wb3YT"
      },
      "source": [
        "# Run against entire TikTok dataframe"
      ]
    },
    {
      "cell_type": "code",
      "execution_count": null,
      "metadata": {
        "colab": {
          "base_uri": "https://localhost:8080/"
        },
        "id": "2phikKnUGL6g",
        "outputId": "153cd2af-7c56-45af-a372-6874a01dac20"
      },
      "outputs": [
        {
          "data": {
            "text/plain": [
              "(1633, 31)"
            ]
          },
          "execution_count": 29,
          "metadata": {},
          "output_type": "execute_result"
        }
      ],
      "source": [
        "# Convert sample_jobs into df for processing\n",
        "#\n",
        "df = tiktok_jobs.copy()\n",
        "df.shape\n"
      ]
    },
    {
      "cell_type": "code",
      "execution_count": null,
      "metadata": {
        "colab": {
          "background_save": true
        },
        "id": "aMV0OCwycDB_"
      },
      "outputs": [],
      "source": [
        "# Apply the parse_post_simple function to each job post\n",
        "#\n",
        "df['title'], df['role'], df['objectives'], df['technologies'], df['skills'], df['summary'], \\\n",
        "df['categories'], df['team'], df['isgen'] = zip(*df['Full job description'].apply(parse_post))\n"
      ]
    },
    {
      "cell_type": "code",
      "execution_count": 35,
      "metadata": {
        "colab": {
          "base_uri": "https://localhost:8080/"
        },
        "id": "x-0mgDLjcLmG",
        "outputId": "a32d2862-5ce7-4c17-cd3f-d0f9ef3b8f4b"
      },
      "outputs": [
        {
          "output_type": "stream",
          "name": "stdout",
          "text": [
            "title: Project Manager - Trust & Safety\n",
            "role: Project Manager\n",
            "objectives: [\"objectives=['Responsible for the operation of labeling projects, negotiating with content strategy teams, and driving the implementation and execution of requirements.', 'Proactively collaborate with cross-functional departments for project evaluation, resources coordination and subsequent works.', 'Deeply understand the implementation of frontline labeling teams and work with the demand side to develop and optimize labeling guidelines and SOPs.', 'Conduct quality management, progress management and risk management by data analysis.', 'Continuously optimize project processes and improve the efficiency of project implementation through analysis of business conditions.']\"]\n",
            "technologies: [\"technologies=['Excel', 'Word']\"]\n",
            "skills: [\"skills=['project management', 'data processing', 'data analysis', 'communication skills', 'resilience', 'adaptability']\"]\n",
            "summary: The Project Manager for TikTok's Trust & Safety team will be responsible for operationalizing labeling projects and collaborating with various departments to ensure effective execution and optimization of project processes. The role requires strong project management skills, data analysis capabilities, and effective communication in English, with Mandarin skills as a plus.\n",
            "categories: [\"categories=['Trust and Safety', 'Project Management', 'Data Management']\"]\n",
            "team: Trust & Safety\n",
            "isgen: False\n",
            "\n",
            "\n",
            "title: Machine Learning Engineer - Trust and Safety\n",
            "role: Machine Learning Engineer\n",
            "objectives: [\"objectives=['Work with our world-class engineers to build industry-leading trust and safety systems for TikTok', 'Develop and build up highly-scalable classifiers, tools, models and algorithms leveraging cutting-edge machine learning, computer vision and data mining technologies', 'Improve our trust and safety strategy and work on model iterations', 'Collaborate with cross-functional teams to protect TikTok globally']\"]\n",
            "technologies: [\"technologies=['machine learning', 'computer vision', 'data mining', 'NLP', 'pattern recognition']\"]\n",
            "skills: [\"skills=['data structures', 'algorithms', 'communication', 'teamwork']\"]\n",
            "summary: TikTok is seeking a graduate Machine Learning Engineer for its Trust and Safety team, focusing on developing advanced machine learning models to enhance user experience and protect the platform. Responsibilities include working on scalable classifiers and collaborating with cross-functional teams.\n",
            "categories: [\"categories=['Trust and Safety - Machine Learning']\"]\n",
            "team: Trust and Safety Engineering Team\n",
            "isgen: False\n",
            "\n",
            "\n",
            "title: Machine Learning Engineer - E-commerce Recommendations\n",
            "role: Machine Learning Engineer\n",
            "objectives: [\"objectives=['Build large-scale e-commerce recommendation algorithms and systems.', 'Develop long and short-term user interest models.', 'Analyze and extract relevant information from various data sources.', 'Design predictive models for candidate generation and ranking.']\"]\n",
            "technologies: [\"technologies=['TensorFlow', 'PyTorch', 'C++', 'Python']\"]\n",
            "skills: [\"skills=['Recommendation algorithms', 'Online advertising', 'Information retrieval', 'Natural language processing', 'Computer vision', 'Machine learning', 'Large-scale data mining', 'Feature engineering', 'Model optimization']\"]\n",
            "summary: TikTok is seeking a Machine Learning Engineer for its E-commerce sector to develop large-scale recommendation systems and predictive models, focusing on user engagement and satisfaction.\n",
            "categories: [\"categories=['Artificial Intelligence - Machine Learning']\", \"categories=['Product Management - E-commerce']\", \"categories=['Technology - Software Development']\"]\n",
            "team: Applied Machine Learning Engineers and Data Scientists\n",
            "isgen: False\n",
            "\n",
            "\n",
            "title: ML Engineer Tech Lead\n",
            "role: ML Engineer\n",
            "objectives: [\"objectives=['Lead the development of machine learning algorithms and systems.', 'Fine-tuning and training machine learning models.', 'Iterate and develop the machine learning system using customer-driven scenarios.']\"]\n",
            "technologies: [\"technologies=['Tensorflow', 'Pytorch', 'MxNet', 'Linux']\"]\n",
            "skills: [\"skills=['machine learning algorithms', 'programming language semantics', 'test code generation', 'automatic assertion generation', 'software defect detection', 'root cause analysis', 'auto-fixing', 'distributed computing', 'parallel computing', 'high-performance computing']\"]\n",
            "summary: TikTok is looking for a skilled ML Engineer Tech Lead to advance machine learning in test infrastructure, focusing on code generation and defect detection while employing advanced algorithms and programming languages.\n",
            "categories: [\"categories=['Engineering - Machine Learning']\", \"categories=['Development - Software Engineering']\", \"categories=['Data - Machine Learning Engineering']\"]\n",
            "team: Developer Infrastructure team\n",
            "isgen: False\n",
            "\n",
            "\n",
            "title: E-Commerce Risk Control Team Member\n",
            "role: Risk Control Analyst\n",
            "objectives: [\"objectives=['Build rules, algorithms and machine learning models to mitigate business risks in TikTok products and platforms.', 'Analyze business and security data to uncover evolving attack motions and identify weaknesses in risk defense solutions.', 'Define risk control measurements and monitor risk-related business and operational metrics.']\"]\n",
            "technologies: [\"technologies=['SQL', 'R', 'Python']\"]\n",
            "skills: [\"skills=['data analysis', 'machine learning', 'statistical analysis', 'risk management', 'data-driven decision making', 'critical thinking']\"]\n",
            "summary: Join TikTok's E-Commerce Risk Control team to enhance security measures, develop machine learning models, and analyze data to address various risks in the e-commerce ecosystem.\n",
            "categories: []\n",
            "team: E-Commerce Risk Control (ECRC)\n",
            "isgen: False\n",
            "\n",
            "\n"
          ]
        }
      ],
      "source": [
        "# prompt: run check_results for each row in df\n",
        "#\n",
        "df_check = df.sample(n=5)\n",
        "for i in range(len(df_check)):\n",
        "  check_results(df_check, i)\n",
        "  print(\"\\n\")\n"
      ]
    },
    {
      "cell_type": "code",
      "source": [
        "# prompt: print the top 20 job titles where isgen == True\n",
        "\n",
        "# Filter the DataFrame for jobs where isgen is True\n",
        "genai_jobs = df[df['isgen'] == True]\n",
        "\n",
        "# Get the top 20 job titles\n",
        "top_titles = genai_jobs['title'].value_counts().head(10)\n",
        "\n",
        "# Print the results\n",
        "print(f\"Job Titles featuring GenAI: {len(genai_jobs)}\")\n",
        "print(top_titles)\n"
      ],
      "metadata": {
        "colab": {
          "base_uri": "https://localhost:8080/"
        },
        "id": "2xgWgqit7eLD",
        "outputId": "5066715c-9b9d-4a87-d175-b10a64a671ab"
      },
      "execution_count": 40,
      "outputs": [
        {
          "output_type": "stream",
          "name": "stdout",
          "text": [
            "Job Titles featuring GenAI: 24\n",
            "title\n",
            "University Graduate Machine Learning Engineer                        4\n",
            "Data Scientist                                                       2\n",
            "Data Analyst for Product Analytics Team                              1\n",
            "Software Development Graduate Position                               1\n",
            "Machine Learning Engineer - NLP                                      1\n",
            "Machine Learning Engineer - E-commerce Supply Chain and Logistics    1\n",
            "AI Customer Service Engineer                                         1\n",
            "Product Manager, Monetization GenAI                                  1\n",
            "Machine Learning Engineer - Generative AI                            1\n",
            "Machine Learning Engineer - Generative AI Team                       1\n",
            "Name: count, dtype: int64\n"
          ]
        }
      ]
    },
    {
      "cell_type": "code",
      "source": [
        "df.columns"
      ],
      "metadata": {
        "colab": {
          "base_uri": "https://localhost:8080/"
        },
        "id": "riTlETRs8LrL",
        "outputId": "fbaf254d-92e5-4dbd-ddc6-002bbd89167b"
      },
      "execution_count": 41,
      "outputs": [
        {
          "output_type": "execute_result",
          "data": {
            "text/plain": [
              "Index(['RecordID', 'Job title', 'Full job description', 'Date collected',\n",
              "       'Date posted', 'Week', 'Year', 'Month', 'Quarter', 'Hiring entity',\n",
              "       'Entity size', 'Home office hybrid work', 'Full or part time status',\n",
              "       'Number of applicants', 'Longitude', 'Latitude', 'City', 'Territory',\n",
              "       'Region', 'Experience level', 'Education level', 'Salary start',\n",
              "       'Salary end', 'Main industry', 'Job title category', 'AI technologies',\n",
              "       'AI skills', 'Source name', 'Source URL', 'File Date',\n",
              "       'Non-ASCII Chars', 'title', 'role', 'objectives', 'technologies',\n",
              "       'skills', 'summary', 'categories', 'team', 'isgen'],\n",
              "      dtype='object')"
            ]
          },
          "metadata": {},
          "execution_count": 41
        }
      ]
    },
    {
      "cell_type": "code",
      "execution_count": 42,
      "metadata": {
        "colab": {
          "base_uri": "https://localhost:8080/"
        },
        "id": "sKvz5R2mOX7X",
        "outputId": "e474a495-4f31-4a24-b1a9-0bbfc3b4238a"
      },
      "outputs": [
        {
          "output_type": "execute_result",
          "data": {
            "text/plain": [
              "Index(['RecordID', 'Job title', 'Full job description', 'Date collected',\n",
              "       'Date posted', 'Week', 'Year', 'Month', 'Quarter', 'Hiring entity',\n",
              "       'Entity size', 'Home office hybrid work', 'Full or part time status',\n",
              "       'Number of applicants', 'Longitude', 'Latitude', 'City', 'Territory',\n",
              "       'Region', 'Experience level', 'Education level', 'Salary start',\n",
              "       'Salary end', 'Main industry', 'Source name', 'Source URL', 'File Date',\n",
              "       'title', 'role', 'objectives', 'technologies', 'skills', 'summary',\n",
              "       'categories', 'team', 'isgen'],\n",
              "      dtype='object')"
            ]
          },
          "metadata": {},
          "execution_count": 42
        }
      ],
      "source": [
        "# Drop 'unwanted columns\n",
        "#\n",
        "df_clean = df.drop(['Job title category', 'AI technologies', 'AI skills', 'Non-ASCII Chars'], axis=1)\n",
        "df_clean.columns"
      ]
    },
    {
      "cell_type": "code",
      "execution_count": 43,
      "metadata": {
        "id": "qsm_0u8PJuI7"
      },
      "outputs": [],
      "source": [
        "# Write our new df to disk\n",
        "#\n",
        "df_clean.to_pickle(\"/content/gdrive/MyDrive/Colab Notebooks/Datasets/df_ner_tiktok_13sep24.pkl\")\n",
        "df_clean.to_csv(\"/content/gdrive/MyDrive/Colab Notebooks/Datasets/df_ner_tiktok_13sep24.csv\")"
      ]
    },
    {
      "cell_type": "markdown",
      "metadata": {
        "id": "uhSl7HCuKoeX"
      },
      "source": [
        "---\n",
        "# Summarizing and analyzing our full list of jobs"
      ]
    },
    {
      "cell_type": "code",
      "source": [
        "# prompt: create a dataframe that samples 50% of all rows using a consistent number of posts for a given day.\n",
        "#\n",
        "# Calculate the number of posts per day\n",
        "posts_per_day = df_clean['Date posted'].value_counts()\n",
        "\n",
        "# Calculate the number of posts to sample per day\n",
        "sample_posts_per_day = (posts_per_day / 20).apply(np.ceil).astype(int)\n",
        "\n",
        "# Create a new dataframe with sampled rows\n",
        "sampled_df = df_clean.groupby('Date posted').apply(lambda x: x.sample(n=min(len(x), sample_posts_per_day[x.name])))\n",
        "sampled_df = sampled_df.reset_index(drop=True)\n",
        "sampled_df.shape"
      ],
      "metadata": {
        "colab": {
          "base_uri": "https://localhost:8080/"
        },
        "id": "hM0U-hwvJGWY",
        "outputId": "22eaddbb-68f5-4a3a-890d-a6a26b011f00"
      },
      "execution_count": 87,
      "outputs": [
        {
          "output_type": "execute_result",
          "data": {
            "text/plain": [
              "(432, 36)"
            ]
          },
          "metadata": {},
          "execution_count": 87
        }
      ]
    },
    {
      "cell_type": "code",
      "source": [
        "sampled_df['Date posted'].value_counts().mean()"
      ],
      "metadata": {
        "colab": {
          "base_uri": "https://localhost:8080/"
        },
        "id": "i7NbbcV_Jvgw",
        "outputId": "942d7f33-f6cf-45c1-dbd2-7f797aeb7db9"
      },
      "execution_count": 88,
      "outputs": [
        {
          "output_type": "execute_result",
          "data": {
            "text/plain": [
              "1.0261282660332542"
            ]
          },
          "metadata": {},
          "execution_count": 88
        }
      ]
    },
    {
      "cell_type": "code",
      "execution_count": 89,
      "metadata": {
        "colab": {
          "base_uri": "https://localhost:8080/"
        },
        "id": "iHxk8OoPPNE_",
        "outputId": "984720e0-cd1f-416a-d395-b143f2e45624"
      },
      "outputs": [
        {
          "output_type": "stream",
          "name": "stdout",
          "text": [
            "all done\n"
          ]
        }
      ],
      "source": [
        "# Combine our test data into a single block of text\n",
        "#\n",
        "job_data = \"\\n\\n\".join([\n",
        "    f\"Title: {row['title']}\\n\"\n",
        "    f\"Date posted: {row['Date posted']}\\n\"\n",
        "    f\"Role: {row['role']}\\n\"\n",
        "    f\"Objectives: {row['objectives']}\\n\"\n",
        "    f\"Technologies: {row['technologies']}\\n\"\n",
        "    f\"Skills: {row['skills']}\\n\"\n",
        "    f\"Summary: {row['summary']}\\n\"\n",
        "    f\"Categories: {row['categories']}\\n\"\n",
        "    f\"Team: {row['team']}\\n\"\n",
        "    f\"Is GenAI: {row['isgen']}\\n\"\n",
        "    for index, row in sampled_df.iterrows()\n",
        "])\n",
        "print(\"all done\")"
      ]
    },
    {
      "cell_type": "code",
      "execution_count": 82,
      "metadata": {
        "colab": {
          "base_uri": "https://localhost:8080/"
        },
        "id": "gess6_kA5rxS",
        "outputId": "c3f7011f-f762-4b5c-affc-814b2ae247e5"
      },
      "outputs": [
        {
          "output_type": "stream",
          "name": "stdout",
          "text": [
            "Title: Software Engineer - Brand Ads\n",
            "Date posted: 2022-02-10 00:00:00\n",
            "Role: Engineer\n",
            "Objectives: [\"objectives=['Create innovative monetization products that drive engagement and revenue.', 'Participate in the development of a large-scale Ads system.', 'Participate in the development and iteration of Ads algorithms using Machine Learning.', 'Work on NLP and CV related technology for content understanding and taxonomy.', 'Contribute to the success of a rapidly growing and evolving organization with speediness and quality.']\"]\n",
            "Technologies: [\"technologies=['Go', 'C', 'C++', 'Python', 'Machine Learning', 'Deep Learning', 'NLP', 'Content Understanding', 'Computer Vision']\"]\n",
            "Skills: [\"skills=['Programming', 'Debugging', 'Optimization', 'Machine Learning', 'Data Mining', 'Data Analysis', 'System Design', 'Algorithm Design']\"]\n",
            "Summary: TikTok's Brand Ads team is looking for seasoned engineers to create monetization products that enhance user engagement and revenue, developing algorithms and systems within a high-performance, scalable ads delivery tech stack.\n",
            "Categories: [\"categories=['Monetisation - Ads']\", \"categories=['Engineering - Software Development']\", \"categories=['AI - Machine Learning']\"]\n",
            "Team: Brand Ads Team\n",
            "Is GenAI: False\n",
            "\n",
            "\n",
            "Title: Software Engineer - Brand Ads\n",
            "Date posted: 2022-02-28 00:00:00\n",
            "Role: Software Engineer\n",
            "Objectives: [\"objectives=['Create innovative monetization products that drive engagement and business outcomes.', 'Develop highly scalable services that power new ad products for billions of requests.', 'Design systems that will optimize monetization efficiency with product engineering and state-of-the-art machine learning technologies.', 'Implement new ad solutions that will continuously protect the user experiences on TikTok.', 'Collaborate with strategy team, product managers, and other key stakeholders to define products and drive initiatives from engineering perspective.', 'Contribute to the success of a rapidly growing and evolving organization with speediness and quality.']\"]\n",
            "Technologies: [\"technologies=['Go', 'C', 'C++', 'Python', 'machine learning', 'deep learning', 'large-scale systems', 'data pipeline']\"]\n",
            "Skills: [\"skills=['programming', 'debugging', 'optimization', 'critical thinking', 'problem-solving', 'system design']\"]\n",
            "Summary: TikTok is seeking seasoned engineers to develop and manage high-performance, scalable systems for their Brand Ads team. The responsibilities include creating monetization products, collaborating with various teams, and ensuring user experience is prioritized. Candidates should have a strong background in programming and systems design, ideally with expertise in ads-related technologies and machine learning.\n",
            "Categories: [\"categories=['Monetisation - Ads']\", \"categories=['Product Development - Engineering']\", \"categories=['Data - Data Science']\"]\n",
            "Team: Brand Ads Team\n",
            "Is GenAI: False\n",
            "\n",
            "\n",
            "Title: Backend Engineer - CV, CG Research Team\n",
            "Date posted: 2022-03-13 00:00:00\n",
            "Role: Backend Engineer\n",
            "Objectives: [\"objectives=['Design, architect and implement large-scale machine learning systems, infrastructure, services for computer vision, computer graphics and deep learning models.', 'Build cross-platform applications to explore new technologies and new product directions.', 'Work closely with research scientists to develop efficient algorithms and prototypes on various platforms.', 'Build automation frameworks and tools to ensure high engineering quality and efficiency.']\"]\n",
            "Technologies: [\"technologies=['C', 'C++', 'Java', 'Go', 'Python', 'RPC frameworks', 'key-value storage systems', 'deep learning frameworks', 'profiling tools', 'automation frameworks']\"]\n",
            "Skills: [\"skills=['strong CS fundamentals (algorithms and data structures)', 'problem-solving skills', 'experience in large-scale machine learning backend', 'dealing with concurrent systems and architectures', 'optimization techniques']\"]\n",
            "Summary: TikTok seeks backend engineers with strong skills in computer vision and machine learning to help build infrastructures and services for creative user experiences, promoting innovative approaches in technology.\n",
            "Categories: [\"categories=['Engineering - Software Engineering']\"]\n",
            "Team: CV, CG Research Team\n",
            "Is GenAI: False\n",
            "\n",
            "\n",
            "Title: Search Engineer\n",
            "Date posted: 2022-03-14 00:00:00\n",
            "Role: Search Team Engineering Role at TikTok\n",
            "Objectives: ['objectives=[\"Optimize the searching quality to provide TikTok\\'s users the best search experience\", \\'Combine your understanding of product objectives and take full advantage of modern machine learning, NLP and Multimodal techniques to improve the search ranking algorithms, including query understanding, video understanding and various levels of result ranking.\\']']\n",
            "Technologies: [\"technologies=['C++', 'Python', 'Java']\"]\n",
            "Skills: [\"skills=['coding skills', 'algorithm & data structure', 'NLP', 'machine learning', 'search engine optimization', 'recommender system']\"]\n",
            "Summary: TikTok is looking for a Search Engineer to enhance its search engi\n"
          ]
        }
      ],
      "source": [
        "# prompt: print the first few lines of text from job_data\n",
        "#\n",
        "print(job_data[:5000]) # Print first 500 characters\n"
      ]
    },
    {
      "cell_type": "code",
      "execution_count": 68,
      "metadata": {
        "id": "gF3cKExwOuHd"
      },
      "outputs": [],
      "source": [
        "# Generate prompt with job data\n",
        "#\n",
        "system_prompt = f\"\"\"\n",
        "You are an AI assistant specializing in analyzing job data to understand a company's strategic focus and workforce priorities.\n",
        "Given multiple job postings with roles, objectives, technologies, skills, and summaries, your task is to generate a comprehensive markdown summary\n",
        "detailing the overall nature of the job roles and what the company is focusing on. And remember, this is an analysis, so be detailed and concise,\n",
        "and above all else, do not hallucinate.\n",
        "\n",
        "Use the following outline to structure the analysis:\n",
        "\n",
        "1. **Introduction**\n",
        "Provide an introduction about TikTok’s current focus and strategic areas based on the job data analyzed.\n",
        "\n",
        "2. **Job Roles and Objectives**\n",
        "Summarize the main job roles within the data set, detailing the key objectives of these roles. Highlight common themes and areas of strategic emphasis.\n",
        "\n",
        "3. **Technologies and Tools**\n",
        "Identify the technologies and tools most frequently mentioned across the job posts. Explain how these technologies contribute to TikTok’s overall strategy.\n",
        "\n",
        "4. **Skills in Demand**\n",
        "Outline the critical skills that TikTok seeks in its employees, both technical and soft skills. Discuss how these skills align with the company’s objectives.\n",
        "\n",
        "5. **Strategic Focus Areas**\n",
        "Discuss what the job data suggests about TikTok’s strategic focus.\n",
        "\n",
        "6. **Categories**\n",
        "Discuss the most applicable categories to which this job posting belongs.\n",
        "\n",
        "7. **Team**\n",
        "Discuss the team wherein the employee will work.\n",
        "\n",
        "8. **GenAI**\n",
        "Discuss whether or not a job post concerns Generative AI (GenAI) both in terms of the technologies used and the use case at hand.\n",
        "\n",
        "9. **Evolution of TikTok AI staffing practices**\n",
        "Provide an analysis of the way TikTok's AI professional hiring practices have changed, highlighting any emerging trends or notable observations.\n",
        "\n",
        "10. **Conclusion**\n",
        "Provide a conclusion summarizing TikTok’s overarching goals based on the job data, highlighting any emerging trends or notable observations.\n",
        "\n",
        "**Output Format**: Provide a markdown-formatted analysis based on the data.\n",
        "\"\"\"\n"
      ]
    },
    {
      "cell_type": "code",
      "execution_count": 90,
      "metadata": {
        "colab": {
          "base_uri": "https://localhost:8080/"
        },
        "id": "VLMQCHVN7547",
        "outputId": "89afec74-d995-4b86-adb8-9971a51fddf6"
      },
      "outputs": [
        {
          "output_type": "stream",
          "name": "stdout",
          "text": [
            "Number of tokens in the prompt: 121107\n"
          ]
        }
      ],
      "source": [
        "# Calculate the number of tokens we'll be sending to the model in our job_data prompt\n",
        "#\n",
        "# Choose the appropriate model's tokenizer\n",
        "encoding = tiktoken.encoding_for_model(\"gpt-4o-mini\")  # or whatever mode model\n",
        "\n",
        "# Encode the prompt to get the list of tokens\n",
        "tokens = encoding.encode(system_prompt + job_data)\n",
        "\n",
        "# Calculate the number of tokens\n",
        "num_tokens = len(tokens)\n",
        "\n",
        "print(f\"Number of tokens in the prompt: {num_tokens}\")\n"
      ]
    },
    {
      "cell_type": "code",
      "execution_count": 91,
      "metadata": {
        "id": "pcLKeRFx9irr"
      },
      "outputs": [],
      "source": [
        "# prompt: save job_data to a text file\n",
        "#\n",
        "with open('/content/gdrive/MyDrive/Colab Notebooks/Datasets/tik_tok_job_data_13sep24_sampled.txt', 'w') as f:\n",
        "  f.write(job_data)\n"
      ]
    },
    {
      "cell_type": "code",
      "execution_count": 93,
      "metadata": {
        "id": "k2SEJJ24QjtF"
      },
      "outputs": [],
      "source": [
        "# set up inference\n",
        "#\n",
        "def analyze_vendor_jobs(system_prompt, job_data):\n",
        "    completion = client.beta.chat.completions.parse(\n",
        "    model=\"gpt-4o-mini\",\n",
        "    messages=[\n",
        "            {\"role\": \"system\", \"content\": system_prompt},\n",
        "            {\"role\": \"user\", \"content\": job_data},\n",
        "        ],\n",
        "    )\n",
        "    return completion.choices[0].message.content\n",
        ""
      ]
    },
    {
      "cell_type": "code",
      "source": [
        "# Run analysis\n",
        "#\n",
        "%%time\n",
        "analysis = analyze_vendor_jobs(system_prompt, job_data)\n"
      ],
      "metadata": {
        "colab": {
          "base_uri": "https://localhost:8080/"
        },
        "id": "U2iw_bq8NFSc",
        "outputId": "497534d8-02b8-4698-8823-3f8af3785a8a"
      },
      "execution_count": 94,
      "outputs": [
        {
          "output_type": "stream",
          "name": "stdout",
          "text": [
            "CPU times: user 292 ms, sys: 40.8 ms, total: 332 ms\n",
            "Wall time: 50.8 s\n"
          ]
        }
      ]
    },
    {
      "cell_type": "code",
      "source": [
        "# Show results\n",
        "#\n",
        "print(analysis)"
      ],
      "metadata": {
        "colab": {
          "base_uri": "https://localhost:8080/"
        },
        "id": "uQEsHmjtNJzM",
        "outputId": "75465220-fb05-4cfb-c099-9bf835b359c2"
      },
      "execution_count": 95,
      "outputs": [
        {
          "output_type": "stream",
          "name": "stdout",
          "text": [
            "# TikTok Job Data Analysis\n",
            "\n",
            "## 1. Introduction\n",
            "Based on the analysis of TikTok's job postings, it is evident that the company is heavily invested in advancing its technological capabilities, particularly in automation, machine learning, and data analytics. The growing demand for roles that emphasize user experience, safety, and e-commerce functionalities indicates TikTok's efforts to maintain its competitive edge in the ever-evolving digital landscape.\n",
            "\n",
            "## 2. Job Roles and Objectives\n",
            "The job postings reflect a diverse spectrum of roles, including:\n",
            "- **Software Engineers**: Focused on building scalable systems supporting diverse functionalities, especially around e-commerce and ads.\n",
            "- **Data Scientists**: Engaged in analytics, risk management, and product insights, driving data-informed decisions.\n",
            "- **Machine Learning Engineers**: Concentrated on improving models and algorithms for recommendation systems, ads delivery, and content safety.\n",
            "- **Engineers in Infrastructure, Security, and Operations**: Working towards ensuring system reliability and compliance.\n",
            "The common theme across these roles is the integration of complex data systems to support TikTok's core products, enhance user experiences, and uphold content security.\n",
            "\n",
            "## 3. Technologies and Tools\n",
            "Key technologies repeatedly mentioned include:\n",
            "- Programming Languages: Python, C++, Java, Go, SQL.\n",
            "- Data Processing and Machine Learning Frameworks: TensorFlow, PyTorch, MXNet, Spark, Hadoop.\n",
            "- Tools for Data Visualization and Management: Tableau, Power BI, Hive.\n",
            "- Emphasis on cloud-based platforms and big data architectures is prevalent, indicating TikTok's reliance on scalable infrastructures to handle data efficiently.\n",
            "\n",
            "The focus on machine learning, particularly for recommendation systems and ads ranking algorithms, is notable and aligns with TikTok's strategic goals in personalization and advertising efficiency.\n",
            "\n",
            "## 4. Skills in Demand\n",
            "Critical skills sought by TikTok include:\n",
            "- **Technical Skills**: Machine learning, deep learning, big data technologies, data analysis, programming, and software development.\n",
            "- **Interpersonal Skills**: Collaboration, communication, stakeholder engagement, and project management.\n",
            "- **Analytical Skills**: Critical thinking, problem-solving, and business intelligence capabilities.\n",
            "\n",
            "These skills collectively support TikTok's objectives of using data to drive product development and optimize user experiences effectively.\n",
            "\n",
            "## 5. Strategic Focus Areas\n",
            "The analysis indicates several strategic areas for TikTok:\n",
            "- **User Experience Optimization**: Many roles aim to improve user interactions with the platform, highlighting a user-centric approach in product offerings.\n",
            "- **Content and Account Safety**: Positions focused on trust and safety signal TikTok's proactive stance in identifying and mitigating abuse and inauthentic behaviors.\n",
            "- **E-commerce Integration**: A significant focus is seen on enhancing e-commerce functionalities and recommendations to ensure a seamless shopping experience for users.\n",
            "\n",
            "## 6. Categories\n",
            "The most applicable categories identified include:\n",
            "- **Data Science**: Encompassing a wide range of roles focused on analytics, machine learning, and operational data management.\n",
            "- **Engineering**: Covering software, backend, and systems engineering roles that prioritize scalability and efficiency.\n",
            "- **Trust and Safety**: Categories associated with risk management and content integrity uphold TikTok's commitment to user safety.\n",
            "- **E-Commerce and Monetization**: Demonstrating TikTok's intention to leverage its platform for business growth.\n",
            "\n",
            "## 7. Team\n",
            "Employees at TikTok will work in diverse teams like:\n",
            "- **E-Commerce Growth Team**: Focused on enhancing user experiences in online shopping.\n",
            "- **Trust and Safety Teams**: Dedicated to developing mechanisms that ensure the safety of users and content.\n",
            "- **Data Science and Analytics Teams**: Concentrated on driving business decisions through rigorous data analysis.\n",
            "\n",
            "The variety of team structures reflects TikTok's multi-faceted approach to product development and operational strategies.\n",
            "\n",
            "## 8. GenAI\n",
            "While several roles reference machine learning and AI, only a few specifically mention Generative AI (GenAI) technologies, such as in positions related to music and content creation. However, GenAI is not a predominant focus in the current job postings. Most roles emphasize improving existing systems or developing applications based on well-established machine learning techniques.\n",
            "\n",
            "## 9. Evolution of TikTok AI Staffing Practices\n",
            "There is a noticeable trend toward integrating machine learning into all facets of TikTok's operations. Recruitments have increasingly scrutinized for candidates who bring advanced machine learning expertise to enhance tasks like user personalization and ad relevance. Moreover, collaborative roles involving cross-functional teams have proliferated, highlighting the importance of teamwork in successful AI adoption.\n",
            "\n",
            "## 10. Conclusion\n",
            "TikTok's job data illustrates a strong emphasis on technology-driven roles that prioritize user experience, safety, and strategic growth in e-commerce. The continual investment in machine learning and data sciences aligns with their goal of maintaining an engaging platform while ensuring user trust and safety. The diversity of roles and the strategic focus on collaborative, skill-driven hires will likely propel TikTok further in its mission to innovate in the digital content and e-commerce landscape.\n"
          ]
        }
      ]
    }
  ],
  "metadata": {
    "colab": {
      "provenance": [],
      "include_colab_link": true
    },
    "kernelspec": {
      "display_name": "Python 3",
      "name": "python3"
    },
    "language_info": {
      "name": "python"
    }
  },
  "nbformat": 4,
  "nbformat_minor": 0
}